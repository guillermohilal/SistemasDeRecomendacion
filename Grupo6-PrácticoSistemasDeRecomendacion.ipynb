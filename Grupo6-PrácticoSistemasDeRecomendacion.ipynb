{
  "nbformat": 4,
  "nbformat_minor": 0,
  "metadata": {
    "colab": {
      "name": "PrácticoSistemasDeRecomendacion",
      "provenance": [],
      "collapsed_sections": []
    },
    "kernelspec": {
      "display_name": "Python 3",
      "language": "python",
      "name": "python3"
    },
    "language_info": {
      "codemirror_mode": {
        "name": "ipython",
        "version": 3
      },
      "file_extension": ".py",
      "mimetype": "text/x-python",
      "name": "python",
      "nbconvert_exporter": "python",
      "pygments_lexer": "ipython3",
      "version": "3.7.6"
    },
    "widgets": {
      "application/vnd.jupyter.widget-state+json": {
        "12ab217f1bae490f8a6ddb56a5dabe53": {
          "model_module": "@jupyter-widgets/controls",
          "model_name": "HBoxModel",
          "state": {
            "_view_name": "HBoxView",
            "_dom_classes": [],
            "_model_name": "HBoxModel",
            "_view_module": "@jupyter-widgets/controls",
            "_model_module_version": "1.5.0",
            "_view_count": null,
            "_view_module_version": "1.5.0",
            "box_style": "",
            "layout": "IPY_MODEL_b026b0def7ee42b9b8f561b4595b88a2",
            "_model_module": "@jupyter-widgets/controls",
            "children": [
              "IPY_MODEL_a452663f89b44177a111fde3e9724697",
              "IPY_MODEL_b9e56cea46b74d8884736c8acc434da8"
            ]
          }
        },
        "b026b0def7ee42b9b8f561b4595b88a2": {
          "model_module": "@jupyter-widgets/base",
          "model_name": "LayoutModel",
          "state": {
            "_view_name": "LayoutView",
            "grid_template_rows": null,
            "right": null,
            "justify_content": null,
            "_view_module": "@jupyter-widgets/base",
            "overflow": null,
            "_model_module_version": "1.2.0",
            "_view_count": null,
            "flex_flow": null,
            "width": null,
            "min_width": null,
            "border": null,
            "align_items": null,
            "bottom": null,
            "_model_module": "@jupyter-widgets/base",
            "top": null,
            "grid_column": null,
            "overflow_y": null,
            "overflow_x": null,
            "grid_auto_flow": null,
            "grid_area": null,
            "grid_template_columns": null,
            "flex": null,
            "_model_name": "LayoutModel",
            "justify_items": null,
            "grid_row": null,
            "max_height": null,
            "align_content": null,
            "visibility": null,
            "align_self": null,
            "height": null,
            "min_height": null,
            "padding": null,
            "grid_auto_rows": null,
            "grid_gap": null,
            "max_width": null,
            "order": null,
            "_view_module_version": "1.2.0",
            "grid_template_areas": null,
            "object_position": null,
            "object_fit": null,
            "grid_auto_columns": null,
            "margin": null,
            "display": null,
            "left": null
          }
        },
        "a452663f89b44177a111fde3e9724697": {
          "model_module": "@jupyter-widgets/controls",
          "model_name": "FloatProgressModel",
          "state": {
            "_view_name": "ProgressView",
            "style": "IPY_MODEL_daf20712f71647079f01fc2c12ff2d0b",
            "_dom_classes": [],
            "description": "100%",
            "_model_name": "FloatProgressModel",
            "bar_style": "success",
            "max": 74267,
            "_view_module": "@jupyter-widgets/controls",
            "_model_module_version": "1.5.0",
            "value": 74267,
            "_view_count": null,
            "_view_module_version": "1.5.0",
            "orientation": "horizontal",
            "min": 0,
            "description_tooltip": null,
            "_model_module": "@jupyter-widgets/controls",
            "layout": "IPY_MODEL_7d825c58167942c1ae37c1e602d2f3ce"
          }
        },
        "b9e56cea46b74d8884736c8acc434da8": {
          "model_module": "@jupyter-widgets/controls",
          "model_name": "HTMLModel",
          "state": {
            "_view_name": "HTMLView",
            "style": "IPY_MODEL_6cf4f51e7b96423996a6b68de9624a37",
            "_dom_classes": [],
            "description": "",
            "_model_name": "HTMLModel",
            "placeholder": "​",
            "_view_module": "@jupyter-widgets/controls",
            "_model_module_version": "1.5.0",
            "value": " 74267/74267 [08:00&lt;00:00, 154.65it/s]",
            "_view_count": null,
            "_view_module_version": "1.5.0",
            "description_tooltip": null,
            "_model_module": "@jupyter-widgets/controls",
            "layout": "IPY_MODEL_a0ffa4e1a12643358dac80d60025a276"
          }
        },
        "daf20712f71647079f01fc2c12ff2d0b": {
          "model_module": "@jupyter-widgets/controls",
          "model_name": "ProgressStyleModel",
          "state": {
            "_view_name": "StyleView",
            "_model_name": "ProgressStyleModel",
            "description_width": "initial",
            "_view_module": "@jupyter-widgets/base",
            "_model_module_version": "1.5.0",
            "_view_count": null,
            "_view_module_version": "1.2.0",
            "bar_color": null,
            "_model_module": "@jupyter-widgets/controls"
          }
        },
        "7d825c58167942c1ae37c1e602d2f3ce": {
          "model_module": "@jupyter-widgets/base",
          "model_name": "LayoutModel",
          "state": {
            "_view_name": "LayoutView",
            "grid_template_rows": null,
            "right": null,
            "justify_content": null,
            "_view_module": "@jupyter-widgets/base",
            "overflow": null,
            "_model_module_version": "1.2.0",
            "_view_count": null,
            "flex_flow": null,
            "width": null,
            "min_width": null,
            "border": null,
            "align_items": null,
            "bottom": null,
            "_model_module": "@jupyter-widgets/base",
            "top": null,
            "grid_column": null,
            "overflow_y": null,
            "overflow_x": null,
            "grid_auto_flow": null,
            "grid_area": null,
            "grid_template_columns": null,
            "flex": null,
            "_model_name": "LayoutModel",
            "justify_items": null,
            "grid_row": null,
            "max_height": null,
            "align_content": null,
            "visibility": null,
            "align_self": null,
            "height": null,
            "min_height": null,
            "padding": null,
            "grid_auto_rows": null,
            "grid_gap": null,
            "max_width": null,
            "order": null,
            "_view_module_version": "1.2.0",
            "grid_template_areas": null,
            "object_position": null,
            "object_fit": null,
            "grid_auto_columns": null,
            "margin": null,
            "display": null,
            "left": null
          }
        },
        "6cf4f51e7b96423996a6b68de9624a37": {
          "model_module": "@jupyter-widgets/controls",
          "model_name": "DescriptionStyleModel",
          "state": {
            "_view_name": "StyleView",
            "_model_name": "DescriptionStyleModel",
            "description_width": "",
            "_view_module": "@jupyter-widgets/base",
            "_model_module_version": "1.5.0",
            "_view_count": null,
            "_view_module_version": "1.2.0",
            "_model_module": "@jupyter-widgets/controls"
          }
        },
        "a0ffa4e1a12643358dac80d60025a276": {
          "model_module": "@jupyter-widgets/base",
          "model_name": "LayoutModel",
          "state": {
            "_view_name": "LayoutView",
            "grid_template_rows": null,
            "right": null,
            "justify_content": null,
            "_view_module": "@jupyter-widgets/base",
            "overflow": null,
            "_model_module_version": "1.2.0",
            "_view_count": null,
            "flex_flow": null,
            "width": null,
            "min_width": null,
            "border": null,
            "align_items": null,
            "bottom": null,
            "_model_module": "@jupyter-widgets/base",
            "top": null,
            "grid_column": null,
            "overflow_y": null,
            "overflow_x": null,
            "grid_auto_flow": null,
            "grid_area": null,
            "grid_template_columns": null,
            "flex": null,
            "_model_name": "LayoutModel",
            "justify_items": null,
            "grid_row": null,
            "max_height": null,
            "align_content": null,
            "visibility": null,
            "align_self": null,
            "height": null,
            "min_height": null,
            "padding": null,
            "grid_auto_rows": null,
            "grid_gap": null,
            "max_width": null,
            "order": null,
            "_view_module_version": "1.2.0",
            "grid_template_areas": null,
            "object_position": null,
            "object_fit": null,
            "grid_auto_columns": null,
            "margin": null,
            "display": null,
            "left": null
          }
        },
        "945c2a4ae0ba413eba4cb9cd09a70eb0": {
          "model_module": "@jupyter-widgets/controls",
          "model_name": "HBoxModel",
          "state": {
            "_view_name": "HBoxView",
            "_dom_classes": [],
            "_model_name": "HBoxModel",
            "_view_module": "@jupyter-widgets/controls",
            "_model_module_version": "1.5.0",
            "_view_count": null,
            "_view_module_version": "1.5.0",
            "box_style": "",
            "layout": "IPY_MODEL_d2349a8399fa4e42bcc0dd9b1c8da20d",
            "_model_module": "@jupyter-widgets/controls",
            "children": [
              "IPY_MODEL_f4dcb7433d5743aeb60c8f06365d17cd",
              "IPY_MODEL_0629b140d9dc4d06b555f19c43c6f415"
            ]
          }
        },
        "d2349a8399fa4e42bcc0dd9b1c8da20d": {
          "model_module": "@jupyter-widgets/base",
          "model_name": "LayoutModel",
          "state": {
            "_view_name": "LayoutView",
            "grid_template_rows": null,
            "right": null,
            "justify_content": null,
            "_view_module": "@jupyter-widgets/base",
            "overflow": null,
            "_model_module_version": "1.2.0",
            "_view_count": null,
            "flex_flow": null,
            "width": null,
            "min_width": null,
            "border": null,
            "align_items": null,
            "bottom": null,
            "_model_module": "@jupyter-widgets/base",
            "top": null,
            "grid_column": null,
            "overflow_y": null,
            "overflow_x": null,
            "grid_auto_flow": null,
            "grid_area": null,
            "grid_template_columns": null,
            "flex": null,
            "_model_name": "LayoutModel",
            "justify_items": null,
            "grid_row": null,
            "max_height": null,
            "align_content": null,
            "visibility": null,
            "align_self": null,
            "height": null,
            "min_height": null,
            "padding": null,
            "grid_auto_rows": null,
            "grid_gap": null,
            "max_width": null,
            "order": null,
            "_view_module_version": "1.2.0",
            "grid_template_areas": null,
            "object_position": null,
            "object_fit": null,
            "grid_auto_columns": null,
            "margin": null,
            "display": null,
            "left": null
          }
        },
        "f4dcb7433d5743aeb60c8f06365d17cd": {
          "model_module": "@jupyter-widgets/controls",
          "model_name": "FloatProgressModel",
          "state": {
            "_view_name": "ProgressView",
            "style": "IPY_MODEL_eaee379d5a0f4cef95dd58bb80cd1da4",
            "_dom_classes": [],
            "description": "100%",
            "_model_name": "FloatProgressModel",
            "bar_style": "success",
            "max": 18567,
            "_view_module": "@jupyter-widgets/controls",
            "_model_module_version": "1.5.0",
            "value": 18567,
            "_view_count": null,
            "_view_module_version": "1.5.0",
            "orientation": "horizontal",
            "min": 0,
            "description_tooltip": null,
            "_model_module": "@jupyter-widgets/controls",
            "layout": "IPY_MODEL_3a4190877eb2484b99f3a814af96dcae"
          }
        },
        "0629b140d9dc4d06b555f19c43c6f415": {
          "model_module": "@jupyter-widgets/controls",
          "model_name": "HTMLModel",
          "state": {
            "_view_name": "HTMLView",
            "style": "IPY_MODEL_9999369485a74017a7e85389be923059",
            "_dom_classes": [],
            "description": "",
            "_model_name": "HTMLModel",
            "placeholder": "​",
            "_view_module": "@jupyter-widgets/controls",
            "_model_module_version": "1.5.0",
            "value": " 18567/18567 [01:59&lt;00:00, 155.87it/s]",
            "_view_count": null,
            "_view_module_version": "1.5.0",
            "description_tooltip": null,
            "_model_module": "@jupyter-widgets/controls",
            "layout": "IPY_MODEL_6b3298377ea141c68541610a211e1ea2"
          }
        },
        "eaee379d5a0f4cef95dd58bb80cd1da4": {
          "model_module": "@jupyter-widgets/controls",
          "model_name": "ProgressStyleModel",
          "state": {
            "_view_name": "StyleView",
            "_model_name": "ProgressStyleModel",
            "description_width": "initial",
            "_view_module": "@jupyter-widgets/base",
            "_model_module_version": "1.5.0",
            "_view_count": null,
            "_view_module_version": "1.2.0",
            "bar_color": null,
            "_model_module": "@jupyter-widgets/controls"
          }
        },
        "3a4190877eb2484b99f3a814af96dcae": {
          "model_module": "@jupyter-widgets/base",
          "model_name": "LayoutModel",
          "state": {
            "_view_name": "LayoutView",
            "grid_template_rows": null,
            "right": null,
            "justify_content": null,
            "_view_module": "@jupyter-widgets/base",
            "overflow": null,
            "_model_module_version": "1.2.0",
            "_view_count": null,
            "flex_flow": null,
            "width": null,
            "min_width": null,
            "border": null,
            "align_items": null,
            "bottom": null,
            "_model_module": "@jupyter-widgets/base",
            "top": null,
            "grid_column": null,
            "overflow_y": null,
            "overflow_x": null,
            "grid_auto_flow": null,
            "grid_area": null,
            "grid_template_columns": null,
            "flex": null,
            "_model_name": "LayoutModel",
            "justify_items": null,
            "grid_row": null,
            "max_height": null,
            "align_content": null,
            "visibility": null,
            "align_self": null,
            "height": null,
            "min_height": null,
            "padding": null,
            "grid_auto_rows": null,
            "grid_gap": null,
            "max_width": null,
            "order": null,
            "_view_module_version": "1.2.0",
            "grid_template_areas": null,
            "object_position": null,
            "object_fit": null,
            "grid_auto_columns": null,
            "margin": null,
            "display": null,
            "left": null
          }
        },
        "9999369485a74017a7e85389be923059": {
          "model_module": "@jupyter-widgets/controls",
          "model_name": "DescriptionStyleModel",
          "state": {
            "_view_name": "StyleView",
            "_model_name": "DescriptionStyleModel",
            "description_width": "",
            "_view_module": "@jupyter-widgets/base",
            "_model_module_version": "1.5.0",
            "_view_count": null,
            "_view_module_version": "1.2.0",
            "_model_module": "@jupyter-widgets/controls"
          }
        },
        "6b3298377ea141c68541610a211e1ea2": {
          "model_module": "@jupyter-widgets/base",
          "model_name": "LayoutModel",
          "state": {
            "_view_name": "LayoutView",
            "grid_template_rows": null,
            "right": null,
            "justify_content": null,
            "_view_module": "@jupyter-widgets/base",
            "overflow": null,
            "_model_module_version": "1.2.0",
            "_view_count": null,
            "flex_flow": null,
            "width": null,
            "min_width": null,
            "border": null,
            "align_items": null,
            "bottom": null,
            "_model_module": "@jupyter-widgets/base",
            "top": null,
            "grid_column": null,
            "overflow_y": null,
            "overflow_x": null,
            "grid_auto_flow": null,
            "grid_area": null,
            "grid_template_columns": null,
            "flex": null,
            "_model_name": "LayoutModel",
            "justify_items": null,
            "grid_row": null,
            "max_height": null,
            "align_content": null,
            "visibility": null,
            "align_self": null,
            "height": null,
            "min_height": null,
            "padding": null,
            "grid_auto_rows": null,
            "grid_gap": null,
            "max_width": null,
            "order": null,
            "_view_module_version": "1.2.0",
            "grid_template_areas": null,
            "object_position": null,
            "object_fit": null,
            "grid_auto_columns": null,
            "margin": null,
            "display": null,
            "left": null
          }
        }
      }
    }
  },
  "cells": [
    {
      "cell_type": "markdown",
      "metadata": {
        "id": "1Ze6_0KZOlYa"
      },
      "source": [
        "# Práctico: Recomendación de Artistas\r\n",
        "\r\n",
        "En este práctico trabajaremos con el conjuto de datos de [LastFM](https://grouplens.org/datasets/hetrec-2011/) para el desarrollo de un sistema de recomendación que, dado el nombre de un artista musical, devuelve una lista de artistas \"similares\".\r\n",
        "\r\n",
        "Para el práctico utilizaremos el conjunto de datos de LastFM que consiguieron del [notebook de instalación](./instalacion.ipynb). Se recomienda leer el [Readme](http://files.grouplens.org/datasets/hetrec2011/hetrec2011-lastfm-readme.txt) de los datos para saber más sobre que información contiene cada archivo."
      ]
    },
    {
      "cell_type": "code",
      "metadata": {
        "colab": {
          "resources": {
            "http://localhost:8080/nbextensions/google.colab/files.js": {
              "data": "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",
              "ok": true,
              "headers": [
                [
                  "content-type",
                  "application/javascript"
                ]
              ],
              "status": 200,
              "status_text": ""
            }
          },
          "base_uri": "https://localhost:8080/",
          "height": 349
        },
        "id": "ugCB6ExQR2jW",
        "outputId": "0c29f70f-7ea4-4e5c-ba02-df545ba17b42"
      },
      "source": [
        "from google.colab import files\r\n",
        "\r\n",
        "uploaded = files.upload()\r\n",
        "\r\n",
        "for fn in uploaded.keys():\r\n",
        "  print('User uploaded file \"{name}\" with length {length} bytes'.format(\r\n",
        "      name=fn, length=len(uploaded[fn])))"
      ],
      "execution_count": null,
      "outputs": [
        {
          "output_type": "display_data",
          "data": {
            "text/html": [
              "\n",
              "     <input type=\"file\" id=\"files-5d907578-e13f-4206-a186-020cbd76d142\" name=\"files[]\" multiple disabled\n",
              "        style=\"border:none\" />\n",
              "     <output id=\"result-5d907578-e13f-4206-a186-020cbd76d142\">\n",
              "      Upload widget is only available when the cell has been executed in the\n",
              "      current browser session. Please rerun this cell to enable.\n",
              "      </output>\n",
              "      <script src=\"/nbextensions/google.colab/files.js\"></script> "
            ],
            "text/plain": [
              "<IPython.core.display.HTML object>"
            ]
          },
          "metadata": {
            "tags": []
          }
        },
        {
          "output_type": "stream",
          "text": [
            "Saving artists.dat to artists.dat\n",
            "Saving tags.dat to tags.dat\n",
            "Saving user_artists.dat to user_artists.dat\n",
            "Saving user_friends.dat to user_friends.dat\n",
            "Saving user_taggedartists.dat to user_taggedartists.dat\n",
            "Saving user_taggedartists-timestamps.dat to user_taggedartists-timestamps.dat\n",
            "User uploaded file \"artists.dat\" with length 1925879 bytes\n",
            "User uploaded file \"tags.dat\" with length 234468 bytes\n",
            "User uploaded file \"user_artists.dat\" with length 1296455 bytes\n",
            "User uploaded file \"user_friends.dat\" with length 251565 bytes\n",
            "User uploaded file \"user_taggedartists.dat\" with length 4366696 bytes\n",
            "User uploaded file \"user_taggedartists-timestamps.dat\" with length 5249917 bytes\n"
          ],
          "name": "stdout"
        }
      ]
    },
    {
      "cell_type": "code",
      "metadata": {
        "colab": {
          "base_uri": "https://localhost:8080/"
        },
        "id": "2yHHEaoyR6lw",
        "outputId": "39f9d310-45bc-4ee7-a3c1-f53b2f2295bb"
      },
      "source": [
        "from google.colab import drive\r\n",
        "drive.mount('/content/drive')"
      ],
      "execution_count": null,
      "outputs": [
        {
          "output_type": "stream",
          "text": [
            "Mounted at /content/drive\n"
          ],
          "name": "stdout"
        }
      ]
    },
    {
      "cell_type": "code",
      "metadata": {
        "id": "jE2pqkCZOMUH"
      },
      "source": [
        "import pandas as pd"
      ],
      "execution_count": null,
      "outputs": []
    },
    {
      "cell_type": "code",
      "metadata": {
        "colab": {
          "base_uri": "https://localhost:8080/",
          "height": 589
        },
        "id": "Ov6lQiefOMQr",
        "outputId": "f970966c-5c1b-4c19-f25e-7c1f9e696117"
      },
      "source": [
        "artist_data = pd.read_csv(\"artists.dat\", sep=\"\\t\")\r\n",
        "artist_data"
      ],
      "execution_count": null,
      "outputs": [
        {
          "output_type": "execute_result",
          "data": {
            "text/html": [
              "<div>\n",
              "<style scoped>\n",
              "    .dataframe tbody tr th:only-of-type {\n",
              "        vertical-align: middle;\n",
              "    }\n",
              "\n",
              "    .dataframe tbody tr th {\n",
              "        vertical-align: top;\n",
              "    }\n",
              "\n",
              "    .dataframe thead th {\n",
              "        text-align: right;\n",
              "    }\n",
              "</style>\n",
              "<table border=\"1\" class=\"dataframe\">\n",
              "  <thead>\n",
              "    <tr style=\"text-align: right;\">\n",
              "      <th></th>\n",
              "      <th>id</th>\n",
              "      <th>name</th>\n",
              "      <th>url</th>\n",
              "      <th>pictureURL</th>\n",
              "    </tr>\n",
              "  </thead>\n",
              "  <tbody>\n",
              "    <tr>\n",
              "      <th>0</th>\n",
              "      <td>1</td>\n",
              "      <td>MALICE MIZER</td>\n",
              "      <td>http://www.last.fm/music/MALICE+MIZER</td>\n",
              "      <td>http://userserve-ak.last.fm/serve/252/10808.jpg</td>\n",
              "    </tr>\n",
              "    <tr>\n",
              "      <th>1</th>\n",
              "      <td>2</td>\n",
              "      <td>Diary of Dreams</td>\n",
              "      <td>http://www.last.fm/music/Diary+of+Dreams</td>\n",
              "      <td>http://userserve-ak.last.fm/serve/252/3052066.jpg</td>\n",
              "    </tr>\n",
              "    <tr>\n",
              "      <th>2</th>\n",
              "      <td>3</td>\n",
              "      <td>Carpathian Forest</td>\n",
              "      <td>http://www.last.fm/music/Carpathian+Forest</td>\n",
              "      <td>http://userserve-ak.last.fm/serve/252/40222717...</td>\n",
              "    </tr>\n",
              "    <tr>\n",
              "      <th>3</th>\n",
              "      <td>4</td>\n",
              "      <td>Moi dix Mois</td>\n",
              "      <td>http://www.last.fm/music/Moi+dix+Mois</td>\n",
              "      <td>http://userserve-ak.last.fm/serve/252/54697835...</td>\n",
              "    </tr>\n",
              "    <tr>\n",
              "      <th>4</th>\n",
              "      <td>5</td>\n",
              "      <td>Bella Morte</td>\n",
              "      <td>http://www.last.fm/music/Bella+Morte</td>\n",
              "      <td>http://userserve-ak.last.fm/serve/252/14789013...</td>\n",
              "    </tr>\n",
              "    <tr>\n",
              "      <th>...</th>\n",
              "      <td>...</td>\n",
              "      <td>...</td>\n",
              "      <td>...</td>\n",
              "      <td>...</td>\n",
              "    </tr>\n",
              "    <tr>\n",
              "      <th>17627</th>\n",
              "      <td>18741</td>\n",
              "      <td>Diamanda Galás</td>\n",
              "      <td>http://www.last.fm/music/Diamanda+Gal%C3%A1s</td>\n",
              "      <td>http://userserve-ak.last.fm/serve/252/16352971...</td>\n",
              "    </tr>\n",
              "    <tr>\n",
              "      <th>17628</th>\n",
              "      <td>18742</td>\n",
              "      <td>Aya RL</td>\n",
              "      <td>http://www.last.fm/music/Aya+RL</td>\n",
              "      <td>http://userserve-ak.last.fm/serve/252/207445.jpg</td>\n",
              "    </tr>\n",
              "    <tr>\n",
              "      <th>17629</th>\n",
              "      <td>18743</td>\n",
              "      <td>Coptic Rain</td>\n",
              "      <td>http://www.last.fm/music/Coptic+Rain</td>\n",
              "      <td>http://userserve-ak.last.fm/serve/252/344868.jpg</td>\n",
              "    </tr>\n",
              "    <tr>\n",
              "      <th>17630</th>\n",
              "      <td>18744</td>\n",
              "      <td>Oz Alchemist</td>\n",
              "      <td>http://www.last.fm/music/Oz+Alchemist</td>\n",
              "      <td>http://userserve-ak.last.fm/serve/252/29297695...</td>\n",
              "    </tr>\n",
              "    <tr>\n",
              "      <th>17631</th>\n",
              "      <td>18745</td>\n",
              "      <td>Grzegorz Tomczak</td>\n",
              "      <td>http://www.last.fm/music/Grzegorz+Tomczak</td>\n",
              "      <td>http://userserve-ak.last.fm/serve/252/59486303...</td>\n",
              "    </tr>\n",
              "  </tbody>\n",
              "</table>\n",
              "<p>17632 rows × 4 columns</p>\n",
              "</div>"
            ],
            "text/plain": [
              "          id  ...                                         pictureURL\n",
              "0          1  ...    http://userserve-ak.last.fm/serve/252/10808.jpg\n",
              "1          2  ...  http://userserve-ak.last.fm/serve/252/3052066.jpg\n",
              "2          3  ...  http://userserve-ak.last.fm/serve/252/40222717...\n",
              "3          4  ...  http://userserve-ak.last.fm/serve/252/54697835...\n",
              "4          5  ...  http://userserve-ak.last.fm/serve/252/14789013...\n",
              "...      ...  ...                                                ...\n",
              "17627  18741  ...  http://userserve-ak.last.fm/serve/252/16352971...\n",
              "17628  18742  ...   http://userserve-ak.last.fm/serve/252/207445.jpg\n",
              "17629  18743  ...   http://userserve-ak.last.fm/serve/252/344868.jpg\n",
              "17630  18744  ...  http://userserve-ak.last.fm/serve/252/29297695...\n",
              "17631  18745  ...  http://userserve-ak.last.fm/serve/252/59486303...\n",
              "\n",
              "[17632 rows x 4 columns]"
            ]
          },
          "metadata": {
            "tags": []
          },
          "execution_count": 4
        }
      ]
    },
    {
      "cell_type": "code",
      "metadata": {
        "colab": {
          "base_uri": "https://localhost:8080/",
          "height": 416
        },
        "id": "kAIExOrZOMNc",
        "outputId": "9cb0b785-77ec-4e1a-d2de-171bc951469f"
      },
      "source": [
        "user_artist_plays = pd.read_csv(\"user_artists.dat\", sep=\"\\t\")\r\n",
        "user_artist_plays"
      ],
      "execution_count": null,
      "outputs": [
        {
          "output_type": "execute_result",
          "data": {
            "text/html": [
              "<div>\n",
              "<style scoped>\n",
              "    .dataframe tbody tr th:only-of-type {\n",
              "        vertical-align: middle;\n",
              "    }\n",
              "\n",
              "    .dataframe tbody tr th {\n",
              "        vertical-align: top;\n",
              "    }\n",
              "\n",
              "    .dataframe thead th {\n",
              "        text-align: right;\n",
              "    }\n",
              "</style>\n",
              "<table border=\"1\" class=\"dataframe\">\n",
              "  <thead>\n",
              "    <tr style=\"text-align: right;\">\n",
              "      <th></th>\n",
              "      <th>userID</th>\n",
              "      <th>artistID</th>\n",
              "      <th>weight</th>\n",
              "    </tr>\n",
              "  </thead>\n",
              "  <tbody>\n",
              "    <tr>\n",
              "      <th>0</th>\n",
              "      <td>2</td>\n",
              "      <td>51</td>\n",
              "      <td>13883</td>\n",
              "    </tr>\n",
              "    <tr>\n",
              "      <th>1</th>\n",
              "      <td>2</td>\n",
              "      <td>52</td>\n",
              "      <td>11690</td>\n",
              "    </tr>\n",
              "    <tr>\n",
              "      <th>2</th>\n",
              "      <td>2</td>\n",
              "      <td>53</td>\n",
              "      <td>11351</td>\n",
              "    </tr>\n",
              "    <tr>\n",
              "      <th>3</th>\n",
              "      <td>2</td>\n",
              "      <td>54</td>\n",
              "      <td>10300</td>\n",
              "    </tr>\n",
              "    <tr>\n",
              "      <th>4</th>\n",
              "      <td>2</td>\n",
              "      <td>55</td>\n",
              "      <td>8983</td>\n",
              "    </tr>\n",
              "    <tr>\n",
              "      <th>...</th>\n",
              "      <td>...</td>\n",
              "      <td>...</td>\n",
              "      <td>...</td>\n",
              "    </tr>\n",
              "    <tr>\n",
              "      <th>92829</th>\n",
              "      <td>2100</td>\n",
              "      <td>18726</td>\n",
              "      <td>337</td>\n",
              "    </tr>\n",
              "    <tr>\n",
              "      <th>92830</th>\n",
              "      <td>2100</td>\n",
              "      <td>18727</td>\n",
              "      <td>297</td>\n",
              "    </tr>\n",
              "    <tr>\n",
              "      <th>92831</th>\n",
              "      <td>2100</td>\n",
              "      <td>18728</td>\n",
              "      <td>281</td>\n",
              "    </tr>\n",
              "    <tr>\n",
              "      <th>92832</th>\n",
              "      <td>2100</td>\n",
              "      <td>18729</td>\n",
              "      <td>280</td>\n",
              "    </tr>\n",
              "    <tr>\n",
              "      <th>92833</th>\n",
              "      <td>2100</td>\n",
              "      <td>18730</td>\n",
              "      <td>263</td>\n",
              "    </tr>\n",
              "  </tbody>\n",
              "</table>\n",
              "<p>92834 rows × 3 columns</p>\n",
              "</div>"
            ],
            "text/plain": [
              "       userID  artistID  weight\n",
              "0           2        51   13883\n",
              "1           2        52   11690\n",
              "2           2        53   11351\n",
              "3           2        54   10300\n",
              "4           2        55    8983\n",
              "...       ...       ...     ...\n",
              "92829    2100     18726     337\n",
              "92830    2100     18727     297\n",
              "92831    2100     18728     281\n",
              "92832    2100     18729     280\n",
              "92833    2100     18730     263\n",
              "\n",
              "[92834 rows x 3 columns]"
            ]
          },
          "metadata": {
            "tags": []
          },
          "execution_count": 5
        }
      ]
    },
    {
      "cell_type": "code",
      "metadata": {
        "colab": {
          "base_uri": "https://localhost:8080/",
          "height": 416
        },
        "id": "dRM_WnIIOMET",
        "outputId": "b9c621cb-1e39-4e84-a957-29d1105045e5"
      },
      "source": [
        "user_taggedartists = pd.read_csv('user_taggedartists.dat', sep='\\t',  encoding='latin-1')\r\n",
        "user_taggedartists"
      ],
      "execution_count": null,
      "outputs": [
        {
          "output_type": "execute_result",
          "data": {
            "text/html": [
              "<div>\n",
              "<style scoped>\n",
              "    .dataframe tbody tr th:only-of-type {\n",
              "        vertical-align: middle;\n",
              "    }\n",
              "\n",
              "    .dataframe tbody tr th {\n",
              "        vertical-align: top;\n",
              "    }\n",
              "\n",
              "    .dataframe thead th {\n",
              "        text-align: right;\n",
              "    }\n",
              "</style>\n",
              "<table border=\"1\" class=\"dataframe\">\n",
              "  <thead>\n",
              "    <tr style=\"text-align: right;\">\n",
              "      <th></th>\n",
              "      <th>userID</th>\n",
              "      <th>artistID</th>\n",
              "      <th>tagID</th>\n",
              "      <th>day</th>\n",
              "      <th>month</th>\n",
              "      <th>year</th>\n",
              "    </tr>\n",
              "  </thead>\n",
              "  <tbody>\n",
              "    <tr>\n",
              "      <th>0</th>\n",
              "      <td>2</td>\n",
              "      <td>52</td>\n",
              "      <td>13</td>\n",
              "      <td>1</td>\n",
              "      <td>4</td>\n",
              "      <td>2009</td>\n",
              "    </tr>\n",
              "    <tr>\n",
              "      <th>1</th>\n",
              "      <td>2</td>\n",
              "      <td>52</td>\n",
              "      <td>15</td>\n",
              "      <td>1</td>\n",
              "      <td>4</td>\n",
              "      <td>2009</td>\n",
              "    </tr>\n",
              "    <tr>\n",
              "      <th>2</th>\n",
              "      <td>2</td>\n",
              "      <td>52</td>\n",
              "      <td>18</td>\n",
              "      <td>1</td>\n",
              "      <td>4</td>\n",
              "      <td>2009</td>\n",
              "    </tr>\n",
              "    <tr>\n",
              "      <th>3</th>\n",
              "      <td>2</td>\n",
              "      <td>52</td>\n",
              "      <td>21</td>\n",
              "      <td>1</td>\n",
              "      <td>4</td>\n",
              "      <td>2009</td>\n",
              "    </tr>\n",
              "    <tr>\n",
              "      <th>4</th>\n",
              "      <td>2</td>\n",
              "      <td>52</td>\n",
              "      <td>41</td>\n",
              "      <td>1</td>\n",
              "      <td>4</td>\n",
              "      <td>2009</td>\n",
              "    </tr>\n",
              "    <tr>\n",
              "      <th>...</th>\n",
              "      <td>...</td>\n",
              "      <td>...</td>\n",
              "      <td>...</td>\n",
              "      <td>...</td>\n",
              "      <td>...</td>\n",
              "      <td>...</td>\n",
              "    </tr>\n",
              "    <tr>\n",
              "      <th>186474</th>\n",
              "      <td>2100</td>\n",
              "      <td>16437</td>\n",
              "      <td>4</td>\n",
              "      <td>1</td>\n",
              "      <td>7</td>\n",
              "      <td>2010</td>\n",
              "    </tr>\n",
              "    <tr>\n",
              "      <th>186475</th>\n",
              "      <td>2100</td>\n",
              "      <td>16437</td>\n",
              "      <td>292</td>\n",
              "      <td>1</td>\n",
              "      <td>5</td>\n",
              "      <td>2010</td>\n",
              "    </tr>\n",
              "    <tr>\n",
              "      <th>186476</th>\n",
              "      <td>2100</td>\n",
              "      <td>16437</td>\n",
              "      <td>2087</td>\n",
              "      <td>1</td>\n",
              "      <td>7</td>\n",
              "      <td>2010</td>\n",
              "    </tr>\n",
              "    <tr>\n",
              "      <th>186477</th>\n",
              "      <td>2100</td>\n",
              "      <td>16437</td>\n",
              "      <td>2801</td>\n",
              "      <td>1</td>\n",
              "      <td>5</td>\n",
              "      <td>2010</td>\n",
              "    </tr>\n",
              "    <tr>\n",
              "      <th>186478</th>\n",
              "      <td>2100</td>\n",
              "      <td>16437</td>\n",
              "      <td>3335</td>\n",
              "      <td>1</td>\n",
              "      <td>7</td>\n",
              "      <td>2010</td>\n",
              "    </tr>\n",
              "  </tbody>\n",
              "</table>\n",
              "<p>186479 rows × 6 columns</p>\n",
              "</div>"
            ],
            "text/plain": [
              "        userID  artistID  tagID  day  month  year\n",
              "0            2        52     13    1      4  2009\n",
              "1            2        52     15    1      4  2009\n",
              "2            2        52     18    1      4  2009\n",
              "3            2        52     21    1      4  2009\n",
              "4            2        52     41    1      4  2009\n",
              "...        ...       ...    ...  ...    ...   ...\n",
              "186474    2100     16437      4    1      7  2010\n",
              "186475    2100     16437    292    1      5  2010\n",
              "186476    2100     16437   2087    1      7  2010\n",
              "186477    2100     16437   2801    1      5  2010\n",
              "186478    2100     16437   3335    1      7  2010\n",
              "\n",
              "[186479 rows x 6 columns]"
            ]
          },
          "metadata": {
            "tags": []
          },
          "execution_count": 6
        }
      ]
    },
    {
      "cell_type": "code",
      "metadata": {
        "colab": {
          "base_uri": "https://localhost:8080/"
        },
        "id": "G18cAB5VPhAY",
        "outputId": "c4ead6e7-d498-4951-da8e-3449886a2c60"
      },
      "source": [
        "tags = pd.read_csv('tags.dat', sep='\\t',  encoding='latin-1')\r\n",
        "tags.tagID.value_counts()"
      ],
      "execution_count": null,
      "outputs": [
        {
          "output_type": "execute_result",
          "data": {
            "text/plain": [
              "2047     1\n",
              "7497     1\n",
              "9558     1\n",
              "3411     1\n",
              "1362     1\n",
              "        ..\n",
              "10896    1\n",
              "4751     1\n",
              "6798     1\n",
              "653      1\n",
              "2049     1\n",
              "Name: tagID, Length: 11946, dtype: int64"
            ]
          },
          "metadata": {
            "tags": []
          },
          "execution_count": 7
        }
      ]
    },
    {
      "cell_type": "markdown",
      "metadata": {
        "id": "4ehCf0CBPmRG"
      },
      "source": [
        "## Actividades\r\n",
        "\r\n",
        "El [Ejercicio 1](#Ejercicio-1---Análisis-Exploratorio-de-Datos) deberá ser realizado por quienes estén realizando cualquier parte de la materia.\r\n",
        "\r\n",
        "El [Ejercicio 2](#Ejercicio-2---Sistema-de-Recomendación) variará de acuerdo a que parte de la materia estén realizando, quienes estén realizando la materia completa, deberán realizar ambas partes."
      ]
    },
    {
      "cell_type": "markdown",
      "metadata": {
        "id": "jzFWCmVbQUgq"
      },
      "source": [
        "## Ejercicio 1 - Análisis Exploratorio de Datos\r\n",
        "\r\n",
        "En esta primera parte deberán hacer un análisis exploratorio de los datos, aprovechando toda la información brindada por el conjunto. A partir de eso podrán tener mayor idea de qué tipo de datos estarán enfrentando (describe o hist).\r\n",
        "\r\n",
        "Algunas preguntas para responder:\r\n",
        "- ¿Cuáles son los artistas que fueron más escuchados?\r\n",
        "- ¿Cómo es la distribución de cantidad de listens por user?\r\n",
        "- ¿Es posible ver el género más escuchado?"
      ]
    },
    {
      "cell_type": "markdown",
      "metadata": {
        "id": "HrAGDnJoQaIU"
      },
      "source": [
        "## Información de los datasets"
      ]
    },
    {
      "cell_type": "code",
      "metadata": {
        "colab": {
          "base_uri": "https://localhost:8080/",
          "height": 502
        },
        "id": "BK7fQWMKQd4g",
        "outputId": "27540c82-7180-4cf5-dfc3-69d64f0eed4a"
      },
      "source": [
        "display(artist_data.info())\r\n",
        "display(artist_data.describe())"
      ],
      "execution_count": null,
      "outputs": [
        {
          "output_type": "stream",
          "text": [
            "<class 'pandas.core.frame.DataFrame'>\n",
            "RangeIndex: 17632 entries, 0 to 17631\n",
            "Data columns (total 4 columns):\n",
            " #   Column      Non-Null Count  Dtype \n",
            "---  ------      --------------  ----- \n",
            " 0   id          17632 non-null  int64 \n",
            " 1   name        17632 non-null  object\n",
            " 2   url         17632 non-null  object\n",
            " 3   pictureURL  17188 non-null  object\n",
            "dtypes: int64(1), object(3)\n",
            "memory usage: 551.1+ KB\n"
          ],
          "name": "stdout"
        },
        {
          "output_type": "display_data",
          "data": {
            "text/plain": [
              "None"
            ]
          },
          "metadata": {
            "tags": []
          }
        },
        {
          "output_type": "display_data",
          "data": {
            "text/html": [
              "<div>\n",
              "<style scoped>\n",
              "    .dataframe tbody tr th:only-of-type {\n",
              "        vertical-align: middle;\n",
              "    }\n",
              "\n",
              "    .dataframe tbody tr th {\n",
              "        vertical-align: top;\n",
              "    }\n",
              "\n",
              "    .dataframe thead th {\n",
              "        text-align: right;\n",
              "    }\n",
              "</style>\n",
              "<table border=\"1\" class=\"dataframe\">\n",
              "  <thead>\n",
              "    <tr style=\"text-align: right;\">\n",
              "      <th></th>\n",
              "      <th>id</th>\n",
              "    </tr>\n",
              "  </thead>\n",
              "  <tbody>\n",
              "    <tr>\n",
              "      <th>count</th>\n",
              "      <td>17632.000000</td>\n",
              "    </tr>\n",
              "    <tr>\n",
              "      <th>mean</th>\n",
              "      <td>9156.636853</td>\n",
              "    </tr>\n",
              "    <tr>\n",
              "      <th>std</th>\n",
              "      <td>5392.515296</td>\n",
              "    </tr>\n",
              "    <tr>\n",
              "      <th>min</th>\n",
              "      <td>1.000000</td>\n",
              "    </tr>\n",
              "    <tr>\n",
              "      <th>25%</th>\n",
              "      <td>4501.750000</td>\n",
              "    </tr>\n",
              "    <tr>\n",
              "      <th>50%</th>\n",
              "      <td>9048.500000</td>\n",
              "    </tr>\n",
              "    <tr>\n",
              "      <th>75%</th>\n",
              "      <td>13769.250000</td>\n",
              "    </tr>\n",
              "    <tr>\n",
              "      <th>max</th>\n",
              "      <td>18745.000000</td>\n",
              "    </tr>\n",
              "  </tbody>\n",
              "</table>\n",
              "</div>"
            ],
            "text/plain": [
              "                 id\n",
              "count  17632.000000\n",
              "mean    9156.636853\n",
              "std     5392.515296\n",
              "min        1.000000\n",
              "25%     4501.750000\n",
              "50%     9048.500000\n",
              "75%    13769.250000\n",
              "max    18745.000000"
            ]
          },
          "metadata": {
            "tags": []
          }
        }
      ]
    },
    {
      "cell_type": "code",
      "metadata": {
        "colab": {
          "base_uri": "https://localhost:8080/",
          "height": 485
        },
        "id": "A-Gy2fN8QiDj",
        "outputId": "12bf5f1a-d229-45c7-cb17-139c90104ce4"
      },
      "source": [
        "display(user_artist_plays.info())\r\n",
        "display(user_artist_plays.describe())"
      ],
      "execution_count": null,
      "outputs": [
        {
          "output_type": "stream",
          "text": [
            "<class 'pandas.core.frame.DataFrame'>\n",
            "RangeIndex: 92834 entries, 0 to 92833\n",
            "Data columns (total 3 columns):\n",
            " #   Column    Non-Null Count  Dtype\n",
            "---  ------    --------------  -----\n",
            " 0   userID    92834 non-null  int64\n",
            " 1   artistID  92834 non-null  int64\n",
            " 2   weight    92834 non-null  int64\n",
            "dtypes: int64(3)\n",
            "memory usage: 2.1 MB\n"
          ],
          "name": "stdout"
        },
        {
          "output_type": "display_data",
          "data": {
            "text/plain": [
              "None"
            ]
          },
          "metadata": {
            "tags": []
          }
        },
        {
          "output_type": "display_data",
          "data": {
            "text/html": [
              "<div>\n",
              "<style scoped>\n",
              "    .dataframe tbody tr th:only-of-type {\n",
              "        vertical-align: middle;\n",
              "    }\n",
              "\n",
              "    .dataframe tbody tr th {\n",
              "        vertical-align: top;\n",
              "    }\n",
              "\n",
              "    .dataframe thead th {\n",
              "        text-align: right;\n",
              "    }\n",
              "</style>\n",
              "<table border=\"1\" class=\"dataframe\">\n",
              "  <thead>\n",
              "    <tr style=\"text-align: right;\">\n",
              "      <th></th>\n",
              "      <th>userID</th>\n",
              "      <th>artistID</th>\n",
              "      <th>weight</th>\n",
              "    </tr>\n",
              "  </thead>\n",
              "  <tbody>\n",
              "    <tr>\n",
              "      <th>count</th>\n",
              "      <td>92834.000000</td>\n",
              "      <td>92834.000000</td>\n",
              "      <td>92834.00000</td>\n",
              "    </tr>\n",
              "    <tr>\n",
              "      <th>mean</th>\n",
              "      <td>1037.010481</td>\n",
              "      <td>3331.123145</td>\n",
              "      <td>745.24393</td>\n",
              "    </tr>\n",
              "    <tr>\n",
              "      <th>std</th>\n",
              "      <td>610.870436</td>\n",
              "      <td>4383.590502</td>\n",
              "      <td>3751.32208</td>\n",
              "    </tr>\n",
              "    <tr>\n",
              "      <th>min</th>\n",
              "      <td>2.000000</td>\n",
              "      <td>1.000000</td>\n",
              "      <td>1.00000</td>\n",
              "    </tr>\n",
              "    <tr>\n",
              "      <th>25%</th>\n",
              "      <td>502.000000</td>\n",
              "      <td>436.000000</td>\n",
              "      <td>107.00000</td>\n",
              "    </tr>\n",
              "    <tr>\n",
              "      <th>50%</th>\n",
              "      <td>1029.000000</td>\n",
              "      <td>1246.000000</td>\n",
              "      <td>260.00000</td>\n",
              "    </tr>\n",
              "    <tr>\n",
              "      <th>75%</th>\n",
              "      <td>1568.000000</td>\n",
              "      <td>4350.000000</td>\n",
              "      <td>614.00000</td>\n",
              "    </tr>\n",
              "    <tr>\n",
              "      <th>max</th>\n",
              "      <td>2100.000000</td>\n",
              "      <td>18745.000000</td>\n",
              "      <td>352698.00000</td>\n",
              "    </tr>\n",
              "  </tbody>\n",
              "</table>\n",
              "</div>"
            ],
            "text/plain": [
              "             userID      artistID        weight\n",
              "count  92834.000000  92834.000000   92834.00000\n",
              "mean    1037.010481   3331.123145     745.24393\n",
              "std      610.870436   4383.590502    3751.32208\n",
              "min        2.000000      1.000000       1.00000\n",
              "25%      502.000000    436.000000     107.00000\n",
              "50%     1029.000000   1246.000000     260.00000\n",
              "75%     1568.000000   4350.000000     614.00000\n",
              "max     2100.000000  18745.000000  352698.00000"
            ]
          },
          "metadata": {
            "tags": []
          }
        }
      ]
    },
    {
      "cell_type": "code",
      "metadata": {
        "colab": {
          "base_uri": "https://localhost:8080/",
          "height": 468
        },
        "id": "2Klno6a1QkS1",
        "outputId": "d2cb38f6-a53f-4682-eac2-6be5f6bc437b"
      },
      "source": [
        "display(tags.info())\r\n",
        "display(tags.describe())"
      ],
      "execution_count": null,
      "outputs": [
        {
          "output_type": "stream",
          "text": [
            "<class 'pandas.core.frame.DataFrame'>\n",
            "RangeIndex: 11946 entries, 0 to 11945\n",
            "Data columns (total 2 columns):\n",
            " #   Column    Non-Null Count  Dtype \n",
            "---  ------    --------------  ----- \n",
            " 0   tagID     11946 non-null  int64 \n",
            " 1   tagValue  11946 non-null  object\n",
            "dtypes: int64(1), object(1)\n",
            "memory usage: 186.8+ KB\n"
          ],
          "name": "stdout"
        },
        {
          "output_type": "display_data",
          "data": {
            "text/plain": [
              "None"
            ]
          },
          "metadata": {
            "tags": []
          }
        },
        {
          "output_type": "display_data",
          "data": {
            "text/html": [
              "<div>\n",
              "<style scoped>\n",
              "    .dataframe tbody tr th:only-of-type {\n",
              "        vertical-align: middle;\n",
              "    }\n",
              "\n",
              "    .dataframe tbody tr th {\n",
              "        vertical-align: top;\n",
              "    }\n",
              "\n",
              "    .dataframe thead th {\n",
              "        text-align: right;\n",
              "    }\n",
              "</style>\n",
              "<table border=\"1\" class=\"dataframe\">\n",
              "  <thead>\n",
              "    <tr style=\"text-align: right;\">\n",
              "      <th></th>\n",
              "      <th>tagID</th>\n",
              "    </tr>\n",
              "  </thead>\n",
              "  <tbody>\n",
              "    <tr>\n",
              "      <th>count</th>\n",
              "      <td>11946.000000</td>\n",
              "    </tr>\n",
              "    <tr>\n",
              "      <th>mean</th>\n",
              "      <td>6242.315336</td>\n",
              "    </tr>\n",
              "    <tr>\n",
              "      <th>std</th>\n",
              "      <td>3667.498057</td>\n",
              "    </tr>\n",
              "    <tr>\n",
              "      <th>min</th>\n",
              "      <td>1.000000</td>\n",
              "    </tr>\n",
              "    <tr>\n",
              "      <th>25%</th>\n",
              "      <td>3036.250000</td>\n",
              "    </tr>\n",
              "    <tr>\n",
              "      <th>50%</th>\n",
              "      <td>6210.500000</td>\n",
              "    </tr>\n",
              "    <tr>\n",
              "      <th>75%</th>\n",
              "      <td>9460.750000</td>\n",
              "    </tr>\n",
              "    <tr>\n",
              "      <th>max</th>\n",
              "      <td>12648.000000</td>\n",
              "    </tr>\n",
              "  </tbody>\n",
              "</table>\n",
              "</div>"
            ],
            "text/plain": [
              "              tagID\n",
              "count  11946.000000\n",
              "mean    6242.315336\n",
              "std     3667.498057\n",
              "min        1.000000\n",
              "25%     3036.250000\n",
              "50%     6210.500000\n",
              "75%     9460.750000\n",
              "max    12648.000000"
            ]
          },
          "metadata": {
            "tags": []
          }
        }
      ]
    },
    {
      "cell_type": "code",
      "metadata": {
        "colab": {
          "base_uri": "https://localhost:8080/",
          "height": 537
        },
        "id": "p58wlBzAQmRW",
        "outputId": "92bdf66b-9330-406e-8442-c8543ce07794"
      },
      "source": [
        "display(user_taggedartists.info())\r\n",
        "display(user_taggedartists.describe())"
      ],
      "execution_count": null,
      "outputs": [
        {
          "output_type": "stream",
          "text": [
            "<class 'pandas.core.frame.DataFrame'>\n",
            "RangeIndex: 186479 entries, 0 to 186478\n",
            "Data columns (total 6 columns):\n",
            " #   Column    Non-Null Count   Dtype\n",
            "---  ------    --------------   -----\n",
            " 0   userID    186479 non-null  int64\n",
            " 1   artistID  186479 non-null  int64\n",
            " 2   tagID     186479 non-null  int64\n",
            " 3   day       186479 non-null  int64\n",
            " 4   month     186479 non-null  int64\n",
            " 5   year      186479 non-null  int64\n",
            "dtypes: int64(6)\n",
            "memory usage: 8.5 MB\n"
          ],
          "name": "stdout"
        },
        {
          "output_type": "display_data",
          "data": {
            "text/plain": [
              "None"
            ]
          },
          "metadata": {
            "tags": []
          }
        },
        {
          "output_type": "display_data",
          "data": {
            "text/html": [
              "<div>\n",
              "<style scoped>\n",
              "    .dataframe tbody tr th:only-of-type {\n",
              "        vertical-align: middle;\n",
              "    }\n",
              "\n",
              "    .dataframe tbody tr th {\n",
              "        vertical-align: top;\n",
              "    }\n",
              "\n",
              "    .dataframe thead th {\n",
              "        text-align: right;\n",
              "    }\n",
              "</style>\n",
              "<table border=\"1\" class=\"dataframe\">\n",
              "  <thead>\n",
              "    <tr style=\"text-align: right;\">\n",
              "      <th></th>\n",
              "      <th>userID</th>\n",
              "      <th>artistID</th>\n",
              "      <th>tagID</th>\n",
              "      <th>day</th>\n",
              "      <th>month</th>\n",
              "      <th>year</th>\n",
              "    </tr>\n",
              "  </thead>\n",
              "  <tbody>\n",
              "    <tr>\n",
              "      <th>count</th>\n",
              "      <td>186479.000000</td>\n",
              "      <td>186479.000000</td>\n",
              "      <td>186479.000000</td>\n",
              "      <td>186479.000000</td>\n",
              "      <td>186479.000000</td>\n",
              "      <td>186479.000000</td>\n",
              "    </tr>\n",
              "    <tr>\n",
              "      <th>mean</th>\n",
              "      <td>1035.600137</td>\n",
              "      <td>4375.845328</td>\n",
              "      <td>1439.582913</td>\n",
              "      <td>1.095566</td>\n",
              "      <td>6.524215</td>\n",
              "      <td>2008.809791</td>\n",
              "    </tr>\n",
              "    <tr>\n",
              "      <th>std</th>\n",
              "      <td>622.461272</td>\n",
              "      <td>4897.789595</td>\n",
              "      <td>2775.340279</td>\n",
              "      <td>0.712813</td>\n",
              "      <td>3.486855</td>\n",
              "      <td>1.410062</td>\n",
              "    </tr>\n",
              "    <tr>\n",
              "      <th>min</th>\n",
              "      <td>2.000000</td>\n",
              "      <td>1.000000</td>\n",
              "      <td>1.000000</td>\n",
              "      <td>1.000000</td>\n",
              "      <td>1.000000</td>\n",
              "      <td>1956.000000</td>\n",
              "    </tr>\n",
              "    <tr>\n",
              "      <th>25%</th>\n",
              "      <td>488.000000</td>\n",
              "      <td>686.000000</td>\n",
              "      <td>79.000000</td>\n",
              "      <td>1.000000</td>\n",
              "      <td>3.000000</td>\n",
              "      <td>2008.000000</td>\n",
              "    </tr>\n",
              "    <tr>\n",
              "      <th>50%</th>\n",
              "      <td>1021.000000</td>\n",
              "      <td>2203.000000</td>\n",
              "      <td>195.000000</td>\n",
              "      <td>1.000000</td>\n",
              "      <td>7.000000</td>\n",
              "      <td>2009.000000</td>\n",
              "    </tr>\n",
              "    <tr>\n",
              "      <th>75%</th>\n",
              "      <td>1624.000000</td>\n",
              "      <td>6714.000000</td>\n",
              "      <td>887.000000</td>\n",
              "      <td>1.000000</td>\n",
              "      <td>10.000000</td>\n",
              "      <td>2010.000000</td>\n",
              "    </tr>\n",
              "    <tr>\n",
              "      <th>max</th>\n",
              "      <td>2100.000000</td>\n",
              "      <td>18744.000000</td>\n",
              "      <td>12647.000000</td>\n",
              "      <td>9.000000</td>\n",
              "      <td>12.000000</td>\n",
              "      <td>2011.000000</td>\n",
              "    </tr>\n",
              "  </tbody>\n",
              "</table>\n",
              "</div>"
            ],
            "text/plain": [
              "              userID       artistID  ...          month           year\n",
              "count  186479.000000  186479.000000  ...  186479.000000  186479.000000\n",
              "mean     1035.600137    4375.845328  ...       6.524215    2008.809791\n",
              "std       622.461272    4897.789595  ...       3.486855       1.410062\n",
              "min         2.000000       1.000000  ...       1.000000    1956.000000\n",
              "25%       488.000000     686.000000  ...       3.000000    2008.000000\n",
              "50%      1021.000000    2203.000000  ...       7.000000    2009.000000\n",
              "75%      1624.000000    6714.000000  ...      10.000000    2010.000000\n",
              "max      2100.000000   18744.000000  ...      12.000000    2011.000000\n",
              "\n",
              "[8 rows x 6 columns]"
            ]
          },
          "metadata": {
            "tags": []
          }
        }
      ]
    },
    {
      "cell_type": "markdown",
      "metadata": {
        "id": "pdVUJaJfQkDJ"
      },
      "source": [
        "## Artistas más escuchados"
      ]
    },
    {
      "cell_type": "code",
      "metadata": {
        "colab": {
          "base_uri": "https://localhost:8080/",
          "height": 416
        },
        "id": "lK1LNUNaQ7hl",
        "outputId": "b16cec99-d1ce-4c18-991c-2c1d6c5eaa46"
      },
      "source": [
        "# Mergeamos ambos dataframes \r\n",
        "artist_data.rename(columns={'id':'artistID'}, inplace=True)\r\n",
        "data = pd.merge(artist_data[['name', 'artistID']], user_artist_plays, on='artistID')\r\n",
        "data"
      ],
      "execution_count": null,
      "outputs": [
        {
          "output_type": "execute_result",
          "data": {
            "text/html": [
              "<div>\n",
              "<style scoped>\n",
              "    .dataframe tbody tr th:only-of-type {\n",
              "        vertical-align: middle;\n",
              "    }\n",
              "\n",
              "    .dataframe tbody tr th {\n",
              "        vertical-align: top;\n",
              "    }\n",
              "\n",
              "    .dataframe thead th {\n",
              "        text-align: right;\n",
              "    }\n",
              "</style>\n",
              "<table border=\"1\" class=\"dataframe\">\n",
              "  <thead>\n",
              "    <tr style=\"text-align: right;\">\n",
              "      <th></th>\n",
              "      <th>name</th>\n",
              "      <th>artistID</th>\n",
              "      <th>userID</th>\n",
              "      <th>weight</th>\n",
              "    </tr>\n",
              "  </thead>\n",
              "  <tbody>\n",
              "    <tr>\n",
              "      <th>0</th>\n",
              "      <td>MALICE MIZER</td>\n",
              "      <td>1</td>\n",
              "      <td>34</td>\n",
              "      <td>212</td>\n",
              "    </tr>\n",
              "    <tr>\n",
              "      <th>1</th>\n",
              "      <td>MALICE MIZER</td>\n",
              "      <td>1</td>\n",
              "      <td>274</td>\n",
              "      <td>483</td>\n",
              "    </tr>\n",
              "    <tr>\n",
              "      <th>2</th>\n",
              "      <td>MALICE MIZER</td>\n",
              "      <td>1</td>\n",
              "      <td>785</td>\n",
              "      <td>76</td>\n",
              "    </tr>\n",
              "    <tr>\n",
              "      <th>3</th>\n",
              "      <td>Diary of Dreams</td>\n",
              "      <td>2</td>\n",
              "      <td>135</td>\n",
              "      <td>1021</td>\n",
              "    </tr>\n",
              "    <tr>\n",
              "      <th>4</th>\n",
              "      <td>Diary of Dreams</td>\n",
              "      <td>2</td>\n",
              "      <td>257</td>\n",
              "      <td>152</td>\n",
              "    </tr>\n",
              "    <tr>\n",
              "      <th>...</th>\n",
              "      <td>...</td>\n",
              "      <td>...</td>\n",
              "      <td>...</td>\n",
              "      <td>...</td>\n",
              "    </tr>\n",
              "    <tr>\n",
              "      <th>92829</th>\n",
              "      <td>Diamanda Galás</td>\n",
              "      <td>18741</td>\n",
              "      <td>454</td>\n",
              "      <td>301</td>\n",
              "    </tr>\n",
              "    <tr>\n",
              "      <th>92830</th>\n",
              "      <td>Aya RL</td>\n",
              "      <td>18742</td>\n",
              "      <td>454</td>\n",
              "      <td>294</td>\n",
              "    </tr>\n",
              "    <tr>\n",
              "      <th>92831</th>\n",
              "      <td>Coptic Rain</td>\n",
              "      <td>18743</td>\n",
              "      <td>454</td>\n",
              "      <td>287</td>\n",
              "    </tr>\n",
              "    <tr>\n",
              "      <th>92832</th>\n",
              "      <td>Oz Alchemist</td>\n",
              "      <td>18744</td>\n",
              "      <td>454</td>\n",
              "      <td>286</td>\n",
              "    </tr>\n",
              "    <tr>\n",
              "      <th>92833</th>\n",
              "      <td>Grzegorz Tomczak</td>\n",
              "      <td>18745</td>\n",
              "      <td>585</td>\n",
              "      <td>426</td>\n",
              "    </tr>\n",
              "  </tbody>\n",
              "</table>\n",
              "<p>92834 rows × 4 columns</p>\n",
              "</div>"
            ],
            "text/plain": [
              "                   name  artistID  userID  weight\n",
              "0          MALICE MIZER         1      34     212\n",
              "1          MALICE MIZER         1     274     483\n",
              "2          MALICE MIZER         1     785      76\n",
              "3       Diary of Dreams         2     135    1021\n",
              "4       Diary of Dreams         2     257     152\n",
              "...                 ...       ...     ...     ...\n",
              "92829    Diamanda Galás     18741     454     301\n",
              "92830            Aya RL     18742     454     294\n",
              "92831       Coptic Rain     18743     454     287\n",
              "92832      Oz Alchemist     18744     454     286\n",
              "92833  Grzegorz Tomczak     18745     585     426\n",
              "\n",
              "[92834 rows x 4 columns]"
            ]
          },
          "metadata": {
            "tags": []
          },
          "execution_count": 12
        }
      ]
    },
    {
      "cell_type": "code",
      "metadata": {
        "colab": {
          "base_uri": "https://localhost:8080/",
          "height": 386
        },
        "id": "aYKqJJ7CQ9u3",
        "outputId": "4faad1e4-4fc2-4e9f-9d69-a5d3cc9ad63d"
      },
      "source": [
        "ten_most_popular_artists = data[['artistID','name', 'weight']].groupby('name').sum().sort_values('weight', ascending=False).head(10)\r\n",
        "ten_most_popular_artists"
      ],
      "execution_count": null,
      "outputs": [
        {
          "output_type": "execute_result",
          "data": {
            "text/html": [
              "<div>\n",
              "<style scoped>\n",
              "    .dataframe tbody tr th:only-of-type {\n",
              "        vertical-align: middle;\n",
              "    }\n",
              "\n",
              "    .dataframe tbody tr th {\n",
              "        vertical-align: top;\n",
              "    }\n",
              "\n",
              "    .dataframe thead th {\n",
              "        text-align: right;\n",
              "    }\n",
              "</style>\n",
              "<table border=\"1\" class=\"dataframe\">\n",
              "  <thead>\n",
              "    <tr style=\"text-align: right;\">\n",
              "      <th></th>\n",
              "      <th>artistID</th>\n",
              "      <th>weight</th>\n",
              "    </tr>\n",
              "    <tr>\n",
              "      <th>name</th>\n",
              "      <th></th>\n",
              "      <th></th>\n",
              "    </tr>\n",
              "  </thead>\n",
              "  <tbody>\n",
              "    <tr>\n",
              "      <th>Britney Spears</th>\n",
              "      <td>150858</td>\n",
              "      <td>2393140</td>\n",
              "    </tr>\n",
              "    <tr>\n",
              "      <th>Depeche Mode</th>\n",
              "      <td>20304</td>\n",
              "      <td>1301308</td>\n",
              "    </tr>\n",
              "    <tr>\n",
              "      <th>Lady Gaga</th>\n",
              "      <td>54379</td>\n",
              "      <td>1291387</td>\n",
              "    </tr>\n",
              "    <tr>\n",
              "      <th>Christina Aguilera</th>\n",
              "      <td>118844</td>\n",
              "      <td>1058405</td>\n",
              "    </tr>\n",
              "    <tr>\n",
              "      <th>Paramore</th>\n",
              "      <td>198702</td>\n",
              "      <td>963449</td>\n",
              "    </tr>\n",
              "    <tr>\n",
              "      <th>Madonna</th>\n",
              "      <td>28743</td>\n",
              "      <td>921198</td>\n",
              "    </tr>\n",
              "    <tr>\n",
              "      <th>Rihanna</th>\n",
              "      <td>139392</td>\n",
              "      <td>905423</td>\n",
              "    </tr>\n",
              "    <tr>\n",
              "      <th>Shakira</th>\n",
              "      <td>223619</td>\n",
              "      <td>688529</td>\n",
              "    </tr>\n",
              "    <tr>\n",
              "      <th>The Beatles</th>\n",
              "      <td>108960</td>\n",
              "      <td>662116</td>\n",
              "    </tr>\n",
              "    <tr>\n",
              "      <th>Katy Perry</th>\n",
              "      <td>141900</td>\n",
              "      <td>532545</td>\n",
              "    </tr>\n",
              "  </tbody>\n",
              "</table>\n",
              "</div>"
            ],
            "text/plain": [
              "                    artistID   weight\n",
              "name                                 \n",
              "Britney Spears        150858  2393140\n",
              "Depeche Mode           20304  1301308\n",
              "Lady Gaga              54379  1291387\n",
              "Christina Aguilera    118844  1058405\n",
              "Paramore              198702   963449\n",
              "Madonna                28743   921198\n",
              "Rihanna               139392   905423\n",
              "Shakira               223619   688529\n",
              "The Beatles           108960   662116\n",
              "Katy Perry            141900   532545"
            ]
          },
          "metadata": {
            "tags": []
          },
          "execution_count": 13
        }
      ]
    },
    {
      "cell_type": "markdown",
      "metadata": {
        "id": "Szwx8NDIQZ5u"
      },
      "source": [
        "#### Considerando a 'weights' como las reproducciones que cada usuario le dio a cada artista, los 10 artistas más escuchados son:\r\n",
        "    - Britney Spears\t    2393140\r\n",
        "    - Depeche Mode\t        1301308\r\n",
        "    - Lady Gaga\t            1291387\r\n",
        "    - Christina Aguilera    1058405\r\n",
        "    - Paramore\t            963449\r\n",
        "    - Madonna\t            921198\r\n",
        "    - Rihanna\t            905423\r\n",
        "    - Shakira\t            688529\r\n",
        "    - The Beatles\t        662116\r\n",
        "    - Katy Perry           532545"
      ]
    },
    {
      "cell_type": "markdown",
      "metadata": {
        "id": "45dDn98TRGIK"
      },
      "source": [
        "## Distribución de reproducciones por usuario"
      ]
    },
    {
      "cell_type": "code",
      "metadata": {
        "id": "4hyrfNO5RObw"
      },
      "source": [
        "import seaborn as sns\r\n",
        "from matplotlib import pyplot as plt\r\n",
        "data_users = data[['userID', 'weight']].groupby('userID').sum().sort_values('weight', ascending=False).head(50)"
      ],
      "execution_count": null,
      "outputs": []
    },
    {
      "cell_type": "code",
      "metadata": {
        "id": "-ZOr3NBrRRA3"
      },
      "source": [
        "data_users.reset_index(inplace=True)\r\n",
        "# data_users.drop(column='index', inplace=True)\r\n",
        "data_users.sort_values('weight', ascending=False, inplace=True)"
      ],
      "execution_count": null,
      "outputs": []
    },
    {
      "cell_type": "code",
      "metadata": {
        "colab": {
          "base_uri": "https://localhost:8080/",
          "height": 445
        },
        "id": "0beECZaVRTRX",
        "outputId": "d2cfe8be-bae6-401b-8c66-7398f696ad89"
      },
      "source": [
        "fig, ax = plt.subplots(figsize=(25,11))\r\n",
        "plt.title(\"Distribución de reproducciones por usuario\", size=18)\r\n",
        "sns.barplot('userID', 'weight', data=data_users, order=data_users.sort_values('weight', ascending=False).userID)"
      ],
      "execution_count": null,
      "outputs": [
        {
          "output_type": "stream",
          "text": [
            "/usr/local/lib/python3.6/dist-packages/seaborn/_decorators.py:43: FutureWarning: Pass the following variables as keyword args: x, y. From version 0.12, the only valid positional argument will be `data`, and passing other arguments without an explicit keyword will result in an error or misinterpretation.\n",
            "  FutureWarning\n"
          ],
          "name": "stderr"
        },
        {
          "output_type": "execute_result",
          "data": {
            "text/plain": [
              "<matplotlib.axes._subplots.AxesSubplot at 0x7fc4c2945978>"
            ]
          },
          "metadata": {
            "tags": []
          },
          "execution_count": 16
        },
        {
          "output_type": "display_data",
          "data": {
            "image/png": "[encoded data removed]",
            "text/plain": [
              "<Figure size 1800x792 with 1 Axes>"
            ]
          },
          "metadata": {
            "tags": [],
            "needs_background": "light"
          }
        }
      ]
    },
    {
      "cell_type": "markdown",
      "metadata": {
        "id": "LZhM8kdRQZvz"
      },
      "source": [
        "## Géneros más escuchados"
      ]
    },
    {
      "cell_type": "code",
      "metadata": {
        "colab": {
          "base_uri": "https://localhost:8080/",
          "height": 356
        },
        "id": "Db-XWNgZRZH9",
        "outputId": "82bc6a27-4c2e-4fac-ef5f-50854487b5ce"
      },
      "source": [
        "tag_count = user_taggedartists.groupby('tagID').count().sort_values('userID', ascending=False).head(10)\r\n",
        "tag_count.reset_index(inplace=True)\r\n",
        "tag_count"
      ],
      "execution_count": null,
      "outputs": [
        {
          "output_type": "execute_result",
          "data": {
            "text/html": [
              "<div>\n",
              "<style scoped>\n",
              "    .dataframe tbody tr th:only-of-type {\n",
              "        vertical-align: middle;\n",
              "    }\n",
              "\n",
              "    .dataframe tbody tr th {\n",
              "        vertical-align: top;\n",
              "    }\n",
              "\n",
              "    .dataframe thead th {\n",
              "        text-align: right;\n",
              "    }\n",
              "</style>\n",
              "<table border=\"1\" class=\"dataframe\">\n",
              "  <thead>\n",
              "    <tr style=\"text-align: right;\">\n",
              "      <th></th>\n",
              "      <th>tagID</th>\n",
              "      <th>userID</th>\n",
              "      <th>artistID</th>\n",
              "      <th>day</th>\n",
              "      <th>month</th>\n",
              "      <th>year</th>\n",
              "    </tr>\n",
              "  </thead>\n",
              "  <tbody>\n",
              "    <tr>\n",
              "      <th>0</th>\n",
              "      <td>73</td>\n",
              "      <td>7503</td>\n",
              "      <td>7503</td>\n",
              "      <td>7503</td>\n",
              "      <td>7503</td>\n",
              "      <td>7503</td>\n",
              "    </tr>\n",
              "    <tr>\n",
              "      <th>1</th>\n",
              "      <td>24</td>\n",
              "      <td>5418</td>\n",
              "      <td>5418</td>\n",
              "      <td>5418</td>\n",
              "      <td>5418</td>\n",
              "      <td>5418</td>\n",
              "    </tr>\n",
              "    <tr>\n",
              "      <th>2</th>\n",
              "      <td>79</td>\n",
              "      <td>5251</td>\n",
              "      <td>5251</td>\n",
              "      <td>5251</td>\n",
              "      <td>5251</td>\n",
              "      <td>5251</td>\n",
              "    </tr>\n",
              "    <tr>\n",
              "      <th>3</th>\n",
              "      <td>18</td>\n",
              "      <td>4672</td>\n",
              "      <td>4672</td>\n",
              "      <td>4672</td>\n",
              "      <td>4672</td>\n",
              "      <td>4672</td>\n",
              "    </tr>\n",
              "    <tr>\n",
              "      <th>4</th>\n",
              "      <td>81</td>\n",
              "      <td>4458</td>\n",
              "      <td>4458</td>\n",
              "      <td>4458</td>\n",
              "      <td>4458</td>\n",
              "      <td>4458</td>\n",
              "    </tr>\n",
              "    <tr>\n",
              "      <th>5</th>\n",
              "      <td>130</td>\n",
              "      <td>4228</td>\n",
              "      <td>4228</td>\n",
              "      <td>4228</td>\n",
              "      <td>4228</td>\n",
              "      <td>4228</td>\n",
              "    </tr>\n",
              "    <tr>\n",
              "      <th>6</th>\n",
              "      <td>25</td>\n",
              "      <td>2791</td>\n",
              "      <td>2791</td>\n",
              "      <td>2791</td>\n",
              "      <td>2791</td>\n",
              "      <td>2791</td>\n",
              "    </tr>\n",
              "    <tr>\n",
              "      <th>7</th>\n",
              "      <td>39</td>\n",
              "      <td>2739</td>\n",
              "      <td>2739</td>\n",
              "      <td>2739</td>\n",
              "      <td>2739</td>\n",
              "      <td>2739</td>\n",
              "    </tr>\n",
              "    <tr>\n",
              "      <th>8</th>\n",
              "      <td>78</td>\n",
              "      <td>2631</td>\n",
              "      <td>2631</td>\n",
              "      <td>2631</td>\n",
              "      <td>2631</td>\n",
              "      <td>2631</td>\n",
              "    </tr>\n",
              "    <tr>\n",
              "      <th>9</th>\n",
              "      <td>192</td>\n",
              "      <td>2287</td>\n",
              "      <td>2287</td>\n",
              "      <td>2287</td>\n",
              "      <td>2287</td>\n",
              "      <td>2287</td>\n",
              "    </tr>\n",
              "  </tbody>\n",
              "</table>\n",
              "</div>"
            ],
            "text/plain": [
              "   tagID  userID  artistID   day  month  year\n",
              "0     73    7503      7503  7503   7503  7503\n",
              "1     24    5418      5418  5418   5418  5418\n",
              "2     79    5251      5251  5251   5251  5251\n",
              "3     18    4672      4672  4672   4672  4672\n",
              "4     81    4458      4458  4458   4458  4458\n",
              "5    130    4228      4228  4228   4228  4228\n",
              "6     25    2791      2791  2791   2791  2791\n",
              "7     39    2739      2739  2739   2739  2739\n",
              "8     78    2631      2631  2631   2631  2631\n",
              "9    192    2287      2287  2287   2287  2287"
            ]
          },
          "metadata": {
            "tags": []
          },
          "execution_count": 17
        }
      ]
    },
    {
      "cell_type": "code",
      "metadata": {
        "colab": {
          "base_uri": "https://localhost:8080/",
          "height": 448
        },
        "id": "SXPzwlpRRfM3",
        "outputId": "3cc5a288-b3e7-4a4a-d904-3671d85c9707"
      },
      "source": [
        "fig, ax = plt.subplots(figsize=(25,11))\r\n",
        "plt.title(\"Géneros más reproducidos\", size=18)\r\n",
        "sns.barplot('tagID', 'userID', data=tag_count, order=tag_count.sort_values('userID', ascending=False).tagID)"
      ],
      "execution_count": null,
      "outputs": [
        {
          "output_type": "stream",
          "text": [
            "/usr/local/lib/python3.6/dist-packages/seaborn/_decorators.py:43: FutureWarning: Pass the following variables as keyword args: x, y. From version 0.12, the only valid positional argument will be `data`, and passing other arguments without an explicit keyword will result in an error or misinterpretation.\n",
            "  FutureWarning\n"
          ],
          "name": "stderr"
        },
        {
          "output_type": "execute_result",
          "data": {
            "text/plain": [
              "<matplotlib.axes._subplots.AxesSubplot at 0x7fc4c3073f28>"
            ]
          },
          "metadata": {
            "tags": []
          },
          "execution_count": 18
        },
        {
          "output_type": "display_data",
          "data": {
            "image/png": "[encoded data removed]",
            "text/plain": [
              "<Figure size 1800x792 with 1 Axes>"
            ]
          },
          "metadata": {
            "tags": [],
            "needs_background": "light"
          }
        }
      ]
    },
    {
      "cell_type": "markdown",
      "metadata": {
        "id": "85XsehV8O0hn"
      },
      "source": [
        "#Ejercicio 2a - Filtrados Colaborativos"
      ]
    },
    {
      "cell_type": "markdown",
      "metadata": {
        "id": "idhZKmFfPn4C"
      },
      "source": [
        "De acuerdo a la parte de la materia que hagan, deberán realizar una de las siguientes actividades (pueden realizar ambas si así lo desean):\r\n",
        "\r\n",
        "La idea del práctico es hacer un análisis muy sencillo del conjunto de datos y desarrollar dos sistemas de recomendación: \r\n",
        "1. El primero, más sencillo, utilizando [Surpr!se](http://surpriselib.com/), y a partir de los datos de LastFM, en especial del archivo `./data/lastfm/user_artists.dat`, generar un sistema de recomendación basado en filtros colaborativos.\r\n",
        "2. En el segundo, deberán utilizar todos los datos ofrecidos en el dataset de LastFM para generar un sistema de filtrado colaborativo más complejo, deberá utilizar las técnicas aprendidas \r\n",
        "\r\n",
        "basado en filtrado colaborativo (usando Surpr!se), a partir de los datos existentes."
      ]
    },
    {
      "cell_type": "markdown",
      "metadata": {
        "id": "-cCZFqUYRbat"
      },
      "source": [
        "Esta parte del ejercicio es obligatoria para aprobar la parte introductoria de la materia (i.e. los contenidos que se ven en las dos primeras clases), quienes estén realizando la materia completa deerán realizar también el [Ejercicio 2b](#Ejercicio-2b---Sistemas-de-Recomendación-Avanzados). \r\n",
        "\r\n",
        "Deberán realizar un sistema de filtrados colaborativos basado en [Surpr!se](http://surpriselib.com/), a partir de los datos que proporciona `LastFM`, en especial el archivo `user_artists.dat`. Tener en cuenta los siguientes pasos:\r\n",
        "\r\n",
        "1. **Desarrollo de la matriz de Usuario-Contenido:** A partir del conjunto de datos deberán generar una matriz de usuario-contenido. Tener en cuenta que los ratings son implícitos, puesto que se dan a partir de la cantidad de veces que un usuario escuchó a determinado artista.\r\n",
        "2. **Entrenamiento del algoritmo de recomendación**: Utilizando las herramientas brindadas por [Surpr!se](http://surpriselib.com/), entrenen varios modelos (al menos 3) de sistemas de recomendación basados en filtrado colaborativo a partir de su matriz de usuario-contenido. Recuerden tener en cuenta lo aprendido en la diplomatura a la hora de evaluar y validar el modelo. Si necesitan inspiración, les recomendamos revisar [este notebook con información de como entrenar un sistema de recomendación con Surpr!se](https://github.com/susanli2016/Machine-Learning-with-Python/blob/master/Building%20Recommender%20System%20with%20Surprise.ipynb).\r\n",
        "3. **Sistema de recomendación**: A partir del mejor modelo de recomendación que haya surgido del caso anterior, y utilizando los datos del archivo `artist.dat`, armar un sistema de recomendación sencillo que, dado un nombre de un artista, devuelva el top 10 de artistas más similares. La idea es que el sistema tome el nombre de un artista y devuelva el nombre de otros artistas (no simplemente tomar y devolver IDs). Se recomienda [revisar este notebook para inspiración (ver el paso número 5)](https://github.com/topspinj/pydata-workshop/blob/master/tutorial.ipynb)."
      ]
    },
    {
      "cell_type": "markdown",
      "metadata": {
        "id": "m47PChUVRh46"
      },
      "source": [
        "### Instalaciones necesarias e imports..."
      ]
    },
    {
      "cell_type": "code",
      "metadata": {
        "colab": {
          "base_uri": "https://localhost:8080/"
        },
        "id": "QYg8lIxGPkR5",
        "outputId": "3bd4877b-7cd7-474e-ad24-4b630fdc267f"
      },
      "source": [
        "!pip install numpy\n",
        "!pip install scikit-surprise"
      ],
      "execution_count": null,
      "outputs": [
        {
          "output_type": "stream",
          "text": [
            "Requirement already satisfied: numpy in /usr/local/lib/python3.6/dist-packages (1.19.5)\n",
            "Collecting scikit-surprise\n",
            "\u001b[?25l  Downloading https://files.pythonhosted.org/packages/97/37/5d334adaf5ddd65da99fc65f6507e0e4599d092ba048f4302fe8775619e8/scikit-surprise-1.1.1.tar.gz (11.8MB)\n",
            "\u001b[K     |████████████████████████████████| 11.8MB 10.9MB/s \n",
            "\u001b[?25hRequirement already satisfied: joblib>=0.11 in /usr/local/lib/python3.6/dist-packages (from scikit-surprise) (1.0.0)\n",
            "Requirement already satisfied: numpy>=1.11.2 in /usr/local/lib/python3.6/dist-packages (from scikit-surprise) (1.19.5)\n",
            "Requirement already satisfied: scipy>=1.0.0 in /usr/local/lib/python3.6/dist-packages (from scikit-surprise) (1.4.1)\n",
            "Requirement already satisfied: six>=1.10.0 in /usr/local/lib/python3.6/dist-packages (from scikit-surprise) (1.15.0)\n",
            "Building wheels for collected packages: scikit-surprise\n",
            "  Building wheel for scikit-surprise (setup.py) ... \u001b[?25l\u001b[?25hdone\n",
            "  Created wheel for scikit-surprise: filename=scikit_surprise-1.1.1-cp36-cp36m-linux_x86_64.whl size=1618269 sha256=86e7d485a58a0748afd1580ac5e9159b3624f705bf0e1f733b542a6778cb5aa7\n",
            "  Stored in directory: /root/.cache/pip/wheels/78/9c/3d/41b419c9d2aff5b6e2b4c0fc8d25c538202834058f9ed110d0\n",
            "Successfully built scikit-surprise\n",
            "Installing collected packages: scikit-surprise\n",
            "Successfully installed scikit-surprise-1.1.1\n"
          ],
          "name": "stdout"
        }
      ]
    },
    {
      "cell_type": "code",
      "metadata": {
        "id": "D1BYpXerPmCZ"
      },
      "source": [
        "import pandas as pd\n",
        "import numpy as np\n",
        "from scipy import stats\n",
        "from scipy import sparse\n",
        "import seaborn as sns\n",
        "import matplotlib.pyplot as plt"
      ],
      "execution_count": null,
      "outputs": []
    },
    {
      "cell_type": "markdown",
      "metadata": {
        "id": "WSMRthKERmoq"
      },
      "source": [
        "### Subida de archivos necesarios..."
      ]
    },
    {
      "cell_type": "markdown",
      "metadata": {
        "id": "2U_zRa9zRt4n"
      },
      "source": [
        "## Actividad 2.a"
      ]
    },
    {
      "cell_type": "markdown",
      "metadata": {
        "id": "QbyUpcCosnpH"
      },
      "source": [
        "###1-Desarrollo de la matriz Usuario - Contenido"
      ]
    },
    {
      "cell_type": "code",
      "metadata": {
        "colab": {
          "base_uri": "https://localhost:8080/",
          "height": 202
        },
        "id": "0ppDzO1OS8Im",
        "outputId": "d464b294-10e8-48dc-fd95-94f9c12c4ebe"
      },
      "source": [
        "user_artist_data = pd.read_csv(\"user_artists.dat\", sep=\"\\t\")\n",
        "user_artist_data.head()"
      ],
      "execution_count": null,
      "outputs": [
        {
          "output_type": "execute_result",
          "data": {
            "text/html": [
              "<div>\n",
              "<style scoped>\n",
              "    .dataframe tbody tr th:only-of-type {\n",
              "        vertical-align: middle;\n",
              "    }\n",
              "\n",
              "    .dataframe tbody tr th {\n",
              "        vertical-align: top;\n",
              "    }\n",
              "\n",
              "    .dataframe thead th {\n",
              "        text-align: right;\n",
              "    }\n",
              "</style>\n",
              "<table border=\"1\" class=\"dataframe\">\n",
              "  <thead>\n",
              "    <tr style=\"text-align: right;\">\n",
              "      <th></th>\n",
              "      <th>userID</th>\n",
              "      <th>artistID</th>\n",
              "      <th>weight</th>\n",
              "    </tr>\n",
              "  </thead>\n",
              "  <tbody>\n",
              "    <tr>\n",
              "      <th>0</th>\n",
              "      <td>2</td>\n",
              "      <td>51</td>\n",
              "      <td>13883</td>\n",
              "    </tr>\n",
              "    <tr>\n",
              "      <th>1</th>\n",
              "      <td>2</td>\n",
              "      <td>52</td>\n",
              "      <td>11690</td>\n",
              "    </tr>\n",
              "    <tr>\n",
              "      <th>2</th>\n",
              "      <td>2</td>\n",
              "      <td>53</td>\n",
              "      <td>11351</td>\n",
              "    </tr>\n",
              "    <tr>\n",
              "      <th>3</th>\n",
              "      <td>2</td>\n",
              "      <td>54</td>\n",
              "      <td>10300</td>\n",
              "    </tr>\n",
              "    <tr>\n",
              "      <th>4</th>\n",
              "      <td>2</td>\n",
              "      <td>55</td>\n",
              "      <td>8983</td>\n",
              "    </tr>\n",
              "  </tbody>\n",
              "</table>\n",
              "</div>"
            ],
            "text/plain": [
              "   userID  artistID  weight\n",
              "0       2        51   13883\n",
              "1       2        52   11690\n",
              "2       2        53   11351\n",
              "3       2        54   10300\n",
              "4       2        55    8983"
            ]
          },
          "metadata": {
            "tags": []
          },
          "execution_count": 21
        }
      ]
    },
    {
      "cell_type": "code",
      "metadata": {
        "colab": {
          "base_uri": "https://localhost:8080/",
          "height": 202
        },
        "id": "j0ADKiquUtAf",
        "outputId": "2483f9ff-6b9b-435b-89bf-2d03ef236074"
      },
      "source": [
        "artist_data = pd.read_csv(\"artists.dat\", sep=\"\\t\")\n",
        "artist_data.head()"
      ],
      "execution_count": null,
      "outputs": [
        {
          "output_type": "execute_result",
          "data": {
            "text/html": [
              "<div>\n",
              "<style scoped>\n",
              "    .dataframe tbody tr th:only-of-type {\n",
              "        vertical-align: middle;\n",
              "    }\n",
              "\n",
              "    .dataframe tbody tr th {\n",
              "        vertical-align: top;\n",
              "    }\n",
              "\n",
              "    .dataframe thead th {\n",
              "        text-align: right;\n",
              "    }\n",
              "</style>\n",
              "<table border=\"1\" class=\"dataframe\">\n",
              "  <thead>\n",
              "    <tr style=\"text-align: right;\">\n",
              "      <th></th>\n",
              "      <th>id</th>\n",
              "      <th>name</th>\n",
              "      <th>url</th>\n",
              "      <th>pictureURL</th>\n",
              "    </tr>\n",
              "  </thead>\n",
              "  <tbody>\n",
              "    <tr>\n",
              "      <th>0</th>\n",
              "      <td>1</td>\n",
              "      <td>MALICE MIZER</td>\n",
              "      <td>http://www.last.fm/music/MALICE+MIZER</td>\n",
              "      <td>http://userserve-ak.last.fm/serve/252/10808.jpg</td>\n",
              "    </tr>\n",
              "    <tr>\n",
              "      <th>1</th>\n",
              "      <td>2</td>\n",
              "      <td>Diary of Dreams</td>\n",
              "      <td>http://www.last.fm/music/Diary+of+Dreams</td>\n",
              "      <td>http://userserve-ak.last.fm/serve/252/3052066.jpg</td>\n",
              "    </tr>\n",
              "    <tr>\n",
              "      <th>2</th>\n",
              "      <td>3</td>\n",
              "      <td>Carpathian Forest</td>\n",
              "      <td>http://www.last.fm/music/Carpathian+Forest</td>\n",
              "      <td>http://userserve-ak.last.fm/serve/252/40222717...</td>\n",
              "    </tr>\n",
              "    <tr>\n",
              "      <th>3</th>\n",
              "      <td>4</td>\n",
              "      <td>Moi dix Mois</td>\n",
              "      <td>http://www.last.fm/music/Moi+dix+Mois</td>\n",
              "      <td>http://userserve-ak.last.fm/serve/252/54697835...</td>\n",
              "    </tr>\n",
              "    <tr>\n",
              "      <th>4</th>\n",
              "      <td>5</td>\n",
              "      <td>Bella Morte</td>\n",
              "      <td>http://www.last.fm/music/Bella+Morte</td>\n",
              "      <td>http://userserve-ak.last.fm/serve/252/14789013...</td>\n",
              "    </tr>\n",
              "  </tbody>\n",
              "</table>\n",
              "</div>"
            ],
            "text/plain": [
              "   id  ...                                         pictureURL\n",
              "0   1  ...    http://userserve-ak.last.fm/serve/252/10808.jpg\n",
              "1   2  ...  http://userserve-ak.last.fm/serve/252/3052066.jpg\n",
              "2   3  ...  http://userserve-ak.last.fm/serve/252/40222717...\n",
              "3   4  ...  http://userserve-ak.last.fm/serve/252/54697835...\n",
              "4   5  ...  http://userserve-ak.last.fm/serve/252/14789013...\n",
              "\n",
              "[5 rows x 4 columns]"
            ]
          },
          "metadata": {
            "tags": []
          },
          "execution_count": 22
        }
      ]
    },
    {
      "cell_type": "code",
      "metadata": {
        "id": "6VZNHlLvUM3K"
      },
      "source": [
        "# Import surprise modules\n",
        "from surprise import Dataset\n",
        "from surprise import Reader\n",
        "from surprise import Dataset\n",
        "from surprise import accuracy\n",
        "from surprise.model_selection import cross_validate\n",
        "from surprise.model_selection import train_test_split\n",
        "from surprise.model_selection import GridSearchCV\n",
        "from surprise.accuracy import rmse\n",
        "from surprise import SVD, SVDpp, NMF, SlopeOne, CoClustering, KNNBaseline, KNNWithZScore, KNNWithMeans, KNNBasic, BaselineOnly, NormalPredictor\n",
        "from sklearn.metrics.pairwise import linear_kernel, cosine_similarity"
      ],
      "execution_count": null,
      "outputs": []
    },
    {
      "cell_type": "code",
      "metadata": {
        "id": "aRjObuNVUOQS"
      },
      "source": [
        "users = list(user_artist_data['userID'].unique())\n",
        "artist = list(user_artist_data['artistID'].unique())\n",
        "weight = list(user_artist_data['weight'].unique())"
      ],
      "execution_count": null,
      "outputs": []
    },
    {
      "cell_type": "code",
      "metadata": {
        "colab": {
          "base_uri": "https://localhost:8080/"
        },
        "id": "UGiSspvBVIF2",
        "outputId": "2cddfe3f-fcc9-4ff6-b01d-84baa833975b"
      },
      "source": [
        "weight_max = user_artist_data['weight'].max()\r\n",
        "weight_max\r\n",
        "\r\n",
        "weight_normal = user_artist_data['weight'].apply(lambda x: x/weight_max)\r\n",
        "weight_normal\r\n",
        "\r\n",
        "user_artist_data['weight'] = weight_normal\r\n",
        "user_artist_data['weight']"
      ],
      "execution_count": null,
      "outputs": [
        {
          "output_type": "execute_result",
          "data": {
            "text/plain": [
              "0        0.039362\n",
              "1        0.033145\n",
              "2        0.032183\n",
              "3        0.029203\n",
              "4        0.025469\n",
              "           ...   \n",
              "92829    0.000955\n",
              "92830    0.000842\n",
              "92831    0.000797\n",
              "92832    0.000794\n",
              "92833    0.000746\n",
              "Name: weight, Length: 92834, dtype: float64"
            ]
          },
          "metadata": {
            "tags": []
          },
          "execution_count": 25
        }
      ]
    },
    {
      "cell_type": "markdown",
      "metadata": {
        "id": "JHIQGBVDsYe7"
      },
      "source": [
        "###2.Entrenamiento del algoritmo de recomendación:"
      ]
    },
    {
      "cell_type": "code",
      "metadata": {
        "colab": {
          "base_uri": "https://localhost:8080/"
        },
        "id": "PV1JidiTUd5I",
        "outputId": "cf967f2b-b01d-49b3-8154-c40b52c16bad"
      },
      "source": [
        "def artist_id_to_name(id):\n",
        "    return artist_data.loc[artist_data['id']==id].name\n",
        "\n",
        "def artist_id_list_to_names(ids):\n",
        "  result = []\n",
        "  for id in ids:\n",
        "    result.append(artist_data.loc[artist_data['id']==id].name)\n",
        "  \n",
        "  return result;\n",
        "\n",
        "result = artist_id_list_to_names([1,2,3,4,5])\n",
        "result"
      ],
      "execution_count": null,
      "outputs": [
        {
          "output_type": "execute_result",
          "data": {
            "text/plain": [
              "[0    MALICE MIZER\n",
              " Name: name, dtype: object, 1    Diary of Dreams\n",
              " Name: name, dtype: object, 2    Carpathian Forest\n",
              " Name: name, dtype: object, 3    Moi dix Mois\n",
              " Name: name, dtype: object, 4    Bella Morte\n",
              " Name: name, dtype: object]"
            ]
          },
          "metadata": {
            "tags": []
          },
          "execution_count": 26
        }
      ]
    },
    {
      "cell_type": "code",
      "metadata": {
        "id": "dTBOPDL4VZPk"
      },
      "source": [
        "# Specific reader for surpirse to work.\n",
        "reader = Reader(rating_scale= (user_artist_data['weight'].unique().min(),user_artist_data['weight'].unique().max()))\n",
        "ratings = Dataset.load_from_df(user_artist_data, reader=reader)"
      ],
      "execution_count": null,
      "outputs": []
    },
    {
      "cell_type": "code",
      "metadata": {
        "id": "tZPw84LBb4XV"
      },
      "source": [
        "def train_test_model(model, ratings_train, ratings_test):\r\n",
        "  model.fit(ratings_train)\r\n",
        "  model.test(ratings_test)\r\n",
        "  predictions = model.test(ratings_test)\r\n",
        "  return rmse(predictions, verbose=False)"
      ],
      "execution_count": null,
      "outputs": []
    },
    {
      "cell_type": "markdown",
      "metadata": {
        "id": "YLHPFvmmv-Dk"
      },
      "source": [
        "####Algoritmo de Recomendacion: KNNBasic - KNNWithMeans - KNNWithZScore"
      ]
    },
    {
      "cell_type": "code",
      "metadata": {
        "colab": {
          "base_uri": "https://localhost:8080/"
        },
        "id": "a-9XyKDQV25p",
        "outputId": "35a11ed3-e449-47e0-d46b-f2993b96decf"
      },
      "source": [
        "ratings_train, ratings_test = train_test_split(ratings, test_size=0.2)\n",
        "knn_b_model_rmse = train_test_model(KNNBasic(k=5, verbose=False),ratings_train, ratings_test)\n",
        "knn_m_model_rmse = train_test_model(KNNWithMeans(k=5, verbose=False),ratings_train, ratings_test)\n",
        "knn_z_model_rmse = train_test_model(KNNWithZScore(k=5, verbose=False),ratings_train, ratings_test)\n",
        "\n",
        "print(\"KNN Basic RMSE on test: {:.4f}\".format(knn_b_model_rmse))\n",
        "print(\"KNN With Means RMSE on test: {:.4f}\".format(knn_m_model_rmse))\n",
        "print(\"KNN With Z Score RMSE on test: {:.4f}\".format(knn_z_model_rmse))\n",
        "\n"
      ],
      "execution_count": null,
      "outputs": [
        {
          "output_type": "stream",
          "text": [
            "KNN Basic RMSE on test: 0.0131\n",
            "KNN With Means RMSE on test: 0.0129\n",
            "KNN With Z Score RMSE on test: 0.0130\n"
          ],
          "name": "stdout"
        }
      ]
    },
    {
      "cell_type": "code",
      "metadata": {
        "colab": {
          "base_uri": "https://localhost:8080/"
        },
        "id": "8how1NIGd0hz",
        "outputId": "65f9b7b2-1c39-41d1-902e-dd105f3dfe52"
      },
      "source": [
        "model = KNNWithMeans(k=3, verbose=False)\r\n",
        "cross_validate_metrics = cross_validate(model, ratings, measures=[\"RMSE\", \"MAE\"], cv=3, verbose=True)"
      ],
      "execution_count": null,
      "outputs": [
        {
          "output_type": "stream",
          "text": [
            "Evaluating RMSE, MAE of algorithm KNNWithMeans on 3 split(s).\n",
            "\n",
            "                  Fold 1  Fold 2  Fold 3  Mean    Std     \n",
            "RMSE (testset)    0.0104  0.0109  0.0139  0.0117  0.0015  \n",
            "MAE (testset)     0.0024  0.0024  0.0023  0.0023  0.0000  \n",
            "Fit time          0.33    0.33    0.36    0.34    0.01    \n",
            "Test time         1.54    1.42    1.58    1.51    0.06    \n"
          ],
          "name": "stdout"
        }
      ]
    },
    {
      "cell_type": "code",
      "metadata": {
        "colab": {
          "base_uri": "https://localhost:8080/"
        },
        "id": "QPK7Pq4zYCCq",
        "outputId": "8860f6fc-69a9-4d43-9b12-9526c69f53fc"
      },
      "source": [
        "#First parameter: User ID. Second parameter: ArtistID\r\n",
        "model.predict(2,53)"
      ],
      "execution_count": null,
      "outputs": [
        {
          "output_type": "execute_result",
          "data": {
            "text/plain": [
              "Prediction(uid=2, iid=53, r_ui=None, est=0.009434080597850327, details={'actual_k': 3, 'was_impossible': False})"
            ]
          },
          "metadata": {
            "tags": []
          },
          "execution_count": 31
        }
      ]
    },
    {
      "cell_type": "markdown",
      "metadata": {
        "id": "LinKkzK3s8qn"
      },
      "source": [
        "###3.Sistema de recomendación"
      ]
    },
    {
      "cell_type": "code",
      "metadata": {
        "colab": {
          "base_uri": "https://localhost:8080/"
        },
        "id": "DDeKAQ3UeStF",
        "outputId": "056ddf9a-0307-4314-e142-278c05b396ff"
      },
      "source": [
        "artist_id = 255\n",
        "print(artist_id_to_name(artist_id))\n",
        "artist_id_list_to_names(model.get_neighbors(artist_id, 10))"
      ],
      "execution_count": null,
      "outputs": [
        {
          "output_type": "stream",
          "text": [
            "249    Nach\n",
            "Name: name, dtype: object\n"
          ],
          "name": "stdout"
        },
        {
          "output_type": "execute_result",
          "data": {
            "text/plain": [
              "[270    Gang Starr\n",
              " Name: name, dtype: object, 1775    Бумбокс\n",
              " Name: name, dtype: object, 1132    Aina Sandoval\n",
              " Name: name, dtype: object, 154    אביב גפן\n",
              " Name: name, dtype: object, 1205    Nile\n",
              " Name: name, dtype: object, 1642    Cascadura\n",
              " Name: name, dtype: object, 1852    Heaven Shall Burn\n",
              " Name: name, dtype: object, 1245    Mayhem\n",
              " Name: name, dtype: object, 1383    Lady Sovereign\n",
              " Name: name, dtype: object, 1842    Richard Wagner\n",
              " Name: name, dtype: object]"
            ]
          },
          "metadata": {
            "tags": []
          },
          "execution_count": 32
        }
      ]
    },
    {
      "cell_type": "code",
      "metadata": {
        "id": "OxYcPLGjchGd"
      },
      "source": [
        "from scipy.sparse import csr_matrix\r\n",
        "\r\n",
        "M = user_artist_data['userID'].nunique()\r\n",
        "N = user_artist_data[\"artistID\"].nunique()\r\n",
        "\r\n",
        "user_mapper = dict(zip(np.unique(user_artist_data[\"userID\"]), list(range(M))))\r\n",
        "artist_mapper = dict(zip(np.unique(user_artist_data[\"artistID\"]), list(range(N))))\r\n",
        "artist_inv_mapper = dict(zip(list(range(N)), np.unique(user_artist_data[\"artistID\"])))\r\n",
        "\r\n",
        "\r\n",
        "user_index = [user_mapper[i] for i in user_artist_data['userID']]\r\n",
        "item_index = [artist_mapper[i] for i in user_artist_data['artistID']]\r\n",
        "\r\n",
        "X = csr_matrix((user_artist_data['weight'], (user_index,item_index)), shape=(M,N))\r\n",
        "\r\n",
        "n_weights_per_artist = X.getnnz(axis=0)\r\n",
        "sum_weights_per_artist = X.sum(axis=0)\r\n",
        "mean_weight_per_artist = sum_weights_per_artist/n_weights_per_artist\r\n",
        "X_mean_artist = np.tile(mean_weight_per_artist, (X.shape[0],1))\r\n",
        "X_norm = X - csr_matrix(X_mean_artist)"
      ],
      "execution_count": null,
      "outputs": []
    },
    {
      "cell_type": "code",
      "metadata": {
        "id": "obJWnDbppQsz"
      },
      "source": [
        "### NO LA VAMOS A USAR POR AHORA. OPTAMOS POR get_neighbors DE SURPR!SE \r\n",
        "\r\n",
        "from sklearn.neighbors import NearestNeighbors\r\n",
        "\r\n",
        "def find_similar_artists(artist_id, X, artist_mapper, artist_inv_mapper, k, metric='cosine'):\r\n",
        "\r\n",
        "    X = X.T\r\n",
        "    neighbour_ids = []\r\n",
        "    \r\n",
        "    artist_ind = artist_mapper[artist_id]\r\n",
        "    artist_vec = X[artist_ind]\r\n",
        "    if isinstance(artist_vec, (np.ndarray)):\r\n",
        "        artist_vec = artist_vec.reshape(1,-1)\r\n",
        "    # use k+1 since kNN output includes the artistId of interest\r\n",
        "    kNN = NearestNeighbors(n_neighbors=k+1, algorithm=\"brute\", metric=metric)\r\n",
        "    kNN.fit(X)\r\n",
        "    neighbour = kNN.kneighbors(artist_vec, return_distance=False)\r\n",
        "    for i in range(0,k):\r\n",
        "        n = neighbour.item(i)\r\n",
        "        neighbour_ids.append(artist_inv_mapper[n])\r\n",
        "    neighbour_ids.pop(0)\r\n",
        "    return neighbour_ids"
      ],
      "execution_count": null,
      "outputs": []
    },
    {
      "cell_type": "code",
      "metadata": {
        "colab": {
          "base_uri": "https://localhost:8080/"
        },
        "id": "H0D1ZnjxakrV",
        "outputId": "d0e7d832-a72b-4007-a98a-4eaf511670c2"
      },
      "source": [
        "artist_id = 289\r\n",
        "similar_artists = find_similar_artists(artist_id,X_norm , artist_mapper, artist_inv_mapper, k=10)\r\n",
        "similar_artists"
      ],
      "execution_count": null,
      "outputs": [
        {
          "output_type": "execute_result",
          "data": {
            "text/plain": [
              "[523, 318, 349, 466, 972, 2094, 911, 2025, 293]"
            ]
          },
          "metadata": {
            "tags": []
          },
          "execution_count": 35
        }
      ]
    },
    {
      "cell_type": "code",
      "metadata": {
        "colab": {
          "base_uri": "https://localhost:8080/"
        },
        "id": "Ae-2HT-ah-zB",
        "outputId": "ab98ac74-2771-4b49-8350-516497c9b9e1"
      },
      "source": [
        "artist_name = artist_id_to_name(artist_id)\r\n",
        "artist_name"
      ],
      "execution_count": null,
      "outputs": [
        {
          "output_type": "execute_result",
          "data": {
            "text/plain": [
              "283    Britney Spears\n",
              "Name: name, dtype: object"
            ]
          },
          "metadata": {
            "tags": []
          },
          "execution_count": 36
        }
      ]
    },
    {
      "cell_type": "code",
      "metadata": {
        "colab": {
          "base_uri": "https://localhost:8080/"
        },
        "id": "zmsH8aA9f3cL",
        "outputId": "b8966d2c-db5c-4d34-c163-1e379551cc6a"
      },
      "source": [
        "print(f\"Because you listened {artist_name}:\")\r\n",
        "for i in similar_artists:\r\n",
        "    print(artist_id_to_name(i))"
      ],
      "execution_count": null,
      "outputs": [
        {
          "output_type": "stream",
          "text": [
            "Because you listened 283    Britney Spears\n",
            "Name: name, dtype: object:\n",
            "517    Lindsay Lohan\n",
            "Name: name, dtype: object\n",
            "312    Hilary Duff\n",
            "Name: name, dtype: object\n",
            "343    The Pussycat Dolls\n",
            "Name: name, dtype: object\n",
            "460    Ke$ha\n",
            "Name: name, dtype: object\n",
            "963    t.A.T.u.\n",
            "Name: name, dtype: object\n",
            "2079    BoA\n",
            "Name: name, dtype: object\n",
            "902    Rachel Stevens\n",
            "Name: name, dtype: object\n",
            "2010    Simon Curtis\n",
            "Name: name, dtype: object\n",
            "287    Ashlee Simpson\n",
            "Name: name, dtype: object\n"
          ],
          "name": "stdout"
        }
      ]
    },
    {
      "cell_type": "markdown",
      "metadata": {
        "id": "Pzy4an4wxcQW"
      },
      "source": [
        "# Ejercicio 2b - Sistemas de Recomendación Avanzados\r\n",
        "\r\n",
        "Este ejercicio lo deberán completar quienes hayan realizado ambas partes de la materia pues requiere de los conocimientos adquiridos en las segundas dos clases. En este caso, utilizarán no sólo la información de la matriz de usuario-contenido, sino que deberán hacer uso de otra información para poder lidiar con el problema del \"Cold Start\", i.e. que es lo que ocurre cuando tengo nuevos usuarios o artistas. Tener en cuenta los siguientes pasos:\r\n",
        "1. **Evaluación sobre cold start**: Para evaluar como funciona el sistema con el problema del \"cold start\", deberán tomar ciertos artistas y \"dejarlos fuera\", i.e. remover cualquier participación del artista en el sistema. Esos serán los artistas que se evaluarán como \"cold start\".\r\n",
        "2. **Vectores de contenido**: Deberán generar vectores de contenido para los artistas, basados en los tags que los usuarios les dan (ver los archivos `user_taggedartists.dat` y `tags.dat`).\r\n",
        "3. **Sistema de recomendación**: Deberán crear un sistema de recomendación que tomará como parámetros la información del artista (i.e. nombre y tags). Con dicha información, deberán disponer de un sistema de recomendación híbrido (utilizando cualquiera de las técnicas vistas en clase) que devuelva artistas similares. El sistema de recomendación deberá utilizar toda la información proporcionada para dar una mejor respuesta.\r\n",
        "4. **Evaluación del sistema**: Deberán evaluar \"a mano\" el sistema sobre artistas que conozca y artistas que no conozca (i.e. que fueron dejados afuera), y hacer un análisis de lo que el sistema está devolviendo."
      ]
    },
    {
      "cell_type": "markdown",
      "metadata": {
        "id": "Z5Tb9e84zluv"
      },
      "source": [
        "###Evaluación sobre cold start\r\n",
        "\r\n",
        "Tomamos 10 id de artistas random mediante: artist_data.sample(10)\r\n",
        "\r\n",
        "El resultado:\r\n",
        "\r\n",
        "options = [15072, 11127, 12703, 8491, 4577, 11939, 9529, 10358, 13964, 16727]"
      ]
    },
    {
      "cell_type": "code",
      "metadata": {
        "colab": {
          "base_uri": "https://localhost:8080/",
          "height": 202
        },
        "id": "qmLFMOd6xiW7",
        "outputId": "5d940193-e2d4-4a33-a669-e4834a508b8b"
      },
      "source": [
        "options = [289, 72, 89, 292, 498, 67, 288, 701, 227, 300] \r\n",
        "artist_data_reduce = artist_data[~artist_data.id.isin(options)]\r\n",
        "artist_data_reduce.head()"
      ],
      "execution_count": null,
      "outputs": [
        {
          "output_type": "execute_result",
          "data": {
            "text/html": [
              "<div>\n",
              "<style scoped>\n",
              "    .dataframe tbody tr th:only-of-type {\n",
              "        vertical-align: middle;\n",
              "    }\n",
              "\n",
              "    .dataframe tbody tr th {\n",
              "        vertical-align: top;\n",
              "    }\n",
              "\n",
              "    .dataframe thead th {\n",
              "        text-align: right;\n",
              "    }\n",
              "</style>\n",
              "<table border=\"1\" class=\"dataframe\">\n",
              "  <thead>\n",
              "    <tr style=\"text-align: right;\">\n",
              "      <th></th>\n",
              "      <th>id</th>\n",
              "      <th>name</th>\n",
              "      <th>url</th>\n",
              "      <th>pictureURL</th>\n",
              "    </tr>\n",
              "  </thead>\n",
              "  <tbody>\n",
              "    <tr>\n",
              "      <th>0</th>\n",
              "      <td>1</td>\n",
              "      <td>MALICE MIZER</td>\n",
              "      <td>http://www.last.fm/music/MALICE+MIZER</td>\n",
              "      <td>http://userserve-ak.last.fm/serve/252/10808.jpg</td>\n",
              "    </tr>\n",
              "    <tr>\n",
              "      <th>1</th>\n",
              "      <td>2</td>\n",
              "      <td>Diary of Dreams</td>\n",
              "      <td>http://www.last.fm/music/Diary+of+Dreams</td>\n",
              "      <td>http://userserve-ak.last.fm/serve/252/3052066.jpg</td>\n",
              "    </tr>\n",
              "    <tr>\n",
              "      <th>2</th>\n",
              "      <td>3</td>\n",
              "      <td>Carpathian Forest</td>\n",
              "      <td>http://www.last.fm/music/Carpathian+Forest</td>\n",
              "      <td>http://userserve-ak.last.fm/serve/252/40222717...</td>\n",
              "    </tr>\n",
              "    <tr>\n",
              "      <th>3</th>\n",
              "      <td>4</td>\n",
              "      <td>Moi dix Mois</td>\n",
              "      <td>http://www.last.fm/music/Moi+dix+Mois</td>\n",
              "      <td>http://userserve-ak.last.fm/serve/252/54697835...</td>\n",
              "    </tr>\n",
              "    <tr>\n",
              "      <th>4</th>\n",
              "      <td>5</td>\n",
              "      <td>Bella Morte</td>\n",
              "      <td>http://www.last.fm/music/Bella+Morte</td>\n",
              "      <td>http://userserve-ak.last.fm/serve/252/14789013...</td>\n",
              "    </tr>\n",
              "  </tbody>\n",
              "</table>\n",
              "</div>"
            ],
            "text/plain": [
              "   id  ...                                         pictureURL\n",
              "0   1  ...    http://userserve-ak.last.fm/serve/252/10808.jpg\n",
              "1   2  ...  http://userserve-ak.last.fm/serve/252/3052066.jpg\n",
              "2   3  ...  http://userserve-ak.last.fm/serve/252/40222717...\n",
              "3   4  ...  http://userserve-ak.last.fm/serve/252/54697835...\n",
              "4   5  ...  http://userserve-ak.last.fm/serve/252/14789013...\n",
              "\n",
              "[5 rows x 4 columns]"
            ]
          },
          "metadata": {
            "tags": []
          },
          "execution_count": 38
        }
      ]
    },
    {
      "cell_type": "code",
      "metadata": {
        "colab": {
          "base_uri": "https://localhost:8080/",
          "height": 97
        },
        "id": "7UGGgCc3zukC",
        "outputId": "0c0ada35-5ef6-40e4-b8a5-1806df4badcc"
      },
      "source": [
        "#Se verifica que el primer id haya sido extraído\r\n",
        "artist_data_reduce[artist_data_reduce['id']==15072]"
      ],
      "execution_count": null,
      "outputs": [
        {
          "output_type": "execute_result",
          "data": {
            "text/html": [
              "<div>\n",
              "<style scoped>\n",
              "    .dataframe tbody tr th:only-of-type {\n",
              "        vertical-align: middle;\n",
              "    }\n",
              "\n",
              "    .dataframe tbody tr th {\n",
              "        vertical-align: top;\n",
              "    }\n",
              "\n",
              "    .dataframe thead th {\n",
              "        text-align: right;\n",
              "    }\n",
              "</style>\n",
              "<table border=\"1\" class=\"dataframe\">\n",
              "  <thead>\n",
              "    <tr style=\"text-align: right;\">\n",
              "      <th></th>\n",
              "      <th>id</th>\n",
              "      <th>name</th>\n",
              "      <th>url</th>\n",
              "      <th>pictureURL</th>\n",
              "    </tr>\n",
              "  </thead>\n",
              "  <tbody>\n",
              "    <tr>\n",
              "      <th>14368</th>\n",
              "      <td>15072</td>\n",
              "      <td>The Brothers Gutworm</td>\n",
              "      <td>http://www.last.fm/music/The+Brothers+Gutworm</td>\n",
              "      <td>http://userserve-ak.last.fm/serve/252/57783955...</td>\n",
              "    </tr>\n",
              "  </tbody>\n",
              "</table>\n",
              "</div>"
            ],
            "text/plain": [
              "          id  ...                                         pictureURL\n",
              "14368  15072  ...  http://userserve-ak.last.fm/serve/252/57783955...\n",
              "\n",
              "[1 rows x 4 columns]"
            ]
          },
          "metadata": {
            "tags": []
          },
          "execution_count": 39
        }
      ]
    },
    {
      "cell_type": "code",
      "metadata": {
        "id": "tDrHZtfq2-7i"
      },
      "source": [
        "user_artist_data_reduce = user_artist_data[~user_artist_data.artistID.isin(options)]"
      ],
      "execution_count": null,
      "outputs": []
    },
    {
      "cell_type": "code",
      "metadata": {
        "colab": {
          "base_uri": "https://localhost:8080/",
          "height": 416
        },
        "id": "xkDa0wD73VFy",
        "outputId": "59313da6-0df8-49c5-c166-1d1cd3465cff"
      },
      "source": [
        "user_artist_data_reduce"
      ],
      "execution_count": null,
      "outputs": [
        {
          "output_type": "execute_result",
          "data": {
            "text/html": [
              "<div>\n",
              "<style scoped>\n",
              "    .dataframe tbody tr th:only-of-type {\n",
              "        vertical-align: middle;\n",
              "    }\n",
              "\n",
              "    .dataframe tbody tr th {\n",
              "        vertical-align: top;\n",
              "    }\n",
              "\n",
              "    .dataframe thead th {\n",
              "        text-align: right;\n",
              "    }\n",
              "</style>\n",
              "<table border=\"1\" class=\"dataframe\">\n",
              "  <thead>\n",
              "    <tr style=\"text-align: right;\">\n",
              "      <th></th>\n",
              "      <th>userID</th>\n",
              "      <th>artistID</th>\n",
              "      <th>weight</th>\n",
              "    </tr>\n",
              "  </thead>\n",
              "  <tbody>\n",
              "    <tr>\n",
              "      <th>0</th>\n",
              "      <td>2</td>\n",
              "      <td>51</td>\n",
              "      <td>0.039362</td>\n",
              "    </tr>\n",
              "    <tr>\n",
              "      <th>1</th>\n",
              "      <td>2</td>\n",
              "      <td>52</td>\n",
              "      <td>0.033145</td>\n",
              "    </tr>\n",
              "    <tr>\n",
              "      <th>2</th>\n",
              "      <td>2</td>\n",
              "      <td>53</td>\n",
              "      <td>0.032183</td>\n",
              "    </tr>\n",
              "    <tr>\n",
              "      <th>3</th>\n",
              "      <td>2</td>\n",
              "      <td>54</td>\n",
              "      <td>0.029203</td>\n",
              "    </tr>\n",
              "    <tr>\n",
              "      <th>4</th>\n",
              "      <td>2</td>\n",
              "      <td>55</td>\n",
              "      <td>0.025469</td>\n",
              "    </tr>\n",
              "    <tr>\n",
              "      <th>...</th>\n",
              "      <td>...</td>\n",
              "      <td>...</td>\n",
              "      <td>...</td>\n",
              "    </tr>\n",
              "    <tr>\n",
              "      <th>92829</th>\n",
              "      <td>2100</td>\n",
              "      <td>18726</td>\n",
              "      <td>0.000955</td>\n",
              "    </tr>\n",
              "    <tr>\n",
              "      <th>92830</th>\n",
              "      <td>2100</td>\n",
              "      <td>18727</td>\n",
              "      <td>0.000842</td>\n",
              "    </tr>\n",
              "    <tr>\n",
              "      <th>92831</th>\n",
              "      <td>2100</td>\n",
              "      <td>18728</td>\n",
              "      <td>0.000797</td>\n",
              "    </tr>\n",
              "    <tr>\n",
              "      <th>92832</th>\n",
              "      <td>2100</td>\n",
              "      <td>18729</td>\n",
              "      <td>0.000794</td>\n",
              "    </tr>\n",
              "    <tr>\n",
              "      <th>92833</th>\n",
              "      <td>2100</td>\n",
              "      <td>18730</td>\n",
              "      <td>0.000746</td>\n",
              "    </tr>\n",
              "  </tbody>\n",
              "</table>\n",
              "<p>88428 rows × 3 columns</p>\n",
              "</div>"
            ],
            "text/plain": [
              "       userID  artistID    weight\n",
              "0           2        51  0.039362\n",
              "1           2        52  0.033145\n",
              "2           2        53  0.032183\n",
              "3           2        54  0.029203\n",
              "4           2        55  0.025469\n",
              "...       ...       ...       ...\n",
              "92829    2100     18726  0.000955\n",
              "92830    2100     18727  0.000842\n",
              "92831    2100     18728  0.000797\n",
              "92832    2100     18729  0.000794\n",
              "92833    2100     18730  0.000746\n",
              "\n",
              "[88428 rows x 3 columns]"
            ]
          },
          "metadata": {
            "tags": []
          },
          "execution_count": 41
        }
      ]
    },
    {
      "cell_type": "code",
      "metadata": {
        "colab": {
          "base_uri": "https://localhost:8080/",
          "height": 202
        },
        "id": "rfX0fBey3Z9c",
        "outputId": "cde82cdf-8992-47e5-992c-862ed25d59c7"
      },
      "source": [
        "user_taggedartists_data = pd.read_csv(\"user_taggedartists.dat\", sep=\"\\t\")\r\n",
        "user_taggedartists_data_reduce = user_taggedartists_data[~user_taggedartists_data.artistID.isin(options)]\r\n",
        "user_taggedartists_data_reduce.head()"
      ],
      "execution_count": null,
      "outputs": [
        {
          "output_type": "execute_result",
          "data": {
            "text/html": [
              "<div>\n",
              "<style scoped>\n",
              "    .dataframe tbody tr th:only-of-type {\n",
              "        vertical-align: middle;\n",
              "    }\n",
              "\n",
              "    .dataframe tbody tr th {\n",
              "        vertical-align: top;\n",
              "    }\n",
              "\n",
              "    .dataframe thead th {\n",
              "        text-align: right;\n",
              "    }\n",
              "</style>\n",
              "<table border=\"1\" class=\"dataframe\">\n",
              "  <thead>\n",
              "    <tr style=\"text-align: right;\">\n",
              "      <th></th>\n",
              "      <th>userID</th>\n",
              "      <th>artistID</th>\n",
              "      <th>tagID</th>\n",
              "      <th>day</th>\n",
              "      <th>month</th>\n",
              "      <th>year</th>\n",
              "    </tr>\n",
              "  </thead>\n",
              "  <tbody>\n",
              "    <tr>\n",
              "      <th>0</th>\n",
              "      <td>2</td>\n",
              "      <td>52</td>\n",
              "      <td>13</td>\n",
              "      <td>1</td>\n",
              "      <td>4</td>\n",
              "      <td>2009</td>\n",
              "    </tr>\n",
              "    <tr>\n",
              "      <th>1</th>\n",
              "      <td>2</td>\n",
              "      <td>52</td>\n",
              "      <td>15</td>\n",
              "      <td>1</td>\n",
              "      <td>4</td>\n",
              "      <td>2009</td>\n",
              "    </tr>\n",
              "    <tr>\n",
              "      <th>2</th>\n",
              "      <td>2</td>\n",
              "      <td>52</td>\n",
              "      <td>18</td>\n",
              "      <td>1</td>\n",
              "      <td>4</td>\n",
              "      <td>2009</td>\n",
              "    </tr>\n",
              "    <tr>\n",
              "      <th>3</th>\n",
              "      <td>2</td>\n",
              "      <td>52</td>\n",
              "      <td>21</td>\n",
              "      <td>1</td>\n",
              "      <td>4</td>\n",
              "      <td>2009</td>\n",
              "    </tr>\n",
              "    <tr>\n",
              "      <th>4</th>\n",
              "      <td>2</td>\n",
              "      <td>52</td>\n",
              "      <td>41</td>\n",
              "      <td>1</td>\n",
              "      <td>4</td>\n",
              "      <td>2009</td>\n",
              "    </tr>\n",
              "  </tbody>\n",
              "</table>\n",
              "</div>"
            ],
            "text/plain": [
              "   userID  artistID  tagID  day  month  year\n",
              "0       2        52     13    1      4  2009\n",
              "1       2        52     15    1      4  2009\n",
              "2       2        52     18    1      4  2009\n",
              "3       2        52     21    1      4  2009\n",
              "4       2        52     41    1      4  2009"
            ]
          },
          "metadata": {
            "tags": []
          },
          "execution_count": 43
        }
      ]
    },
    {
      "cell_type": "code",
      "metadata": {
        "colab": {
          "base_uri": "https://localhost:8080/",
          "height": 141
        },
        "id": "X1HPJd7I4miJ",
        "outputId": "91d5ba7b-7a44-47fc-e642-ae0e2073d935"
      },
      "source": [
        "user_taggedartists_data_reduce[user_taggedartists_data_reduce['artistID']==15072]"
      ],
      "execution_count": null,
      "outputs": [
        {
          "output_type": "execute_result",
          "data": {
            "text/html": [
              "<div>\n",
              "<style scoped>\n",
              "    .dataframe tbody tr th:only-of-type {\n",
              "        vertical-align: middle;\n",
              "    }\n",
              "\n",
              "    .dataframe tbody tr th {\n",
              "        vertical-align: top;\n",
              "    }\n",
              "\n",
              "    .dataframe thead th {\n",
              "        text-align: right;\n",
              "    }\n",
              "</style>\n",
              "<table border=\"1\" class=\"dataframe\">\n",
              "  <thead>\n",
              "    <tr style=\"text-align: right;\">\n",
              "      <th></th>\n",
              "      <th>userID</th>\n",
              "      <th>artistID</th>\n",
              "      <th>tagID</th>\n",
              "      <th>day</th>\n",
              "      <th>month</th>\n",
              "      <th>year</th>\n",
              "    </tr>\n",
              "  </thead>\n",
              "  <tbody>\n",
              "    <tr>\n",
              "      <th>131156</th>\n",
              "      <td>1503</td>\n",
              "      <td>15072</td>\n",
              "      <td>18</td>\n",
              "      <td>1</td>\n",
              "      <td>1</td>\n",
              "      <td>2011</td>\n",
              "    </tr>\n",
              "    <tr>\n",
              "      <th>131157</th>\n",
              "      <td>1503</td>\n",
              "      <td>15072</td>\n",
              "      <td>24</td>\n",
              "      <td>1</td>\n",
              "      <td>1</td>\n",
              "      <td>2011</td>\n",
              "    </tr>\n",
              "    <tr>\n",
              "      <th>131158</th>\n",
              "      <td>1503</td>\n",
              "      <td>15072</td>\n",
              "      <td>9682</td>\n",
              "      <td>1</td>\n",
              "      <td>1</td>\n",
              "      <td>2011</td>\n",
              "    </tr>\n",
              "  </tbody>\n",
              "</table>\n",
              "</div>"
            ],
            "text/plain": [
              "        userID  artistID  tagID  day  month  year\n",
              "131156    1503     15072     18    1      1  2011\n",
              "131157    1503     15072     24    1      1  2011\n",
              "131158    1503     15072   9682    1      1  2011"
            ]
          },
          "metadata": {
            "tags": []
          },
          "execution_count": 44
        }
      ]
    },
    {
      "cell_type": "code",
      "metadata": {
        "colab": {
          "base_uri": "https://localhost:8080/",
          "height": 202
        },
        "id": "yuxBGuPx4w4M",
        "outputId": "8d411068-8c6c-4ed5-dc1e-632157fe42e8"
      },
      "source": [
        "tags_data = pd.read_csv(\"tags.dat\", sep=\"\\t\", encoding='ISO-8859-1')\r\n",
        "tags_data.head()"
      ],
      "execution_count": null,
      "outputs": [
        {
          "output_type": "execute_result",
          "data": {
            "text/html": [
              "<div>\n",
              "<style scoped>\n",
              "    .dataframe tbody tr th:only-of-type {\n",
              "        vertical-align: middle;\n",
              "    }\n",
              "\n",
              "    .dataframe tbody tr th {\n",
              "        vertical-align: top;\n",
              "    }\n",
              "\n",
              "    .dataframe thead th {\n",
              "        text-align: right;\n",
              "    }\n",
              "</style>\n",
              "<table border=\"1\" class=\"dataframe\">\n",
              "  <thead>\n",
              "    <tr style=\"text-align: right;\">\n",
              "      <th></th>\n",
              "      <th>tagID</th>\n",
              "      <th>tagValue</th>\n",
              "    </tr>\n",
              "  </thead>\n",
              "  <tbody>\n",
              "    <tr>\n",
              "      <th>0</th>\n",
              "      <td>1</td>\n",
              "      <td>metal</td>\n",
              "    </tr>\n",
              "    <tr>\n",
              "      <th>1</th>\n",
              "      <td>2</td>\n",
              "      <td>alternative metal</td>\n",
              "    </tr>\n",
              "    <tr>\n",
              "      <th>2</th>\n",
              "      <td>3</td>\n",
              "      <td>goth rock</td>\n",
              "    </tr>\n",
              "    <tr>\n",
              "      <th>3</th>\n",
              "      <td>4</td>\n",
              "      <td>black metal</td>\n",
              "    </tr>\n",
              "    <tr>\n",
              "      <th>4</th>\n",
              "      <td>5</td>\n",
              "      <td>death metal</td>\n",
              "    </tr>\n",
              "  </tbody>\n",
              "</table>\n",
              "</div>"
            ],
            "text/plain": [
              "   tagID           tagValue\n",
              "0      1              metal\n",
              "1      2  alternative metal\n",
              "2      3          goth rock\n",
              "3      4        black metal\n",
              "4      5        death metal"
            ]
          },
          "metadata": {
            "tags": []
          },
          "execution_count": 45
        }
      ]
    },
    {
      "cell_type": "code",
      "metadata": {
        "colab": {
          "base_uri": "https://localhost:8080/",
          "height": 416
        },
        "id": "xecNi0Ay48pj",
        "outputId": "450ef044-e11d-4800-e94f-482af3b1b3cb"
      },
      "source": [
        "user_artist_tag_data = pd.merge(tags_data, user_taggedartists_data_reduce, on=[\"tagID\"])\r\n",
        "user_artist_tag_data"
      ],
      "execution_count": null,
      "outputs": [
        {
          "output_type": "execute_result",
          "data": {
            "text/html": [
              "<div>\n",
              "<style scoped>\n",
              "    .dataframe tbody tr th:only-of-type {\n",
              "        vertical-align: middle;\n",
              "    }\n",
              "\n",
              "    .dataframe tbody tr th {\n",
              "        vertical-align: top;\n",
              "    }\n",
              "\n",
              "    .dataframe thead th {\n",
              "        text-align: right;\n",
              "    }\n",
              "</style>\n",
              "<table border=\"1\" class=\"dataframe\">\n",
              "  <thead>\n",
              "    <tr style=\"text-align: right;\">\n",
              "      <th></th>\n",
              "      <th>tagID</th>\n",
              "      <th>tagValue</th>\n",
              "      <th>userID</th>\n",
              "      <th>artistID</th>\n",
              "      <th>day</th>\n",
              "      <th>month</th>\n",
              "      <th>year</th>\n",
              "    </tr>\n",
              "  </thead>\n",
              "  <tbody>\n",
              "    <tr>\n",
              "      <th>0</th>\n",
              "      <td>1</td>\n",
              "      <td>metal</td>\n",
              "      <td>4</td>\n",
              "      <td>918</td>\n",
              "      <td>1</td>\n",
              "      <td>5</td>\n",
              "      <td>2008</td>\n",
              "    </tr>\n",
              "    <tr>\n",
              "      <th>1</th>\n",
              "      <td>1</td>\n",
              "      <td>metal</td>\n",
              "      <td>12</td>\n",
              "      <td>181</td>\n",
              "      <td>1</td>\n",
              "      <td>5</td>\n",
              "      <td>2010</td>\n",
              "    </tr>\n",
              "    <tr>\n",
              "      <th>2</th>\n",
              "      <td>1</td>\n",
              "      <td>metal</td>\n",
              "      <td>12</td>\n",
              "      <td>198</td>\n",
              "      <td>1</td>\n",
              "      <td>2</td>\n",
              "      <td>2010</td>\n",
              "    </tr>\n",
              "    <tr>\n",
              "      <th>3</th>\n",
              "      <td>1</td>\n",
              "      <td>metal</td>\n",
              "      <td>12</td>\n",
              "      <td>500</td>\n",
              "      <td>1</td>\n",
              "      <td>2</td>\n",
              "      <td>2010</td>\n",
              "    </tr>\n",
              "    <tr>\n",
              "      <th>4</th>\n",
              "      <td>1</td>\n",
              "      <td>metal</td>\n",
              "      <td>12</td>\n",
              "      <td>503</td>\n",
              "      <td>1</td>\n",
              "      <td>3</td>\n",
              "      <td>2010</td>\n",
              "    </tr>\n",
              "    <tr>\n",
              "      <th>...</th>\n",
              "      <td>...</td>\n",
              "      <td>...</td>\n",
              "      <td>...</td>\n",
              "      <td>...</td>\n",
              "      <td>...</td>\n",
              "      <td>...</td>\n",
              "      <td>...</td>\n",
              "    </tr>\n",
              "    <tr>\n",
              "      <th>180222</th>\n",
              "      <td>12647</td>\n",
              "      <td>eire</td>\n",
              "      <td>2096</td>\n",
              "      <td>166</td>\n",
              "      <td>1</td>\n",
              "      <td>8</td>\n",
              "      <td>2010</td>\n",
              "    </tr>\n",
              "    <tr>\n",
              "      <th>180223</th>\n",
              "      <td>12647</td>\n",
              "      <td>eire</td>\n",
              "      <td>2096</td>\n",
              "      <td>389</td>\n",
              "      <td>1</td>\n",
              "      <td>9</td>\n",
              "      <td>2010</td>\n",
              "    </tr>\n",
              "    <tr>\n",
              "      <th>180224</th>\n",
              "      <td>12647</td>\n",
              "      <td>eire</td>\n",
              "      <td>2096</td>\n",
              "      <td>511</td>\n",
              "      <td>1</td>\n",
              "      <td>8</td>\n",
              "      <td>2010</td>\n",
              "    </tr>\n",
              "    <tr>\n",
              "      <th>180225</th>\n",
              "      <td>12647</td>\n",
              "      <td>eire</td>\n",
              "      <td>2096</td>\n",
              "      <td>1375</td>\n",
              "      <td>1</td>\n",
              "      <td>8</td>\n",
              "      <td>2010</td>\n",
              "    </tr>\n",
              "    <tr>\n",
              "      <th>180226</th>\n",
              "      <td>12647</td>\n",
              "      <td>eire</td>\n",
              "      <td>2096</td>\n",
              "      <td>2542</td>\n",
              "      <td>1</td>\n",
              "      <td>9</td>\n",
              "      <td>2010</td>\n",
              "    </tr>\n",
              "  </tbody>\n",
              "</table>\n",
              "<p>180227 rows × 7 columns</p>\n",
              "</div>"
            ],
            "text/plain": [
              "        tagID tagValue  userID  artistID  day  month  year\n",
              "0           1    metal       4       918    1      5  2008\n",
              "1           1    metal      12       181    1      5  2010\n",
              "2           1    metal      12       198    1      2  2010\n",
              "3           1    metal      12       500    1      2  2010\n",
              "4           1    metal      12       503    1      3  2010\n",
              "...       ...      ...     ...       ...  ...    ...   ...\n",
              "180222  12647     eire    2096       166    1      8  2010\n",
              "180223  12647     eire    2096       389    1      9  2010\n",
              "180224  12647     eire    2096       511    1      8  2010\n",
              "180225  12647     eire    2096      1375    1      8  2010\n",
              "180226  12647     eire    2096      2542    1      9  2010\n",
              "\n",
              "[180227 rows x 7 columns]"
            ]
          },
          "metadata": {
            "tags": []
          },
          "execution_count": 46
        }
      ]
    },
    {
      "cell_type": "code",
      "metadata": {
        "colab": {
          "base_uri": "https://localhost:8080/"
        },
        "id": "9rwVtyfP5ezY",
        "outputId": "df7537eb-2447-4bcb-cb0e-7852bbf54082"
      },
      "source": [
        "\r\n",
        "user_artist_tag_data.artistID.nunique()"
      ],
      "execution_count": null,
      "outputs": [
        {
          "output_type": "execute_result",
          "data": {
            "text/plain": [
              "12513"
            ]
          },
          "metadata": {
            "tags": []
          },
          "execution_count": 47
        }
      ]
    },
    {
      "cell_type": "code",
      "metadata": {
        "id": "tva_-ma455AJ"
      },
      "source": [
        "artist_data.rename(columns={'id': 'artistID'}, inplace=True)\r\n",
        "user_artist_tag_data = pd.merge(user_artist_tag_data, artist_data, how='inner', on=[\"artistID\"])"
      ],
      "execution_count": null,
      "outputs": []
    },
    {
      "cell_type": "code",
      "metadata": {
        "colab": {
          "base_uri": "https://localhost:8080/"
        },
        "id": "rMCPogVg6jZI",
        "outputId": "4b25b6a5-ef75-4f7a-87c5-1825423457e1"
      },
      "source": [
        "user_artist_tag_data.artistID.nunique()"
      ],
      "execution_count": null,
      "outputs": [
        {
          "output_type": "execute_result",
          "data": {
            "text/plain": [
              "12123"
            ]
          },
          "metadata": {
            "tags": []
          },
          "execution_count": 49
        }
      ]
    },
    {
      "cell_type": "code",
      "metadata": {
        "colab": {
          "base_uri": "https://localhost:8080/",
          "height": 609
        },
        "id": "Ohl5Jk_46mSA",
        "outputId": "7935bae8-0d05-44d0-e8c7-fe8a009f6804"
      },
      "source": [
        "user_artist_tag_data"
      ],
      "execution_count": null,
      "outputs": [
        {
          "output_type": "execute_result",
          "data": {
            "text/html": [
              "<div>\n",
              "<style scoped>\n",
              "    .dataframe tbody tr th:only-of-type {\n",
              "        vertical-align: middle;\n",
              "    }\n",
              "\n",
              "    .dataframe tbody tr th {\n",
              "        vertical-align: top;\n",
              "    }\n",
              "\n",
              "    .dataframe thead th {\n",
              "        text-align: right;\n",
              "    }\n",
              "</style>\n",
              "<table border=\"1\" class=\"dataframe\">\n",
              "  <thead>\n",
              "    <tr style=\"text-align: right;\">\n",
              "      <th></th>\n",
              "      <th>tagID</th>\n",
              "      <th>tagValue</th>\n",
              "      <th>userID</th>\n",
              "      <th>artistID</th>\n",
              "      <th>day</th>\n",
              "      <th>month</th>\n",
              "      <th>year</th>\n",
              "      <th>name</th>\n",
              "      <th>url</th>\n",
              "      <th>pictureURL</th>\n",
              "    </tr>\n",
              "  </thead>\n",
              "  <tbody>\n",
              "    <tr>\n",
              "      <th>0</th>\n",
              "      <td>1</td>\n",
              "      <td>metal</td>\n",
              "      <td>4</td>\n",
              "      <td>918</td>\n",
              "      <td>1</td>\n",
              "      <td>5</td>\n",
              "      <td>2008</td>\n",
              "      <td>Megadeth</td>\n",
              "      <td>http://www.last.fm/music/Megadeth</td>\n",
              "      <td>http://userserve-ak.last.fm/serve/252/8129787.jpg</td>\n",
              "    </tr>\n",
              "    <tr>\n",
              "      <th>1</th>\n",
              "      <td>1</td>\n",
              "      <td>metal</td>\n",
              "      <td>170</td>\n",
              "      <td>918</td>\n",
              "      <td>1</td>\n",
              "      <td>11</td>\n",
              "      <td>2008</td>\n",
              "      <td>Megadeth</td>\n",
              "      <td>http://www.last.fm/music/Megadeth</td>\n",
              "      <td>http://userserve-ak.last.fm/serve/252/8129787.jpg</td>\n",
              "    </tr>\n",
              "    <tr>\n",
              "      <th>2</th>\n",
              "      <td>1</td>\n",
              "      <td>metal</td>\n",
              "      <td>313</td>\n",
              "      <td>918</td>\n",
              "      <td>1</td>\n",
              "      <td>5</td>\n",
              "      <td>2007</td>\n",
              "      <td>Megadeth</td>\n",
              "      <td>http://www.last.fm/music/Megadeth</td>\n",
              "      <td>http://userserve-ak.last.fm/serve/252/8129787.jpg</td>\n",
              "    </tr>\n",
              "    <tr>\n",
              "      <th>3</th>\n",
              "      <td>1</td>\n",
              "      <td>metal</td>\n",
              "      <td>491</td>\n",
              "      <td>918</td>\n",
              "      <td>1</td>\n",
              "      <td>2</td>\n",
              "      <td>2009</td>\n",
              "      <td>Megadeth</td>\n",
              "      <td>http://www.last.fm/music/Megadeth</td>\n",
              "      <td>http://userserve-ak.last.fm/serve/252/8129787.jpg</td>\n",
              "    </tr>\n",
              "    <tr>\n",
              "      <th>4</th>\n",
              "      <td>1</td>\n",
              "      <td>metal</td>\n",
              "      <td>595</td>\n",
              "      <td>918</td>\n",
              "      <td>1</td>\n",
              "      <td>8</td>\n",
              "      <td>2005</td>\n",
              "      <td>Megadeth</td>\n",
              "      <td>http://www.last.fm/music/Megadeth</td>\n",
              "      <td>http://userserve-ak.last.fm/serve/252/8129787.jpg</td>\n",
              "    </tr>\n",
              "    <tr>\n",
              "      <th>...</th>\n",
              "      <td>...</td>\n",
              "      <td>...</td>\n",
              "      <td>...</td>\n",
              "      <td>...</td>\n",
              "      <td>...</td>\n",
              "      <td>...</td>\n",
              "      <td>...</td>\n",
              "      <td>...</td>\n",
              "      <td>...</td>\n",
              "      <td>...</td>\n",
              "    </tr>\n",
              "    <tr>\n",
              "      <th>178684</th>\n",
              "      <td>12641</td>\n",
              "      <td>derd</td>\n",
              "      <td>2095</td>\n",
              "      <td>18669</td>\n",
              "      <td>1</td>\n",
              "      <td>11</td>\n",
              "      <td>2008</td>\n",
              "      <td>Kızılırmak</td>\n",
              "      <td>http://www.last.fm/music/K%C4%B1z%C4%B1l%C4%B1...</td>\n",
              "      <td>http://userserve-ak.last.fm/serve/252/40266747...</td>\n",
              "    </tr>\n",
              "    <tr>\n",
              "      <th>178685</th>\n",
              "      <td>12640</td>\n",
              "      <td>devrim</td>\n",
              "      <td>2095</td>\n",
              "      <td>18678</td>\n",
              "      <td>1</td>\n",
              "      <td>12</td>\n",
              "      <td>2008</td>\n",
              "      <td>ibrahim paşalı</td>\n",
              "      <td>http://www.last.fm/music/ibrahim+pa%C5%9Fal%C4%B1</td>\n",
              "      <td>http://userserve-ak.last.fm/serve/252/18799329...</td>\n",
              "    </tr>\n",
              "    <tr>\n",
              "      <th>178686</th>\n",
              "      <td>12640</td>\n",
              "      <td>devrim</td>\n",
              "      <td>2095</td>\n",
              "      <td>18689</td>\n",
              "      <td>1</td>\n",
              "      <td>11</td>\n",
              "      <td>2008</td>\n",
              "      <td>Yalçın Gül</td>\n",
              "      <td>http://www.last.fm/music/Yal%C3%A7%C4%B1n+G%C3...</td>\n",
              "      <td>http://userserve-ak.last.fm/serve/252/17023337...</td>\n",
              "    </tr>\n",
              "    <tr>\n",
              "      <th>178687</th>\n",
              "      <td>12640</td>\n",
              "      <td>devrim</td>\n",
              "      <td>2095</td>\n",
              "      <td>18695</td>\n",
              "      <td>1</td>\n",
              "      <td>12</td>\n",
              "      <td>2008</td>\n",
              "      <td>Carlos Puebla</td>\n",
              "      <td>http://www.last.fm/music/Carlos+Puebla</td>\n",
              "      <td>http://userserve-ak.last.fm/serve/252/521276.jpg</td>\n",
              "    </tr>\n",
              "    <tr>\n",
              "      <th>178688</th>\n",
              "      <td>12641</td>\n",
              "      <td>derd</td>\n",
              "      <td>2095</td>\n",
              "      <td>18691</td>\n",
              "      <td>1</td>\n",
              "      <td>1</td>\n",
              "      <td>2009</td>\n",
              "      <td>Arzu Görücü</td>\n",
              "      <td>http://www.last.fm/music/Arzu+G%C3%B6r%C3%BCc%...</td>\n",
              "      <td>http://userserve-ak.last.fm/serve/252/12457783...</td>\n",
              "    </tr>\n",
              "  </tbody>\n",
              "</table>\n",
              "<p>178689 rows × 10 columns</p>\n",
              "</div>"
            ],
            "text/plain": [
              "        tagID  ...                                         pictureURL\n",
              "0           1  ...  http://userserve-ak.last.fm/serve/252/8129787.jpg\n",
              "1           1  ...  http://userserve-ak.last.fm/serve/252/8129787.jpg\n",
              "2           1  ...  http://userserve-ak.last.fm/serve/252/8129787.jpg\n",
              "3           1  ...  http://userserve-ak.last.fm/serve/252/8129787.jpg\n",
              "4           1  ...  http://userserve-ak.last.fm/serve/252/8129787.jpg\n",
              "...       ...  ...                                                ...\n",
              "178684  12641  ...  http://userserve-ak.last.fm/serve/252/40266747...\n",
              "178685  12640  ...  http://userserve-ak.last.fm/serve/252/18799329...\n",
              "178686  12640  ...  http://userserve-ak.last.fm/serve/252/17023337...\n",
              "178687  12640  ...   http://userserve-ak.last.fm/serve/252/521276.jpg\n",
              "178688  12641  ...  http://userserve-ak.last.fm/serve/252/12457783...\n",
              "\n",
              "[178689 rows x 10 columns]"
            ]
          },
          "metadata": {
            "tags": []
          },
          "execution_count": 50
        }
      ]
    },
    {
      "cell_type": "code",
      "metadata": {
        "colab": {
          "base_uri": "https://localhost:8080/"
        },
        "id": "O9QkqzgQ6rxv",
        "outputId": "38b098a8-2536-417c-8b4d-d82daeb3df7e"
      },
      "source": [
        "user_artist_data_reduce.dtypes"
      ],
      "execution_count": null,
      "outputs": [
        {
          "output_type": "execute_result",
          "data": {
            "text/plain": [
              "userID        int64\n",
              "artistID      int64\n",
              "weight      float64\n",
              "dtype: object"
            ]
          },
          "metadata": {
            "tags": []
          },
          "execution_count": 51
        }
      ]
    },
    {
      "cell_type": "code",
      "metadata": {
        "id": "volsLhfx8YR0"
      },
      "source": [
        "user_artist_tag_data = pd.merge(user_artist_data_reduce, user_artist_tag_data, on=[\"artistID\",\"userID\"])"
      ],
      "execution_count": null,
      "outputs": []
    },
    {
      "cell_type": "code",
      "metadata": {
        "colab": {
          "base_uri": "https://localhost:8080/"
        },
        "id": "pGVYU8k68fGX",
        "outputId": "bb7600f2-1eff-460b-f78a-0a2074ae414f"
      },
      "source": [
        "user_artist_tag_data.artistID.nunique()"
      ],
      "execution_count": null,
      "outputs": [
        {
          "output_type": "execute_result",
          "data": {
            "text/plain": [
              "6844"
            ]
          },
          "metadata": {
            "tags": []
          },
          "execution_count": 53
        }
      ]
    },
    {
      "cell_type": "markdown",
      "metadata": {
        "id": "6EjHeI10sExJ"
      },
      "source": [
        "### Generación de vectores de contenido"
      ]
    },
    {
      "cell_type": "markdown",
      "metadata": {
        "id": "xE-jp60usM2V"
      },
      "source": [
        "2. **Vectores de contenido**: Deberán generar vectores de contenido para los artistas, basados en los tags que los usuarios les dan (ver los archivos `user_taggedartists.dat` y `tags.dat`)."
      ]
    },
    {
      "cell_type": "code",
      "metadata": {
        "id": "PqMm1W6dsk5Q"
      },
      "source": [
        "user_artists_weights = user_artist_tag_data.groupby(['userID','name'])['weight'].sum().reset_index()"
      ],
      "execution_count": null,
      "outputs": []
    },
    {
      "cell_type": "code",
      "metadata": {
        "colab": {
          "base_uri": "https://localhost:8080/",
          "height": 416
        },
        "id": "5KxOfJ66uLFI",
        "outputId": "7fbdb286-f0bf-4ad5-fdd8-7718db03ea49"
      },
      "source": [
        "user_artists_weights "
      ],
      "execution_count": null,
      "outputs": [
        {
          "output_type": "execute_result",
          "data": {
            "text/html": [
              "<div>\n",
              "<style scoped>\n",
              "    .dataframe tbody tr th:only-of-type {\n",
              "        vertical-align: middle;\n",
              "    }\n",
              "\n",
              "    .dataframe tbody tr th {\n",
              "        vertical-align: top;\n",
              "    }\n",
              "\n",
              "    .dataframe thead th {\n",
              "        text-align: right;\n",
              "    }\n",
              "</style>\n",
              "<table border=\"1\" class=\"dataframe\">\n",
              "  <thead>\n",
              "    <tr style=\"text-align: right;\">\n",
              "      <th></th>\n",
              "      <th>userID</th>\n",
              "      <th>name</th>\n",
              "      <th>weight</th>\n",
              "    </tr>\n",
              "  </thead>\n",
              "  <tbody>\n",
              "    <tr>\n",
              "      <th>0</th>\n",
              "      <td>2</td>\n",
              "      <td>Café Del Mar</td>\n",
              "      <td>0.058611</td>\n",
              "    </tr>\n",
              "    <tr>\n",
              "      <th>1</th>\n",
              "      <td>2</td>\n",
              "      <td>Enigma</td>\n",
              "      <td>0.042359</td>\n",
              "    </tr>\n",
              "    <tr>\n",
              "      <th>2</th>\n",
              "      <td>2</td>\n",
              "      <td>Fleetwood Mac</td>\n",
              "      <td>0.007610</td>\n",
              "    </tr>\n",
              "    <tr>\n",
              "      <th>3</th>\n",
              "      <td>2</td>\n",
              "      <td>Ministry of Sound</td>\n",
              "      <td>0.031143</td>\n",
              "    </tr>\n",
              "    <tr>\n",
              "      <th>4</th>\n",
              "      <td>2</td>\n",
              "      <td>Morcheeba</td>\n",
              "      <td>0.165723</td>\n",
              "    </tr>\n",
              "    <tr>\n",
              "      <th>...</th>\n",
              "      <td>...</td>\n",
              "      <td>...</td>\n",
              "      <td>...</td>\n",
              "    </tr>\n",
              "    <tr>\n",
              "      <th>19503</th>\n",
              "      <td>2100</td>\n",
              "      <td>Amžius</td>\n",
              "      <td>0.007372</td>\n",
              "    </tr>\n",
              "    <tr>\n",
              "      <th>19504</th>\n",
              "      <td>2100</td>\n",
              "      <td>Les Discrets</td>\n",
              "      <td>0.006280</td>\n",
              "    </tr>\n",
              "    <tr>\n",
              "      <th>19505</th>\n",
              "      <td>2100</td>\n",
              "      <td>Lifelover</td>\n",
              "      <td>0.006218</td>\n",
              "    </tr>\n",
              "    <tr>\n",
              "      <th>19506</th>\n",
              "      <td>2100</td>\n",
              "      <td>Tenhi</td>\n",
              "      <td>0.003011</td>\n",
              "    </tr>\n",
              "    <tr>\n",
              "      <th>19507</th>\n",
              "      <td>2100</td>\n",
              "      <td>Vilkduja</td>\n",
              "      <td>0.001517</td>\n",
              "    </tr>\n",
              "  </tbody>\n",
              "</table>\n",
              "<p>19508 rows × 3 columns</p>\n",
              "</div>"
            ],
            "text/plain": [
              "       userID               name    weight\n",
              "0           2       Café Del Mar  0.058611\n",
              "1           2             Enigma  0.042359\n",
              "2           2      Fleetwood Mac  0.007610\n",
              "3           2  Ministry of Sound  0.031143\n",
              "4           2          Morcheeba  0.165723\n",
              "...       ...                ...       ...\n",
              "19503    2100             Amžius  0.007372\n",
              "19504    2100       Les Discrets  0.006280\n",
              "19505    2100          Lifelover  0.006218\n",
              "19506    2100              Tenhi  0.003011\n",
              "19507    2100           Vilkduja  0.001517\n",
              "\n",
              "[19508 rows x 3 columns]"
            ]
          },
          "metadata": {
            "tags": []
          },
          "execution_count": 55
        }
      ]
    },
    {
      "cell_type": "code",
      "metadata": {
        "colab": {
          "base_uri": "https://localhost:8080/",
          "height": 416
        },
        "id": "zU0hamOWuPAw",
        "outputId": "20069284-4586-4026-8cc2-3def28b6e32b"
      },
      "source": [
        "artist_tag_weights= user_artist_tag_data.groupby(['artistID','tagValue'])['weight'].sum().reset_index()\r\n",
        "artist_tag_weights"
      ],
      "execution_count": null,
      "outputs": [
        {
          "output_type": "execute_result",
          "data": {
            "text/html": [
              "<div>\n",
              "<style scoped>\n",
              "    .dataframe tbody tr th:only-of-type {\n",
              "        vertical-align: middle;\n",
              "    }\n",
              "\n",
              "    .dataframe tbody tr th {\n",
              "        vertical-align: top;\n",
              "    }\n",
              "\n",
              "    .dataframe thead th {\n",
              "        text-align: right;\n",
              "    }\n",
              "</style>\n",
              "<table border=\"1\" class=\"dataframe\">\n",
              "  <thead>\n",
              "    <tr style=\"text-align: right;\">\n",
              "      <th></th>\n",
              "      <th>artistID</th>\n",
              "      <th>tagValue</th>\n",
              "      <th>weight</th>\n",
              "    </tr>\n",
              "  </thead>\n",
              "  <tbody>\n",
              "    <tr>\n",
              "      <th>0</th>\n",
              "      <td>1</td>\n",
              "      <td>better than lady gaga</td>\n",
              "      <td>0.000215</td>\n",
              "    </tr>\n",
              "    <tr>\n",
              "      <th>1</th>\n",
              "      <td>1</td>\n",
              "      <td>jrock</td>\n",
              "      <td>0.001369</td>\n",
              "    </tr>\n",
              "    <tr>\n",
              "      <th>2</th>\n",
              "      <td>2</td>\n",
              "      <td>darkwave</td>\n",
              "      <td>0.013879</td>\n",
              "    </tr>\n",
              "    <tr>\n",
              "      <th>3</th>\n",
              "      <td>2</td>\n",
              "      <td>german</td>\n",
              "      <td>0.010284</td>\n",
              "    </tr>\n",
              "    <tr>\n",
              "      <th>4</th>\n",
              "      <td>2</td>\n",
              "      <td>gothic</td>\n",
              "      <td>0.011497</td>\n",
              "    </tr>\n",
              "    <tr>\n",
              "      <th>...</th>\n",
              "      <td>...</td>\n",
              "      <td>...</td>\n",
              "      <td>...</td>\n",
              "    </tr>\n",
              "    <tr>\n",
              "      <th>49236</th>\n",
              "      <td>18744</td>\n",
              "      <td>electronica</td>\n",
              "      <td>0.000811</td>\n",
              "    </tr>\n",
              "    <tr>\n",
              "      <th>49237</th>\n",
              "      <td>18744</td>\n",
              "      <td>low tempo</td>\n",
              "      <td>0.000811</td>\n",
              "    </tr>\n",
              "    <tr>\n",
              "      <th>49238</th>\n",
              "      <td>18744</td>\n",
              "      <td>nu jazz</td>\n",
              "      <td>0.000811</td>\n",
              "    </tr>\n",
              "    <tr>\n",
              "      <th>49239</th>\n",
              "      <td>18744</td>\n",
              "      <td>trip beat</td>\n",
              "      <td>0.000811</td>\n",
              "    </tr>\n",
              "    <tr>\n",
              "      <th>49240</th>\n",
              "      <td>18744</td>\n",
              "      <td>trip hop</td>\n",
              "      <td>0.000811</td>\n",
              "    </tr>\n",
              "  </tbody>\n",
              "</table>\n",
              "<p>49241 rows × 3 columns</p>\n",
              "</div>"
            ],
            "text/plain": [
              "       artistID               tagValue    weight\n",
              "0             1  better than lady gaga  0.000215\n",
              "1             1                  jrock  0.001369\n",
              "2             2               darkwave  0.013879\n",
              "3             2                 german  0.010284\n",
              "4             2                 gothic  0.011497\n",
              "...         ...                    ...       ...\n",
              "49236     18744            electronica  0.000811\n",
              "49237     18744              low tempo  0.000811\n",
              "49238     18744                nu jazz  0.000811\n",
              "49239     18744              trip beat  0.000811\n",
              "49240     18744               trip hop  0.000811\n",
              "\n",
              "[49241 rows x 3 columns]"
            ]
          },
          "metadata": {
            "tags": []
          },
          "execution_count": 56
        }
      ]
    },
    {
      "cell_type": "code",
      "metadata": {
        "colab": {
          "base_uri": "https://localhost:8080/",
          "height": 416
        },
        "id": "c5BeHzUrwY7P",
        "outputId": "af3bfe83-cd52-4639-a330-3d120f74d695"
      },
      "source": [
        "artist_name_weights= user_artist_tag_data.groupby(['artistID','name'])['weight'].sum().reset_index()\r\n",
        "artist_name_weights"
      ],
      "execution_count": null,
      "outputs": [
        {
          "output_type": "execute_result",
          "data": {
            "text/html": [
              "<div>\n",
              "<style scoped>\n",
              "    .dataframe tbody tr th:only-of-type {\n",
              "        vertical-align: middle;\n",
              "    }\n",
              "\n",
              "    .dataframe tbody tr th {\n",
              "        vertical-align: top;\n",
              "    }\n",
              "\n",
              "    .dataframe thead th {\n",
              "        text-align: right;\n",
              "    }\n",
              "</style>\n",
              "<table border=\"1\" class=\"dataframe\">\n",
              "  <thead>\n",
              "    <tr style=\"text-align: right;\">\n",
              "      <th></th>\n",
              "      <th>artistID</th>\n",
              "      <th>name</th>\n",
              "      <th>weight</th>\n",
              "    </tr>\n",
              "  </thead>\n",
              "  <tbody>\n",
              "    <tr>\n",
              "      <th>0</th>\n",
              "      <td>1</td>\n",
              "      <td>MALICE MIZER</td>\n",
              "      <td>0.001585</td>\n",
              "    </tr>\n",
              "    <tr>\n",
              "      <th>1</th>\n",
              "      <td>2</td>\n",
              "      <td>Diary of Dreams</td>\n",
              "      <td>0.036116</td>\n",
              "    </tr>\n",
              "    <tr>\n",
              "      <th>2</th>\n",
              "      <td>3</td>\n",
              "      <td>Carpathian Forest</td>\n",
              "      <td>0.000525</td>\n",
              "    </tr>\n",
              "    <tr>\n",
              "      <th>3</th>\n",
              "      <td>4</td>\n",
              "      <td>Moi dix Mois</td>\n",
              "      <td>0.003187</td>\n",
              "    </tr>\n",
              "    <tr>\n",
              "      <th>4</th>\n",
              "      <td>5</td>\n",
              "      <td>Bella Morte</td>\n",
              "      <td>0.002212</td>\n",
              "    </tr>\n",
              "    <tr>\n",
              "      <th>...</th>\n",
              "      <td>...</td>\n",
              "      <td>...</td>\n",
              "      <td>...</td>\n",
              "    </tr>\n",
              "    <tr>\n",
              "      <th>6839</th>\n",
              "      <td>18734</td>\n",
              "      <td>The Young Gods</td>\n",
              "      <td>0.005852</td>\n",
              "    </tr>\n",
              "    <tr>\n",
              "      <th>6840</th>\n",
              "      <td>18735</td>\n",
              "      <td>Wiseblood</td>\n",
              "      <td>0.002538</td>\n",
              "    </tr>\n",
              "    <tr>\n",
              "      <th>6841</th>\n",
              "      <td>18736</td>\n",
              "      <td>LOSTFREEQ</td>\n",
              "      <td>0.112150</td>\n",
              "    </tr>\n",
              "    <tr>\n",
              "      <th>6842</th>\n",
              "      <td>18737</td>\n",
              "      <td>Ciccone Youth</td>\n",
              "      <td>0.004763</td>\n",
              "    </tr>\n",
              "    <tr>\n",
              "      <th>6843</th>\n",
              "      <td>18744</td>\n",
              "      <td>Oz Alchemist</td>\n",
              "      <td>0.011352</td>\n",
              "    </tr>\n",
              "  </tbody>\n",
              "</table>\n",
              "<p>6844 rows × 3 columns</p>\n",
              "</div>"
            ],
            "text/plain": [
              "      artistID               name    weight\n",
              "0            1       MALICE MIZER  0.001585\n",
              "1            2    Diary of Dreams  0.036116\n",
              "2            3  Carpathian Forest  0.000525\n",
              "3            4       Moi dix Mois  0.003187\n",
              "4            5        Bella Morte  0.002212\n",
              "...        ...                ...       ...\n",
              "6839     18734     The Young Gods  0.005852\n",
              "6840     18735          Wiseblood  0.002538\n",
              "6841     18736          LOSTFREEQ  0.112150\n",
              "6842     18737      Ciccone Youth  0.004763\n",
              "6843     18744       Oz Alchemist  0.011352\n",
              "\n",
              "[6844 rows x 3 columns]"
            ]
          },
          "metadata": {
            "tags": []
          },
          "execution_count": 57
        }
      ]
    },
    {
      "cell_type": "code",
      "metadata": {
        "id": "rWwgkjoEw5IN"
      },
      "source": [
        "artist_ids = artist_name_weights['artistID'].values"
      ],
      "execution_count": null,
      "outputs": []
    },
    {
      "cell_type": "code",
      "metadata": {
        "id": "Q9Pd6Nsvy416"
      },
      "source": [
        "artist_tags_listed = artist_tag_weights.copy()\r\n",
        "tag_list = list()\r\n",
        "for id_ in artist_ids:\r\n",
        "  tag_list_temp = list()\r\n",
        "  tag_list_temp = artist_tag_weights[artist_tag_weights['artistID']==id_].tagValue.values\r\n",
        "  tag_list.append(tag_list_temp)\r\n",
        "  \r\n",
        "artist_name_weights['tags_list'] = tag_list"
      ],
      "execution_count": null,
      "outputs": []
    },
    {
      "cell_type": "code",
      "metadata": {
        "colab": {
          "base_uri": "https://localhost:8080/",
          "height": 416
        },
        "id": "KL4W6a04z2Vs",
        "outputId": "79489fcf-c537-4e20-f1a6-6fde1be0ddb9"
      },
      "source": [
        "artist_name_weights.drop(columns=['weight'], inplace=True)\r\n",
        "artist_name_weights"
      ],
      "execution_count": null,
      "outputs": [
        {
          "output_type": "execute_result",
          "data": {
            "text/html": [
              "<div>\n",
              "<style scoped>\n",
              "    .dataframe tbody tr th:only-of-type {\n",
              "        vertical-align: middle;\n",
              "    }\n",
              "\n",
              "    .dataframe tbody tr th {\n",
              "        vertical-align: top;\n",
              "    }\n",
              "\n",
              "    .dataframe thead th {\n",
              "        text-align: right;\n",
              "    }\n",
              "</style>\n",
              "<table border=\"1\" class=\"dataframe\">\n",
              "  <thead>\n",
              "    <tr style=\"text-align: right;\">\n",
              "      <th></th>\n",
              "      <th>artistID</th>\n",
              "      <th>name</th>\n",
              "      <th>tags_list</th>\n",
              "    </tr>\n",
              "  </thead>\n",
              "  <tbody>\n",
              "    <tr>\n",
              "      <th>0</th>\n",
              "      <td>1</td>\n",
              "      <td>MALICE MIZER</td>\n",
              "      <td>[better than lady gaga, jrock]</td>\n",
              "    </tr>\n",
              "    <tr>\n",
              "      <th>1</th>\n",
              "      <td>2</td>\n",
              "      <td>Diary of Dreams</td>\n",
              "      <td>[darkwave, german, gothic, gothic rock]</td>\n",
              "    </tr>\n",
              "    <tr>\n",
              "      <th>2</th>\n",
              "      <td>3</td>\n",
              "      <td>Carpathian Forest</td>\n",
              "      <td>[black metal, norsk arysk metal, norwegian bla...</td>\n",
              "    </tr>\n",
              "    <tr>\n",
              "      <th>3</th>\n",
              "      <td>4</td>\n",
              "      <td>Moi dix Mois</td>\n",
              "      <td>[j-rock, visual kei]</td>\n",
              "    </tr>\n",
              "    <tr>\n",
              "      <th>4</th>\n",
              "      <td>5</td>\n",
              "      <td>Bella Morte</td>\n",
              "      <td>[darkwave, gothic, gothic rock]</td>\n",
              "    </tr>\n",
              "    <tr>\n",
              "      <th>...</th>\n",
              "      <td>...</td>\n",
              "      <td>...</td>\n",
              "      <td>...</td>\n",
              "    </tr>\n",
              "    <tr>\n",
              "      <th>6839</th>\n",
              "      <td>18734</td>\n",
              "      <td>The Young Gods</td>\n",
              "      <td>[alternative, electronica]</td>\n",
              "    </tr>\n",
              "    <tr>\n",
              "      <th>6840</th>\n",
              "      <td>18735</td>\n",
              "      <td>Wiseblood</td>\n",
              "      <td>[alternative]</td>\n",
              "    </tr>\n",
              "    <tr>\n",
              "      <th>6841</th>\n",
              "      <td>18736</td>\n",
              "      <td>LOSTFREEQ</td>\n",
              "      <td>[-pearl fashion music, ambient, aphex twin, at...</td>\n",
              "    </tr>\n",
              "    <tr>\n",
              "      <th>6842</th>\n",
              "      <td>18737</td>\n",
              "      <td>Ciccone Youth</td>\n",
              "      <td>[alternative, electronica, trip beat]</td>\n",
              "    </tr>\n",
              "    <tr>\n",
              "      <th>6843</th>\n",
              "      <td>18744</td>\n",
              "      <td>Oz Alchemist</td>\n",
              "      <td>[-pearl fashion music, alternative, ambient, a...</td>\n",
              "    </tr>\n",
              "  </tbody>\n",
              "</table>\n",
              "<p>6844 rows × 3 columns</p>\n",
              "</div>"
            ],
            "text/plain": [
              "      artistID  ...                                          tags_list\n",
              "0            1  ...                     [better than lady gaga, jrock]\n",
              "1            2  ...            [darkwave, german, gothic, gothic rock]\n",
              "2            3  ...  [black metal, norsk arysk metal, norwegian bla...\n",
              "3            4  ...                               [j-rock, visual kei]\n",
              "4            5  ...                    [darkwave, gothic, gothic rock]\n",
              "...        ...  ...                                                ...\n",
              "6839     18734  ...                         [alternative, electronica]\n",
              "6840     18735  ...                                      [alternative]\n",
              "6841     18736  ...  [-pearl fashion music, ambient, aphex twin, at...\n",
              "6842     18737  ...              [alternative, electronica, trip beat]\n",
              "6843     18744  ...  [-pearl fashion music, alternative, ambient, a...\n",
              "\n",
              "[6844 rows x 3 columns]"
            ]
          },
          "metadata": {
            "tags": []
          },
          "execution_count": 60
        }
      ]
    },
    {
      "cell_type": "markdown",
      "metadata": {
        "id": "CY0ka3oABFqc"
      },
      "source": [
        "### Sistema de Recomendacion"
      ]
    },
    {
      "cell_type": "markdown",
      "metadata": {
        "id": "rTtVtVACBVhz"
      },
      "source": [
        "3. **Sistema de recomendación**: Deberán crear un sistema de recomendación que tomará como parámetros la información del artista (i.e. nombre y tags). Con dicha información, deberán disponer de un sistema de recomendación híbrido (utilizando cualquiera de las técnicas vistas en clase) que devuelva artistas similares. El sistema de recomendación deberá utilizar toda la información proporcionada para dar una mejor respuesta."
      ]
    },
    {
      "cell_type": "code",
      "metadata": {
        "id": "pm02xY4uBdEa"
      },
      "source": [
        "import numpy as np\r\n",
        "from sklearn.metrics.pairwise import cosine_similarity\r\n",
        "\r\n",
        "class GenresBasedFilter(object):\r\n",
        "    def __init__(self, artist_name_weights, k=5):\r\n",
        "        self.artist_to_idx = {row[\"name\"]: idx for idx, row in artist_name_weights.iterrows()}\r\n",
        "        self.idx_to_artist = {idx: artist for artist, idx in self.artist_to_idx.items()}\r\n",
        "        self.k = k\r\n",
        "\r\n",
        "        tagres = set(g for G in artist_name_weights['tags_list'] for g in G)\r\n",
        "        for g in tagres:\r\n",
        "            artist_name_weights[g] = artist_name_weights.tags_list.transform(lambda x: int(g in x))\r\n",
        "\r\n",
        "        self.artist_tagres = artist_name_weights.drop(columns=['artistID', 'name', 'tags_list'])\r\n",
        "\r\n",
        "    def fit(self, usr_ratings):\r\n",
        "        self.artist_cosine_sim_ = cosine_similarity(self.artist_tagres, self.artist_tagres)\r\n",
        "\r\n",
        "        self.user_ratings_ = {}\r\n",
        "        for (userID, name, weight_rank) in usr_ratings.build_testset():\r\n",
        "            if userID not in self.user_ratings_:\r\n",
        "                self.user_ratings_[userID] = {}\r\n",
        "            self.user_ratings_[userID][name] = weight_rank\r\n",
        "\r\n",
        "        return self\r\n",
        "\r\n",
        "    def predict(self, userID, artist):\r\n",
        "        if not userID in self.user_ratings_ or not artist in self.artist_to_idx:\r\n",
        "            global_mean = np.mean([\r\n",
        "                usr_ratings for artist in self.user_ratings_.values() for usr_ratings in artist.values()\r\n",
        "            ])\r\n",
        "            return global_mean\r\n",
        "\r\n",
        "        artist_idx = self.artist_to_idx[artist]\r\n",
        "        sim_scores = list(enumerate(self.artist_cosine_sim_[artist_idx]))\r\n",
        "        sim_scores = sorted(sim_scores, key=lambda x: x[1], reverse=True)\r\n",
        "        sim_scores = sim_scores[1:]\r\n",
        "\r\n",
        "        sims = []\r\n",
        "\r\n",
        "        for artist, score in sim_scores:\r\n",
        "            if self.idx_to_artist[artist] in self.user_ratings_[userID]:\r\n",
        "                sims.append((self.user_ratings_[userID][self.idx_to_artist[artist]], score))\r\n",
        "                if len(sims) >= self.k:\r\n",
        "                    break\r\n",
        "\r\n",
        "        user_mean = np.mean(list(self.user_ratings_[userID].values()))\r\n",
        "\r\n",
        "        pred = 0\r\n",
        "        sim_sum = 0\r\n",
        "\r\n",
        "        for rating, score in sims:\r\n",
        "            pred += score * (rating - user_mean)\r\n",
        "            sim_sum += score\r\n",
        "\r\n",
        "        if sim_sum == 0:\r\n",
        "            return user_mean\r\n",
        "\r\n",
        "        return user_mean + pred / sim_sum"
      ],
      "execution_count": null,
      "outputs": []
    },
    {
      "cell_type": "code",
      "metadata": {
        "id": "8OO-UJRCB9jm"
      },
      "source": [
        "cb_model = GenresBasedFilter(artist_name_weights).fit(ratings_train)"
      ],
      "execution_count": null,
      "outputs": []
    },
    {
      "cell_type": "code",
      "metadata": {
        "colab": {
          "base_uri": "https://localhost:8080/"
        },
        "id": "FXi1pUt9HwlD",
        "outputId": "ddc114e9-f68a-4536-d29d-e567ae257d5b"
      },
      "source": [
        "test_model = KNNBaseline()\r\n",
        "test_model.fit(ratings_train)\r\n",
        "predictions = test_model.test(ratings_test)"
      ],
      "execution_count": null,
      "outputs": [
        {
          "output_type": "stream",
          "text": [
            "Estimating biases using als...\n",
            "Computing the msd similarity matrix...\n",
            "Done computing similarity matrix.\n"
          ],
          "name": "stdout"
        }
      ]
    },
    {
      "cell_type": "code",
      "metadata": {
        "colab": {
          "base_uri": "https://localhost:8080/",
          "height": 118,
          "referenced_widgets": [
            "12ab217f1bae490f8a6ddb56a5dabe53",
            "b026b0def7ee42b9b8f561b4595b88a2",
            "a452663f89b44177a111fde3e9724697",
            "b9e56cea46b74d8884736c8acc434da8",
            "daf20712f71647079f01fc2c12ff2d0b",
            "7d825c58167942c1ae37c1e602d2f3ce",
            "6cf4f51e7b96423996a6b68de9624a37",
            "a0ffa4e1a12643358dac80d60025a276"
          ]
        },
        "id": "zhz0xBO2CX2W",
        "outputId": "4c966e96-9878-4ac2-8302-206c9ea5981a"
      },
      "source": [
        "from tqdm import tqdm_notebook\r\n",
        "\r\n",
        "transformed_ratings_train = []\r\n",
        "\r\n",
        "for u, m, r in tqdm_notebook(ratings_train.build_testset()):\r\n",
        "    transformed_ratings_train.append({\r\n",
        "        \"userID\": u,\r\n",
        "        \"artistID\": m,\r\n",
        "        \"cb_rating\": cb_model.predict(u, m),\r\n",
        "        \"cf_rating\": test_model.predict(u, m).est,\r\n",
        "        \"weight\": r\r\n",
        "    })\r\n",
        "\r\n",
        "transformed_ratings_train = pd.DataFrame(transformed_ratings_train)"
      ],
      "execution_count": null,
      "outputs": [
        {
          "output_type": "stream",
          "text": [
            "/usr/local/lib/python3.6/dist-packages/ipykernel_launcher.py:5: TqdmDeprecationWarning: This function will be removed in tqdm==5.0.0\n",
            "Please use `tqdm.notebook.tqdm` instead of `tqdm.tqdm_notebook`\n",
            "  \"\"\"\n"
          ],
          "name": "stderr"
        },
        {
          "output_type": "display_data",
          "data": {
            "application/vnd.jupyter.widget-view+json": {
              "model_id": "12ab217f1bae490f8a6ddb56a5dabe53",
              "version_minor": 0,
              "version_major": 2
            },
            "text/plain": [
              "HBox(children=(FloatProgress(value=0.0, max=74267.0), HTML(value='')))"
            ]
          },
          "metadata": {
            "tags": []
          }
        },
        {
          "output_type": "stream",
          "text": [
            "\n"
          ],
          "name": "stdout"
        }
      ]
    },
    {
      "cell_type": "code",
      "metadata": {
        "colab": {
          "base_uri": "https://localhost:8080/",
          "height": 202
        },
        "id": "aRYfTlvYEEec",
        "outputId": "36b73a13-791c-4ca2-d54b-e79a89bb569a"
      },
      "source": [
        "transformed_ratings_train.head(5)"
      ],
      "execution_count": null,
      "outputs": [
        {
          "output_type": "execute_result",
          "data": {
            "text/html": [
              "<div>\n",
              "<style scoped>\n",
              "    .dataframe tbody tr th:only-of-type {\n",
              "        vertical-align: middle;\n",
              "    }\n",
              "\n",
              "    .dataframe tbody tr th {\n",
              "        vertical-align: top;\n",
              "    }\n",
              "\n",
              "    .dataframe thead th {\n",
              "        text-align: right;\n",
              "    }\n",
              "</style>\n",
              "<table border=\"1\" class=\"dataframe\">\n",
              "  <thead>\n",
              "    <tr style=\"text-align: right;\">\n",
              "      <th></th>\n",
              "      <th>userID</th>\n",
              "      <th>artistID</th>\n",
              "      <th>cb_rating</th>\n",
              "      <th>cf_rating</th>\n",
              "      <th>weight</th>\n",
              "    </tr>\n",
              "  </thead>\n",
              "  <tbody>\n",
              "    <tr>\n",
              "      <th>0</th>\n",
              "      <td>990</td>\n",
              "      <td>6762</td>\n",
              "      <td>0.002093</td>\n",
              "      <td>0.001892</td>\n",
              "      <td>0.000729</td>\n",
              "    </tr>\n",
              "    <tr>\n",
              "      <th>1</th>\n",
              "      <td>990</td>\n",
              "      <td>3112</td>\n",
              "      <td>0.002093</td>\n",
              "      <td>0.001536</td>\n",
              "      <td>0.001559</td>\n",
              "    </tr>\n",
              "    <tr>\n",
              "      <th>2</th>\n",
              "      <td>990</td>\n",
              "      <td>620</td>\n",
              "      <td>0.002093</td>\n",
              "      <td>0.001794</td>\n",
              "      <td>0.001267</td>\n",
              "    </tr>\n",
              "    <tr>\n",
              "      <th>3</th>\n",
              "      <td>990</td>\n",
              "      <td>1151</td>\n",
              "      <td>0.002093</td>\n",
              "      <td>0.001430</td>\n",
              "      <td>0.000740</td>\n",
              "    </tr>\n",
              "    <tr>\n",
              "      <th>4</th>\n",
              "      <td>990</td>\n",
              "      <td>1709</td>\n",
              "      <td>0.002093</td>\n",
              "      <td>0.001623</td>\n",
              "      <td>0.001902</td>\n",
              "    </tr>\n",
              "  </tbody>\n",
              "</table>\n",
              "</div>"
            ],
            "text/plain": [
              "   userID  artistID  cb_rating  cf_rating    weight\n",
              "0     990      6762   0.002093   0.001892  0.000729\n",
              "1     990      3112   0.002093   0.001536  0.001559\n",
              "2     990       620   0.002093   0.001794  0.001267\n",
              "3     990      1151   0.002093   0.001430  0.000740\n",
              "4     990      1709   0.002093   0.001623  0.001902"
            ]
          },
          "metadata": {
            "tags": []
          },
          "execution_count": 65
        }
      ]
    },
    {
      "cell_type": "code",
      "metadata": {
        "colab": {
          "base_uri": "https://localhost:8080/"
        },
        "id": "XQWHHmEkG7CV",
        "outputId": "986d97c6-a389-4de9-9ae9-f9b895b0d9de"
      },
      "source": [
        "artist_data.loc[artist_data['artistID']==1943].name"
      ],
      "execution_count": null,
      "outputs": [
        {
          "output_type": "execute_result",
          "data": {
            "text/plain": [
              "1928    Flying Lotus\n",
              "Name: name, dtype: object"
            ]
          },
          "metadata": {
            "tags": []
          },
          "execution_count": 66
        }
      ]
    },
    {
      "cell_type": "code",
      "metadata": {
        "colab": {
          "base_uri": "https://localhost:8080/"
        },
        "id": "R9TzrLroLRXL",
        "outputId": "94a7a252-3f6d-4492-ebb0-d570985a43b5"
      },
      "source": [
        "transformed_ratings_train.shape"
      ],
      "execution_count": null,
      "outputs": [
        {
          "output_type": "execute_result",
          "data": {
            "text/plain": [
              "(74267, 5)"
            ]
          },
          "metadata": {
            "tags": []
          },
          "execution_count": 67
        }
      ]
    },
    {
      "cell_type": "code",
      "metadata": {
        "id": "CtgOxJj2LslD"
      },
      "source": [
        "#Funciones Atributos\r\n",
        "\r\n",
        "from collections import defaultdict\r\n",
        "\r\n",
        "user_mean_rating = defaultdict(\r\n",
        "    lambda: transformed_ratings_train[\"weight\"].sum(),\r\n",
        "    transformed_ratings_train.groupby(\"userID\")[\"weight\"].sum().to_dict()\r\n",
        ")\r\n",
        "user_num_rating = defaultdict(\r\n",
        "    lambda: 0,\r\n",
        "    transformed_ratings_train.groupby(\"userID\").size().to_dict()\r\n",
        ")\r\n",
        "\r\n",
        "def feature_function_constant():\r\n",
        "    return 1\r\n",
        "\r\n",
        "def feature_function_mean(user_id): # Media de rating que devuelve el usuario\r\n",
        "    return user_mean_rating[user_id]\r\n",
        "\r\n",
        "def feature_function_over(user_id, min_ratings=3): # Si el usuario puntuo más de 3 ratings\r\n",
        "    return int(user_num_rating[user_id] >= min_ratings)"
      ],
      "execution_count": null,
      "outputs": []
    },
    {
      "cell_type": "code",
      "metadata": {
        "id": "uIC5udqMLv5I"
      },
      "source": [
        "for base_model in [\"cb\", \"cf\"]:\r\n",
        "    transformed_ratings_train[\"{}_rating_fc\".format(base_model)] =\\\r\n",
        "        transformed_ratings_train.apply(\r\n",
        "            lambda row: row[\"{}_rating\".format(base_model)] * feature_function_constant(),\r\n",
        "            axis=1\r\n",
        "        )\r\n",
        "    transformed_ratings_train[\"{}_rating_fm\".format(base_model)] =\\\r\n",
        "        transformed_ratings_train.apply(\r\n",
        "            lambda row: row[\"{}_rating\".format(base_model)] * feature_function_mean(row[\"userID\"]),\r\n",
        "            axis=1\r\n",
        "        )\r\n",
        "    transformed_ratings_train[\"{}_rating_fo\".format(base_model)] =\\\r\n",
        "        transformed_ratings_train.apply(\r\n",
        "            lambda row: row[\"{}_rating\".format(base_model)] * feature_function_over(row[\"userID\"]),\r\n",
        "            axis=1\r\n",
        "        )"
      ],
      "execution_count": null,
      "outputs": []
    },
    {
      "cell_type": "markdown",
      "metadata": {
        "id": "xP_f2xkEjmSs"
      },
      "source": [
        "## Evaluación del modelo"
      ]
    },
    {
      "cell_type": "code",
      "metadata": {
        "colab": {
          "base_uri": "https://localhost:8080/"
        },
        "id": "sKIYZ8ANLzTV",
        "outputId": "2a4013e9-af58-432d-9e6b-48f37c331b74"
      },
      "source": [
        "from sklearn.linear_model import LinearRegression\r\n",
        "\r\n",
        "fwls_model = LinearRegression()\r\n",
        "\r\n",
        "feature_cols = [\"{}_rating_{}\".format(fm, ff) for fm in [\"cb\", \"cf\"] for ff in [\"fc\", \"fo\", \"fm\"]]\r\n",
        "\r\n",
        "fwls_model.fit(\r\n",
        "    transformed_ratings_train[feature_cols],\r\n",
        "    transformed_ratings_train[\"weight\"]\r\n",
        ")"
      ],
      "execution_count": null,
      "outputs": [
        {
          "output_type": "execute_result",
          "data": {
            "text/plain": [
              "LinearRegression(copy_X=True, fit_intercept=True, n_jobs=None, normalize=False)"
            ]
          },
          "metadata": {
            "tags": []
          },
          "execution_count": 70
        }
      ]
    },
    {
      "cell_type": "code",
      "metadata": {
        "id": "OpeS1r0fL3JV",
        "colab": {
          "base_uri": "https://localhost:8080/",
          "height": 118,
          "referenced_widgets": [
            "945c2a4ae0ba413eba4cb9cd09a70eb0",
            "d2349a8399fa4e42bcc0dd9b1c8da20d",
            "f4dcb7433d5743aeb60c8f06365d17cd",
            "0629b140d9dc4d06b555f19c43c6f415",
            "eaee379d5a0f4cef95dd58bb80cd1da4",
            "3a4190877eb2484b99f3a814af96dcae",
            "9999369485a74017a7e85389be923059",
            "6b3298377ea141c68541610a211e1ea2"
          ]
        },
        "outputId": "d2b91bbe-ddc8-44b6-eea2-b5e78c46160f"
      },
      "source": [
        "# Paso 5: Evaluamos el modelo.\r\n",
        "# A - Cargamos los datos con el conjunto de test.\r\n",
        "transformed_ratings_test = []\r\n",
        "\r\n",
        "for u, m, r in tqdm_notebook(ratings_test):\r\n",
        "    transformed_ratings_test.append({\r\n",
        "        \"userID\": u,\r\n",
        "        \"movieId\": m,\r\n",
        "        \"cb_rating\": cb_model.predict(u, m),\r\n",
        "        \"cf_rating\": test_model.predict(u, m).est,\r\n",
        "        \"weight\": r\r\n",
        "    })\r\n",
        "\r\n",
        "transformed_ratings_test = pd.DataFrame(transformed_ratings_test)"
      ],
      "execution_count": null,
      "outputs": [
        {
          "output_type": "stream",
          "text": [
            "/usr/local/lib/python3.6/dist-packages/ipykernel_launcher.py:5: TqdmDeprecationWarning: This function will be removed in tqdm==5.0.0\n",
            "Please use `tqdm.notebook.tqdm` instead of `tqdm.tqdm_notebook`\n",
            "  \"\"\"\n"
          ],
          "name": "stderr"
        },
        {
          "output_type": "display_data",
          "data": {
            "application/vnd.jupyter.widget-view+json": {
              "model_id": "945c2a4ae0ba413eba4cb9cd09a70eb0",
              "version_minor": 0,
              "version_major": 2
            },
            "text/plain": [
              "HBox(children=(FloatProgress(value=0.0, max=18567.0), HTML(value='')))"
            ]
          },
          "metadata": {
            "tags": []
          }
        },
        {
          "output_type": "stream",
          "text": [
            "\n"
          ],
          "name": "stdout"
        }
      ]
    },
    {
      "cell_type": "code",
      "metadata": {
        "id": "E2LlzfwUL5fe"
      },
      "source": [
        "for base_model in [\"cb\", \"cf\"]:\r\n",
        "    transformed_ratings_test[\"{}_rating_fc\".format(base_model)] =\\\r\n",
        "        transformed_ratings_test.apply(\r\n",
        "            lambda row: row[\"{}_rating\".format(base_model)] * feature_function_constant(),\r\n",
        "            axis=1\r\n",
        "        )\r\n",
        "    transformed_ratings_test[\"{}_rating_fm\".format(base_model)] =\\\r\n",
        "        transformed_ratings_test.apply(\r\n",
        "            lambda row: row[\"{}_rating\".format(base_model)] * feature_function_mean(row[\"userID\"]),\r\n",
        "            axis=1\r\n",
        "        )\r\n",
        "    transformed_ratings_test[\"{}_rating_fo\".format(base_model)] =\\\r\n",
        "        transformed_ratings_test.apply(\r\n",
        "            lambda row: row[\"{}_rating\".format(base_model)] * feature_function_over(row[\"userID\"]),\r\n",
        "            axis=1\r\n",
        "        )\r\n",
        "\r\n",
        "transformed_ratings_test[\"fwls_rating\"] = fwls_model.predict(transformed_ratings_test[feature_cols])"
      ],
      "execution_count": null,
      "outputs": []
    },
    {
      "cell_type": "code",
      "metadata": {
        "colab": {
          "base_uri": "https://localhost:8080/",
          "height": 202
        },
        "id": "U7Aj8ACBDYq4",
        "outputId": "9824a7f0-29c5-45de-dad3-41648fdc50ce"
      },
      "source": [
        "transformed_ratings_test.head(5)"
      ],
      "execution_count": null,
      "outputs": [
        {
          "output_type": "execute_result",
          "data": {
            "text/html": [
              "<div>\n",
              "<style scoped>\n",
              "    .dataframe tbody tr th:only-of-type {\n",
              "        vertical-align: middle;\n",
              "    }\n",
              "\n",
              "    .dataframe tbody tr th {\n",
              "        vertical-align: top;\n",
              "    }\n",
              "\n",
              "    .dataframe thead th {\n",
              "        text-align: right;\n",
              "    }\n",
              "</style>\n",
              "<table border=\"1\" class=\"dataframe\">\n",
              "  <thead>\n",
              "    <tr style=\"text-align: right;\">\n",
              "      <th></th>\n",
              "      <th>userID</th>\n",
              "      <th>movieId</th>\n",
              "      <th>cb_rating</th>\n",
              "      <th>cf_rating</th>\n",
              "      <th>weight</th>\n",
              "      <th>cb_rating_fc</th>\n",
              "      <th>cb_rating_fm</th>\n",
              "      <th>cb_rating_fo</th>\n",
              "      <th>cf_rating_fc</th>\n",
              "      <th>cf_rating_fm</th>\n",
              "      <th>cf_rating_fo</th>\n",
              "      <th>fwls_rating</th>\n",
              "    </tr>\n",
              "  </thead>\n",
              "  <tbody>\n",
              "    <tr>\n",
              "      <th>0</th>\n",
              "      <td>1454</td>\n",
              "      <td>182</td>\n",
              "      <td>0.002093</td>\n",
              "      <td>0.001681</td>\n",
              "      <td>0.000973</td>\n",
              "      <td>0.002093</td>\n",
              "      <td>0.000206</td>\n",
              "      <td>0.002093</td>\n",
              "      <td>0.001681</td>\n",
              "      <td>1.656690e-04</td>\n",
              "      <td>0.001681</td>\n",
              "      <td>0.000826</td>\n",
              "    </tr>\n",
              "    <tr>\n",
              "      <th>1</th>\n",
              "      <td>714</td>\n",
              "      <td>862</td>\n",
              "      <td>0.002093</td>\n",
              "      <td>0.000438</td>\n",
              "      <td>0.000232</td>\n",
              "      <td>0.002093</td>\n",
              "      <td>0.000027</td>\n",
              "      <td>0.002093</td>\n",
              "      <td>0.000438</td>\n",
              "      <td>5.732123e-06</td>\n",
              "      <td>0.000438</td>\n",
              "      <td>0.001637</td>\n",
              "    </tr>\n",
              "    <tr>\n",
              "      <th>2</th>\n",
              "      <td>714</td>\n",
              "      <td>3432</td>\n",
              "      <td>0.002093</td>\n",
              "      <td>0.001733</td>\n",
              "      <td>0.000278</td>\n",
              "      <td>0.002093</td>\n",
              "      <td>0.000027</td>\n",
              "      <td>0.002093</td>\n",
              "      <td>0.001733</td>\n",
              "      <td>2.268242e-05</td>\n",
              "      <td>0.001733</td>\n",
              "      <td>0.003872</td>\n",
              "    </tr>\n",
              "    <tr>\n",
              "      <th>3</th>\n",
              "      <td>1594</td>\n",
              "      <td>8710</td>\n",
              "      <td>0.002093</td>\n",
              "      <td>0.002531</td>\n",
              "      <td>0.002739</td>\n",
              "      <td>0.002093</td>\n",
              "      <td>0.000243</td>\n",
              "      <td>0.002093</td>\n",
              "      <td>0.002531</td>\n",
              "      <td>2.934477e-04</td>\n",
              "      <td>0.002531</td>\n",
              "      <td>0.001978</td>\n",
              "    </tr>\n",
              "    <tr>\n",
              "      <th>4</th>\n",
              "      <td>365</td>\n",
              "      <td>6166</td>\n",
              "      <td>0.002093</td>\n",
              "      <td>0.000583</td>\n",
              "      <td>0.000026</td>\n",
              "      <td>0.002093</td>\n",
              "      <td>0.000003</td>\n",
              "      <td>0.002093</td>\n",
              "      <td>0.000583</td>\n",
              "      <td>8.565108e-07</td>\n",
              "      <td>0.000583</td>\n",
              "      <td>0.002331</td>\n",
              "    </tr>\n",
              "  </tbody>\n",
              "</table>\n",
              "</div>"
            ],
            "text/plain": [
              "   userID  movieId  cb_rating  ...  cf_rating_fm  cf_rating_fo  fwls_rating\n",
              "0    1454      182   0.002093  ...  1.656690e-04      0.001681     0.000826\n",
              "1     714      862   0.002093  ...  5.732123e-06      0.000438     0.001637\n",
              "2     714     3432   0.002093  ...  2.268242e-05      0.001733     0.003872\n",
              "3    1594     8710   0.002093  ...  2.934477e-04      0.002531     0.001978\n",
              "4     365     6166   0.002093  ...  8.565108e-07      0.000583     0.002331\n",
              "\n",
              "[5 rows x 12 columns]"
            ]
          },
          "metadata": {
            "tags": []
          },
          "execution_count": 73
        }
      ]
    },
    {
      "cell_type": "code",
      "metadata": {
        "colab": {
          "base_uri": "https://localhost:8080/"
        },
        "id": "Mh9cHReZDeOt",
        "outputId": "8ed81ea5-ecb6-4fa1-ad69-30a030c0f366"
      },
      "source": [
        "from sklearn.metrics import mean_squared_error\r\n",
        "\r\n",
        "for model in [\"cf\", \"cb\", \"fwls\"]:\r\n",
        "    rmse = np.sqrt(\r\n",
        "        mean_squared_error(\r\n",
        "            transformed_ratings_test[\"weight\"],\r\n",
        "            transformed_ratings_test[\"{}_rating\".format(model)]\r\n",
        "        )\r\n",
        "    )\r\n",
        "    \r\n",
        "    print(\"RMSE for {} model: {:03f}\".format(model, rmse))"
      ],
      "execution_count": null,
      "outputs": [
        {
          "output_type": "stream",
          "text": [
            "RMSE for cf model: 0.012232\n",
            "RMSE for cb model: 0.012363\n",
            "RMSE for fwls model: 0.040036\n"
          ],
          "name": "stdout"
        }
      ]
    },
    {
      "cell_type": "code",
      "metadata": {
        "id": "eR9Ql3XXEWdg"
      },
      "source": [
        "\r\n",
        "# avg ratings and rating counts\r\n",
        "avg_rating = transformed_ratings_test.groupby(\"movieId\")[\"fwls_rating\"].mean()\r\n",
        "num_ratings = transformed_ratings_test.groupby(\"movieId\")[\"fwls_rating\"].count()\r\n",
        "# getting counts and average ratings\r\n",
        "fwls_ratings_counts = pd.DataFrame({\"avg_rating\": avg_rating,\r\n",
        "                               \"num_of_ratings\": num_ratings})\r\n",
        "# joining the new values to movie data\r\n",
        "full_artist_data_fwls = pd.merge(transformed_ratings_test, fwls_ratings_counts, left_on=\"movieId\", right_index=True)"
      ],
      "execution_count": null,
      "outputs": []
    },
    {
      "cell_type": "code",
      "metadata": {
        "id": "z0_quqzdFxxj"
      },
      "source": [
        "full_artist_data_fwls = full_artist_data_fwls.rename(columns = {'movieId': 'artistID'}, inplace = False)\r\n",
        "transformed_ratings_test = transformed_ratings_test.rename(columns = {'movieId': 'artistID'}, inplace = False)\r\n",
        "artist_pivot_fwls = transformed_ratings_test.pivot_table(index='userID', \r\n",
        "                            columns='artistID', values='fwls_rating').fillna(0)"
      ],
      "execution_count": null,
      "outputs": []
    },
    {
      "cell_type": "code",
      "metadata": {
        "colab": {
          "base_uri": "https://localhost:8080/",
          "height": 356
        },
        "id": "MUWk1iI3b_Yl",
        "outputId": "0dc35a8a-f04d-438c-99ec-7cbd5d359071"
      },
      "source": [
        "artist_group = pd.merge(artist_data, user_artist_plays, on=[\"artistID\"]).groupby(['artistID','name'])['weight'].sum().reset_index()\r\n",
        "art_most_listened = art_agr.sort_values(by='weight', ascending=False).head(10)\r\n",
        "art_most_listened"
      ],
      "execution_count": null,
      "outputs": [
        {
          "output_type": "execute_result",
          "data": {
            "text/html": [
              "<div>\n",
              "<style scoped>\n",
              "    .dataframe tbody tr th:only-of-type {\n",
              "        vertical-align: middle;\n",
              "    }\n",
              "\n",
              "    .dataframe tbody tr th {\n",
              "        vertical-align: top;\n",
              "    }\n",
              "\n",
              "    .dataframe thead th {\n",
              "        text-align: right;\n",
              "    }\n",
              "</style>\n",
              "<table border=\"1\" class=\"dataframe\">\n",
              "  <thead>\n",
              "    <tr style=\"text-align: right;\">\n",
              "      <th></th>\n",
              "      <th>artistID</th>\n",
              "      <th>name</th>\n",
              "      <th>weight</th>\n",
              "    </tr>\n",
              "  </thead>\n",
              "  <tbody>\n",
              "    <tr>\n",
              "      <th>283</th>\n",
              "      <td>289</td>\n",
              "      <td>Britney Spears</td>\n",
              "      <td>2393140</td>\n",
              "    </tr>\n",
              "    <tr>\n",
              "      <th>66</th>\n",
              "      <td>72</td>\n",
              "      <td>Depeche Mode</td>\n",
              "      <td>1301308</td>\n",
              "    </tr>\n",
              "    <tr>\n",
              "      <th>83</th>\n",
              "      <td>89</td>\n",
              "      <td>Lady Gaga</td>\n",
              "      <td>1291387</td>\n",
              "    </tr>\n",
              "    <tr>\n",
              "      <th>286</th>\n",
              "      <td>292</td>\n",
              "      <td>Christina Aguilera</td>\n",
              "      <td>1058405</td>\n",
              "    </tr>\n",
              "    <tr>\n",
              "      <th>492</th>\n",
              "      <td>498</td>\n",
              "      <td>Paramore</td>\n",
              "      <td>963449</td>\n",
              "    </tr>\n",
              "    <tr>\n",
              "      <th>61</th>\n",
              "      <td>67</td>\n",
              "      <td>Madonna</td>\n",
              "      <td>921198</td>\n",
              "    </tr>\n",
              "    <tr>\n",
              "      <th>282</th>\n",
              "      <td>288</td>\n",
              "      <td>Rihanna</td>\n",
              "      <td>905423</td>\n",
              "    </tr>\n",
              "    <tr>\n",
              "      <th>695</th>\n",
              "      <td>701</td>\n",
              "      <td>Shakira</td>\n",
              "      <td>688529</td>\n",
              "    </tr>\n",
              "    <tr>\n",
              "      <th>221</th>\n",
              "      <td>227</td>\n",
              "      <td>The Beatles</td>\n",
              "      <td>662116</td>\n",
              "    </tr>\n",
              "    <tr>\n",
              "      <th>294</th>\n",
              "      <td>300</td>\n",
              "      <td>Katy Perry</td>\n",
              "      <td>532545</td>\n",
              "    </tr>\n",
              "  </tbody>\n",
              "</table>\n",
              "</div>"
            ],
            "text/plain": [
              "     artistID                name   weight\n",
              "283       289      Britney Spears  2393140\n",
              "66         72        Depeche Mode  1301308\n",
              "83         89           Lady Gaga  1291387\n",
              "286       292  Christina Aguilera  1058405\n",
              "492       498            Paramore   963449\n",
              "61         67             Madonna   921198\n",
              "282       288             Rihanna   905423\n",
              "695       701             Shakira   688529\n",
              "221       227         The Beatles   662116\n",
              "294       300          Katy Perry   532545"
            ]
          },
          "metadata": {
            "tags": []
          },
          "execution_count": 104
        }
      ]
    },
    {
      "cell_type": "code",
      "metadata": {
        "id": "tgqI7k8nF1ZP"
      },
      "source": [
        "def get_similar_artist(full_artist_data: pd.DataFrame,\r\n",
        "                       artist_matrix: pd.DataFrame,\r\n",
        "                       artist_id: int,\r\n",
        "                       min_num_of_ratings: int = 10,\r\n",
        "                       n_recommendations: int = 10\r\n",
        "                       ):\r\n",
        "    \"\"\"\r\n",
        "    Get similar artist based on correlation with other artist \r\n",
        "    \"\"\"\r\n",
        "    if len(full_artist_data[full_artist_data.artistID==artist_id])>0:\r\n",
        "        # get most correlated artist\r\n",
        "        similar_artist = artist_matrix.corrwith(artist_matrix[artist_id])\r\n",
        "        # converting to a dataframe and dropping NaN's\r\n",
        "        similar_corr_df = pd.DataFrame({\"correlation\":similar_artist})\r\n",
        "        similar_corr_df.dropna(inplace=True)\r\n",
        "\r\n",
        "        # store the oringinal dataframe\r\n",
        "        orig = full_artist_data.copy()\r\n",
        "\r\n",
        "        # merge with correlated dataframe but only keep specified columns\r\n",
        "        corr_with_artist = pd.merge(left=similar_corr_df,\r\n",
        "                                   right=orig, \r\n",
        "                                   on=\"artistID\")[\r\n",
        "            [\"artistID\", \"correlation\", \"avg_rating\", \"num_of_ratings\"]].drop_duplicates().reset_index(drop=True)\r\n",
        "\r\n",
        "        # filter artist with less than min_num_of_ratings\r\n",
        "        result = corr_with_artist[corr_with_artist['num_of_ratings'] > min_num_of_ratings].sort_values(\r\n",
        "                                                                                         by='correlation',\r\n",
        "                                                                                         ascending=False)\r\n",
        "        return result.iloc[1:, :].head(n_recommendations)\r\n",
        "    else:\r\n",
        "        return art_most_listened.iloc[1:,:].head(n_recommendations)"
      ],
      "execution_count": null,
      "outputs": []
    },
    {
      "cell_type": "code",
      "metadata": {
        "colab": {
          "base_uri": "https://localhost:8080/",
          "height": 356
        },
        "id": "GFfzsboOF2iz",
        "outputId": "19278eb6-0283-40b3-9ab9-eb1099ded2fe"
      },
      "source": [
        "# test function on deleted ids - 6054: BEATLES\r\n",
        "result = get_similar_artist(full_artist_data_fwls, artist_pivot_fwls, 6054, n_recommendations = 10 )\r\n",
        "result"
      ],
      "execution_count": null,
      "outputs": [
        {
          "output_type": "execute_result",
          "data": {
            "text/html": [
              "<div>\n",
              "<style scoped>\n",
              "    .dataframe tbody tr th:only-of-type {\n",
              "        vertical-align: middle;\n",
              "    }\n",
              "\n",
              "    .dataframe tbody tr th {\n",
              "        vertical-align: top;\n",
              "    }\n",
              "\n",
              "    .dataframe thead th {\n",
              "        text-align: right;\n",
              "    }\n",
              "</style>\n",
              "<table border=\"1\" class=\"dataframe\">\n",
              "  <thead>\n",
              "    <tr style=\"text-align: right;\">\n",
              "      <th></th>\n",
              "      <th>artistID</th>\n",
              "      <th>correlation</th>\n",
              "      <th>avg_rating</th>\n",
              "      <th>num_of_ratings</th>\n",
              "    </tr>\n",
              "  </thead>\n",
              "  <tbody>\n",
              "    <tr>\n",
              "      <th>1018</th>\n",
              "      <td>1400</td>\n",
              "      <td>0.300476</td>\n",
              "      <td>0.002547</td>\n",
              "      <td>29</td>\n",
              "    </tr>\n",
              "    <tr>\n",
              "      <th>999</th>\n",
              "      <td>1376</td>\n",
              "      <td>0.259948</td>\n",
              "      <td>0.002035</td>\n",
              "      <td>14</td>\n",
              "    </tr>\n",
              "    <tr>\n",
              "      <th>157</th>\n",
              "      <td>225</td>\n",
              "      <td>0.259718</td>\n",
              "      <td>0.002202</td>\n",
              "      <td>24</td>\n",
              "    </tr>\n",
              "    <tr>\n",
              "      <th>309</th>\n",
              "      <td>423</td>\n",
              "      <td>0.216134</td>\n",
              "      <td>0.002856</td>\n",
              "      <td>19</td>\n",
              "    </tr>\n",
              "    <tr>\n",
              "      <th>164</th>\n",
              "      <td>233</td>\n",
              "      <td>0.199486</td>\n",
              "      <td>0.003649</td>\n",
              "      <td>26</td>\n",
              "    </tr>\n",
              "    <tr>\n",
              "      <th>124</th>\n",
              "      <td>190</td>\n",
              "      <td>0.048254</td>\n",
              "      <td>0.004225</td>\n",
              "      <td>70</td>\n",
              "    </tr>\n",
              "    <tr>\n",
              "      <th>141</th>\n",
              "      <td>207</td>\n",
              "      <td>0.046205</td>\n",
              "      <td>0.004495</td>\n",
              "      <td>50</td>\n",
              "    </tr>\n",
              "    <tr>\n",
              "      <th>593</th>\n",
              "      <td>797</td>\n",
              "      <td>0.000089</td>\n",
              "      <td>-0.000039</td>\n",
              "      <td>12</td>\n",
              "    </tr>\n",
              "    <tr>\n",
              "      <th>1494</th>\n",
              "      <td>2137</td>\n",
              "      <td>-0.000136</td>\n",
              "      <td>0.000060</td>\n",
              "      <td>11</td>\n",
              "    </tr>\n",
              "    <tr>\n",
              "      <th>234</th>\n",
              "      <td>320</td>\n",
              "      <td>-0.000300</td>\n",
              "      <td>0.000241</td>\n",
              "      <td>25</td>\n",
              "    </tr>\n",
              "  </tbody>\n",
              "</table>\n",
              "</div>"
            ],
            "text/plain": [
              "      artistID  correlation  avg_rating  num_of_ratings\n",
              "1018      1400     0.300476    0.002547              29\n",
              "999       1376     0.259948    0.002035              14\n",
              "157        225     0.259718    0.002202              24\n",
              "309        423     0.216134    0.002856              19\n",
              "164        233     0.199486    0.003649              26\n",
              "124        190     0.048254    0.004225              70\n",
              "141        207     0.046205    0.004495              50\n",
              "593        797     0.000089   -0.000039              12\n",
              "1494      2137    -0.000136    0.000060              11\n",
              "234        320    -0.000300    0.000241              25"
            ]
          },
          "metadata": {
            "tags": []
          },
          "execution_count": 101
        }
      ]
    },
    {
      "cell_type": "code",
      "metadata": {
        "colab": {
          "base_uri": "https://localhost:8080/",
          "height": 356
        },
        "id": "phiPke1gZFmg",
        "outputId": "46c73851-7bdb-44b1-c7a4-0d0ebfec92c3"
      },
      "source": [
        "# Artists related info\r\n",
        "artist_data[artist_data.artistID.isin(result.artistID.tolist())]"
      ],
      "execution_count": null,
      "outputs": [
        {
          "output_type": "execute_result",
          "data": {
            "text/html": [
              "<div>\n",
              "<style scoped>\n",
              "    .dataframe tbody tr th:only-of-type {\n",
              "        vertical-align: middle;\n",
              "    }\n",
              "\n",
              "    .dataframe tbody tr th {\n",
              "        vertical-align: top;\n",
              "    }\n",
              "\n",
              "    .dataframe thead th {\n",
              "        text-align: right;\n",
              "    }\n",
              "</style>\n",
              "<table border=\"1\" class=\"dataframe\">\n",
              "  <thead>\n",
              "    <tr style=\"text-align: right;\">\n",
              "      <th></th>\n",
              "      <th>artistID</th>\n",
              "      <th>name</th>\n",
              "      <th>url</th>\n",
              "      <th>pictureURL</th>\n",
              "    </tr>\n",
              "  </thead>\n",
              "  <tbody>\n",
              "    <tr>\n",
              "      <th>184</th>\n",
              "      <td>190</td>\n",
              "      <td>Muse</td>\n",
              "      <td>http://www.last.fm/music/Muse</td>\n",
              "      <td>http://userserve-ak.last.fm/serve/252/416514.jpg</td>\n",
              "    </tr>\n",
              "    <tr>\n",
              "      <th>201</th>\n",
              "      <td>207</td>\n",
              "      <td>Arctic Monkeys</td>\n",
              "      <td>http://www.last.fm/music/Arctic+Monkeys</td>\n",
              "      <td>http://userserve-ak.last.fm/serve/252/33550647...</td>\n",
              "    </tr>\n",
              "    <tr>\n",
              "      <th>219</th>\n",
              "      <td>225</td>\n",
              "      <td>Interpol</td>\n",
              "      <td>http://www.last.fm/music/Interpol</td>\n",
              "      <td>http://userserve-ak.last.fm/serve/252/50656.jpg</td>\n",
              "    </tr>\n",
              "    <tr>\n",
              "      <th>227</th>\n",
              "      <td>233</td>\n",
              "      <td>Nine Inch Nails</td>\n",
              "      <td>http://www.last.fm/music/Nine+Inch+Nails</td>\n",
              "      <td>http://userserve-ak.last.fm/serve/252/29014025...</td>\n",
              "    </tr>\n",
              "    <tr>\n",
              "      <th>314</th>\n",
              "      <td>320</td>\n",
              "      <td>Fergie</td>\n",
              "      <td>http://www.last.fm/music/Fergie</td>\n",
              "      <td>http://userserve-ak.last.fm/serve/252/39646735...</td>\n",
              "    </tr>\n",
              "    <tr>\n",
              "      <th>417</th>\n",
              "      <td>423</td>\n",
              "      <td>Bat for Lashes</td>\n",
              "      <td>http://www.last.fm/music/Bat+for+Lashes</td>\n",
              "      <td>http://userserve-ak.last.fm/serve/252/58240359...</td>\n",
              "    </tr>\n",
              "    <tr>\n",
              "      <th>788</th>\n",
              "      <td>797</td>\n",
              "      <td>Emily Osment</td>\n",
              "      <td>http://www.last.fm/music/Emily+Osment</td>\n",
              "      <td>http://userserve-ak.last.fm/serve/252/52100869...</td>\n",
              "    </tr>\n",
              "    <tr>\n",
              "      <th>1367</th>\n",
              "      <td>1376</td>\n",
              "      <td>White Lies</td>\n",
              "      <td>http://www.last.fm/music/White+Lies</td>\n",
              "      <td>http://userserve-ak.last.fm/serve/252/42495115...</td>\n",
              "    </tr>\n",
              "    <tr>\n",
              "      <th>1391</th>\n",
              "      <td>1400</td>\n",
              "      <td>MGMT</td>\n",
              "      <td>http://www.last.fm/music/MGMT</td>\n",
              "      <td>http://userserve-ak.last.fm/serve/252/18032577...</td>\n",
              "    </tr>\n",
              "    <tr>\n",
              "      <th>2122</th>\n",
              "      <td>2137</td>\n",
              "      <td>Two Door Cinema Club</td>\n",
              "      <td>http://www.last.fm/music/Two+Door+Cinema+Club</td>\n",
              "      <td>http://userserve-ak.last.fm/serve/252/53274683...</td>\n",
              "    </tr>\n",
              "  </tbody>\n",
              "</table>\n",
              "</div>"
            ],
            "text/plain": [
              "      artistID  ...                                         pictureURL\n",
              "184        190  ...   http://userserve-ak.last.fm/serve/252/416514.jpg\n",
              "201        207  ...  http://userserve-ak.last.fm/serve/252/33550647...\n",
              "219        225  ...    http://userserve-ak.last.fm/serve/252/50656.jpg\n",
              "227        233  ...  http://userserve-ak.last.fm/serve/252/29014025...\n",
              "314        320  ...  http://userserve-ak.last.fm/serve/252/39646735...\n",
              "417        423  ...  http://userserve-ak.last.fm/serve/252/58240359...\n",
              "788        797  ...  http://userserve-ak.last.fm/serve/252/52100869...\n",
              "1367      1376  ...  http://userserve-ak.last.fm/serve/252/42495115...\n",
              "1391      1400  ...  http://userserve-ak.last.fm/serve/252/18032577...\n",
              "2122      2137  ...  http://userserve-ak.last.fm/serve/252/53274683...\n",
              "\n",
              "[10 rows x 4 columns]"
            ]
          },
          "metadata": {
            "tags": []
          },
          "execution_count": 105
        }
      ]
    },
    {
      "cell_type": "markdown",
      "metadata": {
        "id": "tC3kUER6wjsU"
      },
      "source": [
        "## Conclusión"
      ]
    },
    {
      "cell_type": "markdown",
      "metadata": {
        "id": "AJp_f0k_wn7W"
      },
      "source": [
        "Como podemos observar, en el ejemplo ingresamos The Beatles con el fin de obtener recomendaciones de otras bandas similares y los resultados fueron bastante buenos ya que las bandas que obtuvimos son pertenecientes al género alternativo y/o de origen inglesas. \r\n",
        "A pesar de obtener resultados razonables en esta primera versión, somos conscientes de que pueden ser mejorables en una próxima versión del sistema y así obtener recomendaciones aún más próximas al input ingresado."
      ]
    }
  ]
}